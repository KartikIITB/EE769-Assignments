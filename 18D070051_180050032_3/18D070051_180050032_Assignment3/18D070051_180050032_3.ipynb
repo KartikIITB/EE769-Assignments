{
 "cells": [
  {
   "cell_type": "markdown",
   "metadata": {},
   "source": [
    "## 3. PCA\n",
    "\n",
    "For this question, the following tasks have been undertaken:\n",
    "\n",
    "1. Visualizing the data from the file DataPCA.csv.\n",
    "2. Training PCA. \n",
    "3. Plotting the variance explained versus PCA dimensions. \n",
    "4. Reconstructing the data with various number of PCA dimensions and computing their MSE with respect to the original data."
   ]
  },
  {
   "cell_type": "code",
   "execution_count": 49,
   "metadata": {},
   "outputs": [],
   "source": [
    "import sklearn as sk\n",
    "import numpy as np\n",
    "import pandas as pd\n",
    "import matplotlib.pyplot as plt\n",
    "import seaborn as sns\n",
    "from sklearn.preprocessing import StandardScaler\n",
    "from sklearn.decomposition import PCA\n",
    "from sklearn.metrics import mean_squared_error\n",
    "\n",
    "\n",
    "%matplotlib inline"
   ]
  },
  {
   "cell_type": "markdown",
   "metadata": {},
   "source": [
    "### Part a\n",
    "\n",
    "We shall first visualize the data."
   ]
  },
  {
   "cell_type": "code",
   "execution_count": 2,
   "metadata": {},
   "outputs": [
    {
     "data": {
      "text/html": [
       "<div>\n",
       "<style scoped>\n",
       "    .dataframe tbody tr th:only-of-type {\n",
       "        vertical-align: middle;\n",
       "    }\n",
       "\n",
       "    .dataframe tbody tr th {\n",
       "        vertical-align: top;\n",
       "    }\n",
       "\n",
       "    .dataframe thead th {\n",
       "        text-align: right;\n",
       "    }\n",
       "</style>\n",
       "<table border=\"1\" class=\"dataframe\">\n",
       "  <thead>\n",
       "    <tr style=\"text-align: right;\">\n",
       "      <th></th>\n",
       "      <th>x1</th>\n",
       "      <th>x2</th>\n",
       "      <th>x3</th>\n",
       "      <th>x4</th>\n",
       "      <th>x5</th>\n",
       "      <th>x6</th>\n",
       "      <th>x7</th>\n",
       "    </tr>\n",
       "  </thead>\n",
       "  <tbody>\n",
       "    <tr>\n",
       "      <th>0</th>\n",
       "      <td>0.840261</td>\n",
       "      <td>-1.088160</td>\n",
       "      <td>4.861744</td>\n",
       "      <td>4.273055</td>\n",
       "      <td>4.312457</td>\n",
       "      <td>-0.137834</td>\n",
       "      <td>0.076453</td>\n",
       "    </tr>\n",
       "    <tr>\n",
       "      <th>1</th>\n",
       "      <td>1.320591</td>\n",
       "      <td>-1.174113</td>\n",
       "      <td>5.247360</td>\n",
       "      <td>3.295027</td>\n",
       "      <td>4.283410</td>\n",
       "      <td>-0.363759</td>\n",
       "      <td>-0.170605</td>\n",
       "    </tr>\n",
       "    <tr>\n",
       "      <th>2</th>\n",
       "      <td>1.537909</td>\n",
       "      <td>-1.175882</td>\n",
       "      <td>5.556251</td>\n",
       "      <td>3.394183</td>\n",
       "      <td>3.971574</td>\n",
       "      <td>-0.888398</td>\n",
       "      <td>0.080617</td>\n",
       "    </tr>\n",
       "    <tr>\n",
       "      <th>3</th>\n",
       "      <td>0.363552</td>\n",
       "      <td>-1.130608</td>\n",
       "      <td>4.329890</td>\n",
       "      <td>5.547488</td>\n",
       "      <td>4.539732</td>\n",
       "      <td>0.342330</td>\n",
       "      <td>0.251953</td>\n",
       "    </tr>\n",
       "    <tr>\n",
       "      <th>4</th>\n",
       "      <td>1.567938</td>\n",
       "      <td>-1.114719</td>\n",
       "      <td>5.542104</td>\n",
       "      <td>2.493071</td>\n",
       "      <td>4.156157</td>\n",
       "      <td>-0.609694</td>\n",
       "      <td>-0.291367</td>\n",
       "    </tr>\n",
       "  </tbody>\n",
       "</table>\n",
       "</div>"
      ],
      "text/plain": [
       "         x1        x2        x3        x4        x5        x6        x7\n",
       "0  0.840261 -1.088160  4.861744  4.273055  4.312457 -0.137834  0.076453\n",
       "1  1.320591 -1.174113  5.247360  3.295027  4.283410 -0.363759 -0.170605\n",
       "2  1.537909 -1.175882  5.556251  3.394183  3.971574 -0.888398  0.080617\n",
       "3  0.363552 -1.130608  4.329890  5.547488  4.539732  0.342330  0.251953\n",
       "4  1.567938 -1.114719  5.542104  2.493071  4.156157 -0.609694 -0.291367"
      ]
     },
     "execution_count": 2,
     "metadata": {},
     "output_type": "execute_result"
    }
   ],
   "source": [
    "df1 = pd.read_csv(\"DataPCA.csv\")\n",
    "df1.head()"
   ]
  },
  {
   "cell_type": "code",
   "execution_count": 3,
   "metadata": {},
   "outputs": [
    {
     "data": {
      "image/png": "[encoded data removed]",
      "text/plain": [
       "<Figure size 1080x720 with 9 Axes>"
      ]
     },
     "metadata": {
      "needs_background": "light"
     },
     "output_type": "display_data"
    }
   ],
   "source": [
    "df1[['x1', 'x2', 'x3',\n",
    "       'x4', 'x5', 'x6', 'x7']].hist(figsize=(15,10))\n",
    "plt.tight_layout()"
   ]
  },
  {
   "cell_type": "markdown",
   "metadata": {},
   "source": [
    "We observe that the data provided is reasonably distributed. We shall scale the data next using the standard scaler. \n",
    "\n",
    "Reference:\n",
    "\n",
    "1. https://scikit-learn.org/stable/modules/generated/sklearn.preprocessing.StandardScaler.html"
   ]
  },
  {
   "cell_type": "code",
   "execution_count": 4,
   "metadata": {},
   "outputs": [
    {
     "data": {
      "text/html": [
       "<div>\n",
       "<style scoped>\n",
       "    .dataframe tbody tr th:only-of-type {\n",
       "        vertical-align: middle;\n",
       "    }\n",
       "\n",
       "    .dataframe tbody tr th {\n",
       "        vertical-align: top;\n",
       "    }\n",
       "\n",
       "    .dataframe thead th {\n",
       "        text-align: right;\n",
       "    }\n",
       "</style>\n",
       "<table border=\"1\" class=\"dataframe\">\n",
       "  <thead>\n",
       "    <tr style=\"text-align: right;\">\n",
       "      <th></th>\n",
       "      <th>x1</th>\n",
       "      <th>x2</th>\n",
       "      <th>x3</th>\n",
       "      <th>x4</th>\n",
       "      <th>x5</th>\n",
       "      <th>x6</th>\n",
       "      <th>x7</th>\n",
       "    </tr>\n",
       "  </thead>\n",
       "  <tbody>\n",
       "    <tr>\n",
       "      <th>0</th>\n",
       "      <td>-0.879702</td>\n",
       "      <td>0.203581</td>\n",
       "      <td>-0.717812</td>\n",
       "      <td>0.937130</td>\n",
       "      <td>0.240310</td>\n",
       "      <td>0.572178</td>\n",
       "      <td>0.817830</td>\n",
       "    </tr>\n",
       "    <tr>\n",
       "      <th>1</th>\n",
       "      <td>0.066901</td>\n",
       "      <td>-0.164833</td>\n",
       "      <td>-0.013778</td>\n",
       "      <td>-0.047812</td>\n",
       "      <td>0.151606</td>\n",
       "      <td>0.102283</td>\n",
       "      <td>-0.215624</td>\n",
       "    </tr>\n",
       "    <tr>\n",
       "      <th>2</th>\n",
       "      <td>0.495178</td>\n",
       "      <td>-0.172416</td>\n",
       "      <td>0.550176</td>\n",
       "      <td>0.052044</td>\n",
       "      <td>-0.800676</td>\n",
       "      <td>-0.988900</td>\n",
       "      <td>0.835247</td>\n",
       "    </tr>\n",
       "    <tr>\n",
       "      <th>3</th>\n",
       "      <td>-1.819170</td>\n",
       "      <td>0.021640</td>\n",
       "      <td>-1.688840</td>\n",
       "      <td>2.220573</td>\n",
       "      <td>0.934360</td>\n",
       "      <td>1.570859</td>\n",
       "      <td>1.551955</td>\n",
       "    </tr>\n",
       "    <tr>\n",
       "      <th>4</th>\n",
       "      <td>0.554357</td>\n",
       "      <td>0.089743</td>\n",
       "      <td>0.524348</td>\n",
       "      <td>-0.855438</td>\n",
       "      <td>-0.236998</td>\n",
       "      <td>-0.409231</td>\n",
       "      <td>-0.720773</td>\n",
       "    </tr>\n",
       "  </tbody>\n",
       "</table>\n",
       "</div>"
      ],
      "text/plain": [
       "         x1        x2        x3        x4        x5        x6        x7\n",
       "0 -0.879702  0.203581 -0.717812  0.937130  0.240310  0.572178  0.817830\n",
       "1  0.066901 -0.164833 -0.013778 -0.047812  0.151606  0.102283 -0.215624\n",
       "2  0.495178 -0.172416  0.550176  0.052044 -0.800676 -0.988900  0.835247\n",
       "3 -1.819170  0.021640 -1.688840  2.220573  0.934360  1.570859  1.551955\n",
       "4  0.554357  0.089743  0.524348 -0.855438 -0.236998 -0.409231 -0.720773"
      ]
     },
     "execution_count": 4,
     "metadata": {},
     "output_type": "execute_result"
    }
   ],
   "source": [
    "scaler = StandardScaler()\n",
    "scaler.fit(df1)\n",
    "X_scale = scaler.transform(df1)\n",
    "\n",
    "df_scale = pd.DataFrame(X_scale, columns=df1.columns)\n",
    "df_scale.head()"
   ]
  },
  {
   "cell_type": "markdown",
   "metadata": {},
   "source": [
    "### Part b\n",
    "\n",
    "After scaling the data, we train the PCA model.\n",
    "\n",
    "Reference:\n",
    "\n",
    "1. https://scikit-learn.org/stable/modules/generated/sklearn.decomposition.PCA.html"
   ]
  },
  {
   "cell_type": "code",
   "execution_count": 5,
   "metadata": {},
   "outputs": [],
   "source": [
    "# Train PCA \n",
    "pca = PCA().fit(df_scale)   "
   ]
  },
  {
   "cell_type": "code",
   "execution_count": 6,
   "metadata": {},
   "outputs": [
    {
     "name": "stdout",
     "output_type": "stream",
     "text": [
      "[6.09270567e-01 3.19460967e-01 6.49562011e-02 6.07238580e-03\n",
      " 2.16027661e-04 1.98460843e-05 4.00494511e-06]\n",
      "[[ 0.43317128  0.10688441  0.47876303 -0.44964211 -0.37624049 -0.45319076\n",
      "  -0.15035799]\n",
      " [-0.27755113  0.58261645  0.07397819  0.20409753 -0.41973091 -0.10010361\n",
      "   0.59177707]\n",
      " [-0.17626997  0.65002822  0.05259511 -0.28649785  0.06206424  0.44281272\n",
      "  -0.51147813]\n",
      " [ 0.55915884  0.03818838  0.45641243  0.39746127  0.04595249  0.54178701\n",
      "   0.15475942]\n",
      " [-0.11037788 -0.09304976 -0.01507989  0.59615727 -0.5428373  -0.09666457\n",
      "  -0.56525322]\n",
      " [-0.5428688  -0.12514317  0.73396168  0.12268238  0.33143193 -0.15132589\n",
      "  -0.05599364]\n",
      " [ 0.29104723  0.44812909 -0.12372342  0.38164805  0.52133099 -0.51257933\n",
      "  -0.13778803]]\n"
     ]
    }
   ],
   "source": [
    "print(pca.explained_variance_ratio_)\n",
    "print(pca.components_)"
   ]
  },
  {
   "cell_type": "code",
   "execution_count": 7,
   "metadata": {},
   "outputs": [],
   "source": [
    "# calculate percentage of variation that each pricipal component accounts for\n",
    "per_vari = np.round(pca.explained_variance_ratio_ * 100, decimals=1)"
   ]
  },
  {
   "cell_type": "code",
   "execution_count": 8,
   "metadata": {},
   "outputs": [
    {
     "data": {
      "text/plain": [
       "array([60.9, 31.9,  6.5,  0.6,  0. ,  0. ,  0. ])"
      ]
     },
     "execution_count": 8,
     "metadata": {},
     "output_type": "execute_result"
    }
   ],
   "source": [
    "per_vari"
   ]
  },
  {
   "cell_type": "code",
   "execution_count": 9,
   "metadata": {},
   "outputs": [],
   "source": [
    "labels = ['PC' + str(x) for x in range(1, len(per_vari)+1)]"
   ]
  },
  {
   "cell_type": "code",
   "execution_count": 10,
   "metadata": {},
   "outputs": [
    {
     "data": {
      "text/plain": [
       "['PC1', 'PC2', 'PC3', 'PC4', 'PC5', 'PC6', 'PC7']"
      ]
     },
     "execution_count": 10,
     "metadata": {},
     "output_type": "execute_result"
    }
   ],
   "source": [
    "labels"
   ]
  },
  {
   "cell_type": "markdown",
   "metadata": {},
   "source": [
    "### Part c \n",
    "\n",
    "We now plot the variance explained versus PCA dimensions."
   ]
  },
  {
   "cell_type": "code",
   "execution_count": 11,
   "metadata": {},
   "outputs": [
    {
     "data": {
      "image/png": "[encoded data removed]",
      "text/plain": [
       "<Figure size 432x288 with 1 Axes>"
      ]
     },
     "metadata": {
      "needs_background": "light"
     },
     "output_type": "display_data"
    }
   ],
   "source": [
    "# perpare for the Scree plot\n",
    "plt.bar(x=range(1,len(per_vari)+1), height=per_vari, tick_label=labels)\n",
    "plt.ylabel('Percentage of Explained Variance')\n",
    "plt.xlabel('Principal Component')\n",
    "plt.title('Scree Plot')\n",
    "plt.show()"
   ]
  },
  {
   "cell_type": "markdown",
   "metadata": {},
   "source": [
    "From the above, we observe that the order of principal components corresponds to the magnitude of explained variance by the corresponding component."
   ]
  },
  {
   "cell_type": "markdown",
   "metadata": {},
   "source": [
    "### Part d\n",
    "\n",
    "We attempt to reconstruct the data using the principal components and calculate the MSE."
   ]
  },
  {
   "cell_type": "code",
   "execution_count": 51,
   "metadata": {},
   "outputs": [],
   "source": [
    "## Now lets use the first principal component\n",
    "# Train PCA \n",
    "def calc_mse( df_orig, n_comp = 1): \n",
    "  pca1 = PCA(n_components=n_comp).fit(df_orig)   \n",
    "  pca1_data = pca1.transform(df_orig)\n",
    "  pca1_projected = pca1.inverse_transform(pca1_data)\n",
    "  data_pca1_flatten = pca1_projected.flatten()\n",
    "  data_original_flatten = df_orig.to_numpy().flatten()\n",
    "  mse = mean_squared_error(data_original_flatten, data_pca1_flatten)\n",
    "  return mse"
   ]
  },
  {
   "cell_type": "code",
   "execution_count": 52,
   "metadata": {},
   "outputs": [
    {
     "name": "stdout",
     "output_type": "stream",
     "text": [
      "0.39072943283022843\n",
      "0.07126846555354302\n",
      "0.0063122644854415886\n",
      "0.00023987869019137411\n",
      "2.3851029452934035e-05\n",
      "4.004945107075576e-06\n",
      "2.7427532366523315e-31\n"
     ]
    }
   ],
   "source": [
    "# for 1 - 7 components can be done in a loop as well\n",
    "mse1 = calc_mse(df_scale, 1)\n",
    "print(mse1)\n",
    "mse2 = calc_mse(df_scale, 2)\n",
    "print(mse2)\n",
    "mse3 = calc_mse(df_scale, 3)\n",
    "print(mse3)\n",
    "mse4 = calc_mse(df_scale, 4)\n",
    "print(mse4)\n",
    "mse5 = calc_mse(df_scale, 5)\n",
    "print(mse5)\n",
    "mse6 = calc_mse(df_scale, 6)\n",
    "print(mse6)\n",
    "mse7 = calc_mse(df_scale, 7)\n",
    "print(mse7)"
   ]
  },
  {
   "cell_type": "code",
   "execution_count": 54,
   "metadata": {},
   "outputs": [],
   "source": [
    "x = [ 1, 2, 3, 4, 5, 6, 7]\n",
    "y = [ mse1, mse2, mse3, mse4, mse5, mse6, mse7]"
   ]
  },
  {
   "cell_type": "code",
   "execution_count": 56,
   "metadata": {},
   "outputs": [
    {
     "data": {
      "image/png": "[encoded data removed]",
      "text/plain": [
       "<Figure size 432x288 with 1 Axes>"
      ]
     },
     "metadata": {
      "needs_background": "light"
     },
     "output_type": "display_data"
    }
   ],
   "source": [
    "plt.plot(x,y)\n",
    "plt.ylabel('Reconstruction MSE')\n",
    "plt.xlabel('Number of components')\n",
    "plt.show()"
   ]
  },
  {
   "cell_type": "markdown",
   "metadata": {},
   "source": [
    "From the above plot, we observe that the reconstruction error decreases as the number of principal components increase but the decrease slows down significantly after the third component."
   ]
  }
 ],
 "metadata": {
  "interpreter": {
   "hash": "e1c9875af6f869f561486f801169fa3bad0acd0c693a6a6887952c792704b96b"
  },
  "kernelspec": {
   "display_name": "Python 3.9.1 64-bit",
   "language": "python",
   "name": "python3"
  },
  "language_info": {
   "codemirror_mode": {
    "name": "ipython",
    "version": 3
   },
   "file_extension": ".py",
   "mimetype": "text/x-python",
   "name": "python",
   "nbconvert_exporter": "python",
   "pygments_lexer": "ipython3",
   "version": "3.9.1"
  },
  "orig_nbformat": 4
 },
 "nbformat": 4,
 "nbformat_minor": 2
}
