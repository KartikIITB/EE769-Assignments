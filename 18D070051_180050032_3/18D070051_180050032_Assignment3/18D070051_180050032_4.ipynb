{
 "cells": [
  {
   "cell_type": "markdown",
   "metadata": {},
   "source": [
    "## 4. Non-linear dimension reduction\n",
    "\n",
    "For this question, the following tasks have been undertaken:\n",
    "\n",
    "1. Visualizing the data from the file DataKPCA.csv.\n",
    "2. Training KPCA. \n",
    "3. Plotting the variance explained versus KPCA dimensions for up to 10 dimensions. "
   ]
  },
  {
   "cell_type": "code",
   "execution_count": 8,
   "metadata": {},
   "outputs": [],
   "source": [
    "import sklearn as sk\n",
    "import numpy as np\n",
    "import pandas as pd\n",
    "import matplotlib.pyplot as plt\n",
    "import seaborn as sns\n",
    "from sklearn.preprocessing import StandardScaler\n",
    "from sklearn.decomposition import KernelPCA as kpca\n",
    "from sklearn.metrics import mean_squared_error\n",
    "\n",
    "\n",
    "%matplotlib inline"
   ]
  },
  {
   "cell_type": "markdown",
   "metadata": {},
   "source": [
    "### Part a\n",
    "\n",
    "We shall first visualize the data."
   ]
  },
  {
   "cell_type": "code",
   "execution_count": 9,
   "metadata": {},
   "outputs": [
    {
     "data": {
      "text/html": [
       "<div>\n",
       "<style scoped>\n",
       "    .dataframe tbody tr th:only-of-type {\n",
       "        vertical-align: middle;\n",
       "    }\n",
       "\n",
       "    .dataframe tbody tr th {\n",
       "        vertical-align: top;\n",
       "    }\n",
       "\n",
       "    .dataframe thead th {\n",
       "        text-align: right;\n",
       "    }\n",
       "</style>\n",
       "<table border=\"1\" class=\"dataframe\">\n",
       "  <thead>\n",
       "    <tr style=\"text-align: right;\">\n",
       "      <th></th>\n",
       "      <th>x1</th>\n",
       "      <th>x2</th>\n",
       "      <th>x3</th>\n",
       "      <th>x4</th>\n",
       "      <th>x5</th>\n",
       "      <th>x6</th>\n",
       "      <th>x7</th>\n",
       "    </tr>\n",
       "  </thead>\n",
       "  <tbody>\n",
       "    <tr>\n",
       "      <th>0</th>\n",
       "      <td>2.596641</td>\n",
       "      <td>15.263178</td>\n",
       "      <td>-46.289607</td>\n",
       "      <td>-10.993265</td>\n",
       "      <td>-2.266729</td>\n",
       "      <td>1.935832</td>\n",
       "      <td>2.039688</td>\n",
       "    </tr>\n",
       "    <tr>\n",
       "      <th>1</th>\n",
       "      <td>3.096286</td>\n",
       "      <td>14.784802</td>\n",
       "      <td>-48.175614</td>\n",
       "      <td>-8.799362</td>\n",
       "      <td>-2.220871</td>\n",
       "      <td>1.851201</td>\n",
       "      <td>1.921974</td>\n",
       "    </tr>\n",
       "    <tr>\n",
       "      <th>2</th>\n",
       "      <td>3.360246</td>\n",
       "      <td>14.774917</td>\n",
       "      <td>-49.471841</td>\n",
       "      <td>-9.030501</td>\n",
       "      <td>-1.760447</td>\n",
       "      <td>1.753114</td>\n",
       "      <td>2.041933</td>\n",
       "    </tr>\n",
       "    <tr>\n",
       "      <th>3</th>\n",
       "      <td>2.214819</td>\n",
       "      <td>15.027394</td>\n",
       "      <td>-43.200400</td>\n",
       "      <td>-13.565001</td>\n",
       "      <td>-2.643018</td>\n",
       "      <td>2.200463</td>\n",
       "      <td>2.141847</td>\n",
       "    </tr>\n",
       "    <tr>\n",
       "      <th>4</th>\n",
       "      <td>3.398576</td>\n",
       "      <td>15.115756</td>\n",
       "      <td>-49.416644</td>\n",
       "      <td>-6.857672</td>\n",
       "      <td>-2.025936</td>\n",
       "      <td>1.788085</td>\n",
       "      <td>1.875540</td>\n",
       "    </tr>\n",
       "  </tbody>\n",
       "</table>\n",
       "</div>"
      ],
      "text/plain": [
       "         x1         x2         x3         x4        x5        x6        x7\n",
       "0  2.596641  15.263178 -46.289607 -10.993265 -2.266729  1.935832  2.039688\n",
       "1  3.096286  14.784802 -48.175614  -8.799362 -2.220871  1.851201  1.921974\n",
       "2  3.360246  14.774917 -49.471841  -9.030501 -1.760447  1.753114  2.041933\n",
       "3  2.214819  15.027394 -43.200400 -13.565001 -2.643018  2.200463  2.141847\n",
       "4  3.398576  15.115756 -49.416644  -6.857672 -2.025936  1.788085  1.875540"
      ]
     },
     "execution_count": 9,
     "metadata": {},
     "output_type": "execute_result"
    }
   ],
   "source": [
    "df1 = pd.read_csv(\"DataKPCA.csv\")\n",
    "df1.head()"
   ]
  },
  {
   "cell_type": "code",
   "execution_count": 10,
   "metadata": {},
   "outputs": [
    {
     "data": {
      "image/png": "[encoded data removed]",
      "text/plain": [
       "<Figure size 1080x720 with 9 Axes>"
      ]
     },
     "metadata": {
      "needs_background": "light"
     },
     "output_type": "display_data"
    }
   ],
   "source": [
    "df1[['x1', 'x2', 'x3',\n",
    "       'x4', 'x5', 'x6', 'x7']].hist(figsize=(15,10))\n",
    "plt.tight_layout()"
   ]
  },
  {
   "cell_type": "markdown",
   "metadata": {},
   "source": [
    "We observe that the data provided is reasonably distributed. We shall scale the data next using the standard scaler. "
   ]
  },
  {
   "cell_type": "code",
   "execution_count": 11,
   "metadata": {},
   "outputs": [
    {
     "data": {
      "text/html": [
       "<div>\n",
       "<style scoped>\n",
       "    .dataframe tbody tr th:only-of-type {\n",
       "        vertical-align: middle;\n",
       "    }\n",
       "\n",
       "    .dataframe tbody tr th {\n",
       "        vertical-align: top;\n",
       "    }\n",
       "\n",
       "    .dataframe thead th {\n",
       "        text-align: right;\n",
       "    }\n",
       "</style>\n",
       "<table border=\"1\" class=\"dataframe\">\n",
       "  <thead>\n",
       "    <tr style=\"text-align: right;\">\n",
       "      <th></th>\n",
       "      <th>x1</th>\n",
       "      <th>x2</th>\n",
       "      <th>x3</th>\n",
       "      <th>x4</th>\n",
       "      <th>x5</th>\n",
       "      <th>x6</th>\n",
       "      <th>x7</th>\n",
       "    </tr>\n",
       "  </thead>\n",
       "  <tbody>\n",
       "    <tr>\n",
       "      <th>0</th>\n",
       "      <td>-0.893531</td>\n",
       "      <td>0.214228</td>\n",
       "      <td>0.660423</td>\n",
       "      <td>-0.935894</td>\n",
       "      <td>-0.180173</td>\n",
       "      <td>0.263020</td>\n",
       "      <td>0.750311</td>\n",
       "    </tr>\n",
       "    <tr>\n",
       "      <th>1</th>\n",
       "      <td>-0.043014</td>\n",
       "      <td>-0.155081</td>\n",
       "      <td>-0.108467</td>\n",
       "      <td>0.005283</td>\n",
       "      <td>-0.089272</td>\n",
       "      <td>-0.268499</td>\n",
       "      <td>-0.334918</td>\n",
       "    </tr>\n",
       "    <tr>\n",
       "      <th>2</th>\n",
       "      <td>0.406310</td>\n",
       "      <td>-0.162711</td>\n",
       "      <td>-0.636915</td>\n",
       "      <td>-0.093875</td>\n",
       "      <td>0.823388</td>\n",
       "      <td>-0.884520</td>\n",
       "      <td>0.771011</td>\n",
       "    </tr>\n",
       "    <tr>\n",
       "      <th>3</th>\n",
       "      <td>-1.543484</td>\n",
       "      <td>0.032201</td>\n",
       "      <td>1.919837</td>\n",
       "      <td>-2.039160</td>\n",
       "      <td>-0.926059</td>\n",
       "      <td>1.924996</td>\n",
       "      <td>1.692138</td>\n",
       "    </tr>\n",
       "    <tr>\n",
       "      <th>4</th>\n",
       "      <td>0.471557</td>\n",
       "      <td>0.100418</td>\n",
       "      <td>-0.614413</td>\n",
       "      <td>0.838262</td>\n",
       "      <td>0.297131</td>\n",
       "      <td>-0.664890</td>\n",
       "      <td>-0.762999</td>\n",
       "    </tr>\n",
       "  </tbody>\n",
       "</table>\n",
       "</div>"
      ],
      "text/plain": [
       "         x1        x2        x3        x4        x5        x6        x7\n",
       "0 -0.893531  0.214228  0.660423 -0.935894 -0.180173  0.263020  0.750311\n",
       "1 -0.043014 -0.155081 -0.108467  0.005283 -0.089272 -0.268499 -0.334918\n",
       "2  0.406310 -0.162711 -0.636915 -0.093875  0.823388 -0.884520  0.771011\n",
       "3 -1.543484  0.032201  1.919837 -2.039160 -0.926059  1.924996  1.692138\n",
       "4  0.471557  0.100418 -0.614413  0.838262  0.297131 -0.664890 -0.762999"
      ]
     },
     "execution_count": 11,
     "metadata": {},
     "output_type": "execute_result"
    }
   ],
   "source": [
    "scaler = StandardScaler()\n",
    "scaler.fit(df1)\n",
    "X_scale = scaler.transform(df1)\n",
    "\n",
    "df_scale = pd.DataFrame(X_scale, columns=df1.columns)\n",
    "df_scale.head()"
   ]
  },
  {
   "cell_type": "markdown",
   "metadata": {},
   "source": [
    "### Part b\n",
    "\n",
    "After scaling the data, we shall train the KPCA model for 10 components, using the rbf kernel.\n",
    "\n",
    "The RBF kernel is the Radial Basis Function kernel. RBF kernels are the most generalized form of kernelization and is one of the most widely used kernels due to its similarity to the Gaussian distribution. \n",
    "\n",
    "References:\n",
    "\n",
    "1. https://scikit-learn.org/stable/modules/generated/sklearn.decomposition.KernelPCA.html\n",
    "2. https://towardsdatascience.com/radial-basis-function-rbf-kernel-the-go-to-kernel-acf0d22c798a"
   ]
  },
  {
   "cell_type": "code",
   "execution_count": 26,
   "metadata": {},
   "outputs": [],
   "source": [
    "# Train PCA \n",
    "kpca1 = kpca(kernel='rbf', n_components = 10).fit(df_scale)   "
   ]
  },
  {
   "cell_type": "markdown",
   "metadata": {},
   "source": [
    "K-PCA does not have explained_variance_ratio_ like PCA.  This is because after the kernel transformation the data/vectors live in different feature space.\n",
    "\n",
    "References:\n",
    " \n",
    "1. https://stackoverflow.com/questions/29611842/scikit-learn-kernel-pca-explained-variancea"
   ]
  },
  {
   "cell_type": "code",
   "execution_count": 27,
   "metadata": {},
   "outputs": [],
   "source": [
    "kpca_transform = kpca1.transform(df_scale)\n",
    "explained_variance = np.var(kpca_transform, axis=0)\n",
    "explained_variance_ratio = explained_variance / np.sum(explained_variance)"
   ]
  },
  {
   "cell_type": "code",
   "execution_count": 28,
   "metadata": {},
   "outputs": [],
   "source": [
    "# calculate percentage of variation that each pricipal component accounts for\n",
    "per_vari = np.round(explained_variance_ratio * 100, decimals=1)\n",
    "labels = ['PC' + str(x) for x in range(1, len(per_vari)+1)]"
   ]
  },
  {
   "cell_type": "markdown",
   "metadata": {},
   "source": [
    "### Part c  \n",
    "\n",
    "Plotting of variance explained vs. KPCA dimensions."
   ]
  },
  {
   "cell_type": "code",
   "execution_count": 29,
   "metadata": {},
   "outputs": [
    {
     "data": {
      "image/png": "[encoded data removed]",
      "text/plain": [
       "<Figure size 432x288 with 1 Axes>"
      ]
     },
     "metadata": {
      "needs_background": "light"
     },
     "output_type": "display_data"
    }
   ],
   "source": [
    "# perpare for plotting\n",
    "plt.bar(x=range(1,len(per_vari)+1), height=per_vari, tick_label=labels)\n",
    "plt.ylabel('Percentage of Explained Variance')\n",
    "plt.xlabel('Principal Component')\n",
    "plt.title('KPCA Dimension vs. Variance Explained')\n",
    "plt.show()"
   ]
  },
  {
   "cell_type": "markdown",
   "metadata": {},
   "source": [
    "From the above plot, we observe that lower order dimensions explain more variance as compared to higher order dimensions."
   ]
  }
 ],
 "metadata": {
  "interpreter": {
   "hash": "e1c9875af6f869f561486f801169fa3bad0acd0c693a6a6887952c792704b96b"
  },
  "kernelspec": {
   "display_name": "Python 3.9.1 64-bit",
   "language": "python",
   "name": "python3"
  },
  "language_info": {
   "codemirror_mode": {
    "name": "ipython",
    "version": 3
   },
   "file_extension": ".py",
   "mimetype": "text/x-python",
   "name": "python",
   "nbconvert_exporter": "python",
   "pygments_lexer": "ipython3",
   "version": "3.9.1"
  },
  "orig_nbformat": 4
 },
 "nbformat": 4,
 "nbformat_minor": 2
}
