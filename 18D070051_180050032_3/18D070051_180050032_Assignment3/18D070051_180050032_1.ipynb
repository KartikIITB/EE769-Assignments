{
  "cells": [
    {
      "cell_type": "markdown",
      "source": [
        "# 1. Convolution Neural Network"
      ],
      "metadata": {
        "id": "eWtf296xrG6F"
      }
    },
    {
      "cell_type": "code",
      "execution_count": null,
      "metadata": {
        "id": "7YtfP4TDw3Ia"
      },
      "outputs": [],
      "source": [
        "%matplotlib inline"
      ]
    },
    {
      "cell_type": "markdown",
      "metadata": {
        "id": "FEAdVV3Rw3Ic"
      },
      "source": [
        "\n",
        "Transfer Learning for Computer Vision Tutorial\n",
        "==============================================\n",
        "**Author**: `Sasank Chilamkurthy <https://chsasank.github.io>`_\n",
        "\n",
        "In this tutorial, you will learn how to train a convolutional neural network for\n",
        "image classification using transfer learning. You can read more about the transfer\n",
        "learning at `cs231n notes <https://cs231n.github.io/transfer-learning/>`__\n",
        "\n",
        "Quoting these notes,\n",
        "\n",
        "    In practice, very few people train an entire Convolutional Network\n",
        "    from scratch (with random initialization), because it is relatively\n",
        "    rare to have a dataset of sufficient size. Instead, it is common to\n",
        "    pretrain a ConvNet on a very large dataset (e.g. ImageNet, which\n",
        "    contains 1.2 million images with 1000 categories), and then use the\n",
        "    ConvNet either as an initialization or a fixed feature extractor for\n",
        "    the task of interest.\n",
        "\n",
        "These two major transfer learning scenarios look as follows:\n",
        "\n",
        "-  **Finetuning the convnet**: Instead of random initialization, we\n",
        "   initialize the network with a pretrained network, like the one that is\n",
        "   trained on imagenet 1000 dataset. Rest of the training looks as\n",
        "   usual.\n",
        "-  **ConvNet as fixed feature extractor**: Here, we will freeze the weights\n",
        "   for all of the network except that of the final fully connected\n",
        "   layer. This last fully connected layer is replaced with a new one\n",
        "   with random weights and only this layer is trained.\n"
      ]
    },
    {
      "cell_type": "markdown",
      "source": [
        "Problem 1: \n",
        "a. Copy and study the starter code (until “ConvNet as fixed feature extractor”) given by \n",
        "Sasank (CTO of Qure.ai, pytorch contributor, and alumnus of IITB) for classifying ants \n",
        "vs. bees: https://pytorch.org/tutorials/beginner/transfer_learning_tutorial.html. The \n",
        "key feature of this code is that it does not train a model from scratch, but uses \n",
        "transfer learning of a ResNet-18 architecture that is pre-trained on a large dataset \n",
        "(ImageNet) and then only fine-tunes it for the problem at hand.\n",
        "\n",
        "b. Modify the code to run on co-lab without any new features. [1]\n",
        "\n",
        "c. Modify the code to plot validation loss and accuracy after every training epoch. [2]\n",
        "\n",
        "d. Change the learning rate, momentum, and number of epochs at least three times to \n",
        "see the net effect on final validation loss and accuracy and its speed of convergence.\n",
        "https://pytorch.org/docs/stable/optim.html [1]\n",
        "\n",
        "e. Introduce weight decay (L2 penalty on weights) and find a good value for the weight \n",
        "decay factor. [1]\n"
      ],
      "metadata": {
        "id": "8WVOBLdLbeFH"
      }
    },
    {
      "cell_type": "code",
      "execution_count": null,
      "metadata": {
        "id": "W9KJeoHaw3Ie"
      },
      "outputs": [],
      "source": [
        "# License: BSD\n",
        "# Author: Sasank Chilamkurthy\n",
        "\n",
        "from __future__ import print_function, division\n",
        "\n",
        "import torch\n",
        "import torch.nn as nn\n",
        "import torch.optim as optim\n",
        "from torch.optim import lr_scheduler\n",
        "import torch.backends.cudnn as cudnn\n",
        "import numpy as np\n",
        "import torchvision\n",
        "from torchvision import datasets, models, transforms\n",
        "import matplotlib.pyplot as plt\n",
        "import time\n",
        "import os\n",
        "import copy\n",
        "\n",
        "\n",
        "cudnn.benchmark = True\n",
        "plt.ion()   # interactive mode"
      ]
    },
    {
      "cell_type": "markdown",
      "metadata": {
        "id": "1dlWZ_Hlw3If"
      },
      "source": [
        "Load Data\n",
        "---------\n",
        "\n",
        "We will use torchvision and torch.utils.data packages for loading the\n",
        "data.\n",
        "\n",
        "The problem we're going to solve today is to train a model to classify\n",
        "**ants** and **bees**. We have about 120 training images each for ants and bees.\n",
        "There are 75 validation images for each class. Usually, this is a very\n",
        "small dataset to generalize upon, if trained from scratch. Since we\n",
        "are using transfer learning, we should be able to generalize reasonably\n",
        "well.\n",
        "\n",
        "This dataset is a very small subset of imagenet.\n",
        "\n",
        ".. Note ::\n",
        "   Download the data from\n",
        "   `here <https://download.pytorch.org/tutorial/hymenoptera_data.zip>`_\n",
        "   and extract it to the current directory."
      ]
    },
    {
      "cell_type": "markdown",
      "source": [
        "------\n",
        "(Modified Section)\n",
        "------\n",
        "\n",
        "We load the data in Google Drive and mount it to Colab."
      ],
      "metadata": {
        "id": "d_PSKTgSlvwO"
      }
    },
    {
      "cell_type": "code",
      "source": [
        "# Code for loading the data from google drive zip format\n",
        "from google.colab import drive\n",
        "drive.mount('/content/gdrive')"
      ],
      "metadata": {
        "colab": {
          "base_uri": "https://localhost:8080/"
        },
        "id": "_MoUjy98T2dP",
        "outputId": "e3aa83a7-5f7a-491f-c456-453bea93502b"
      },
      "execution_count": null,
      "outputs": [
        {
          "output_type": "stream",
          "name": "stdout",
          "text": [
            "Mounted at /content/gdrive\n"
          ]
        }
      ]
    },
    {
      "cell_type": "markdown",
      "source": [
        "\n",
        "Note: Google Drive mapping should use '\\\\' character before space character"
      ],
      "metadata": {
        "id": "38DY-HZjbF0d"
      }
    },
    {
      "cell_type": "code",
      "source": [
        "!unzip gdrive/My\\ Drive/data1/hymenoptera_data.zip\n"
      ],
      "metadata": {
        "id": "6VISqSJHUgLv",
        "colab": {
          "base_uri": "https://localhost:8080/"
        },
        "outputId": "0ca015d8-a554-4155-86a3-5b320fdfb36c"
      },
      "execution_count": null,
      "outputs": [
        {
          "output_type": "stream",
          "name": "stdout",
          "text": [
            "Archive:  gdrive/My Drive/data1/hymenoptera_data.zip\n",
            "   creating: hymenoptera_data/\n",
            "   creating: hymenoptera_data/train/\n",
            "   creating: hymenoptera_data/train/ants/\n",
            "  inflating: hymenoptera_data/train/ants/0013035.jpg  \n",
            "  inflating: hymenoptera_data/train/ants/1030023514_aad5c608f9.jpg  \n",
            "  inflating: hymenoptera_data/train/ants/1095476100_3906d8afde.jpg  \n",
            "  inflating: hymenoptera_data/train/ants/1099452230_d1949d3250.jpg  \n",
            "  inflating: hymenoptera_data/train/ants/116570827_e9c126745d.jpg  \n",
            "  inflating: hymenoptera_data/train/ants/1225872729_6f0856588f.jpg  \n",
            "  inflating: hymenoptera_data/train/ants/1262877379_64fcada201.jpg  \n",
            "  inflating: hymenoptera_data/train/ants/1269756697_0bce92cdab.jpg  \n",
            "  inflating: hymenoptera_data/train/ants/1286984635_5119e80de1.jpg  \n",
            "  inflating: hymenoptera_data/train/ants/132478121_2a430adea2.jpg  \n",
            "  inflating: hymenoptera_data/train/ants/1360291657_dc248c5eea.jpg  \n",
            "  inflating: hymenoptera_data/train/ants/1368913450_e146e2fb6d.jpg  \n",
            "  inflating: hymenoptera_data/train/ants/1473187633_63ccaacea6.jpg  \n",
            "  inflating: hymenoptera_data/train/ants/148715752_302c84f5a4.jpg  \n",
            "  inflating: hymenoptera_data/train/ants/1489674356_09d48dde0a.jpg  \n",
            "  inflating: hymenoptera_data/train/ants/149244013_c529578289.jpg  \n",
            "  inflating: hymenoptera_data/train/ants/150801003_3390b73135.jpg  \n",
            "  inflating: hymenoptera_data/train/ants/150801171_cd86f17ed8.jpg  \n",
            "  inflating: hymenoptera_data/train/ants/154124431_65460430f2.jpg  \n",
            "  inflating: hymenoptera_data/train/ants/162603798_40b51f1654.jpg  \n",
            "  inflating: hymenoptera_data/train/ants/1660097129_384bf54490.jpg  \n",
            "  inflating: hymenoptera_data/train/ants/167890289_dd5ba923f3.jpg  \n",
            "  inflating: hymenoptera_data/train/ants/1693954099_46d4c20605.jpg  \n",
            "  inflating: hymenoptera_data/train/ants/175998972.jpg  \n",
            "  inflating: hymenoptera_data/train/ants/178538489_bec7649292.jpg  \n",
            "  inflating: hymenoptera_data/train/ants/1804095607_0341701e1c.jpg  \n",
            "  inflating: hymenoptera_data/train/ants/1808777855_2a895621d7.jpg  \n",
            "  inflating: hymenoptera_data/train/ants/188552436_605cc9b36b.jpg  \n",
            "  inflating: hymenoptera_data/train/ants/1917341202_d00a7f9af5.jpg  \n",
            "  inflating: hymenoptera_data/train/ants/1924473702_daa9aacdbe.jpg  \n",
            "  inflating: hymenoptera_data/train/ants/196057951_63bf063b92.jpg  \n",
            "  inflating: hymenoptera_data/train/ants/196757565_326437f5fe.jpg  \n",
            "  inflating: hymenoptera_data/train/ants/201558278_fe4caecc76.jpg  \n",
            "  inflating: hymenoptera_data/train/ants/201790779_527f4c0168.jpg  \n",
            "  inflating: hymenoptera_data/train/ants/2019439677_2db655d361.jpg  \n",
            "  inflating: hymenoptera_data/train/ants/207947948_3ab29d7207.jpg  \n",
            "  inflating: hymenoptera_data/train/ants/20935278_9190345f6b.jpg  \n",
            "  inflating: hymenoptera_data/train/ants/224655713_3956f7d39a.jpg  \n",
            "  inflating: hymenoptera_data/train/ants/2265824718_2c96f485da.jpg  \n",
            "  inflating: hymenoptera_data/train/ants/2265825502_fff99cfd2d.jpg  \n",
            "  inflating: hymenoptera_data/train/ants/226951206_d6bf946504.jpg  \n",
            "  inflating: hymenoptera_data/train/ants/2278278459_6b99605e50.jpg  \n",
            "  inflating: hymenoptera_data/train/ants/2288450226_a6e96e8fdf.jpg  \n",
            "  inflating: hymenoptera_data/train/ants/2288481644_83ff7e4572.jpg  \n",
            "  inflating: hymenoptera_data/train/ants/2292213964_ca51ce4bef.jpg  \n",
            "  inflating: hymenoptera_data/train/ants/24335309_c5ea483bb8.jpg  \n",
            "  inflating: hymenoptera_data/train/ants/245647475_9523dfd13e.jpg  \n",
            "  inflating: hymenoptera_data/train/ants/255434217_1b2b3fe0a4.jpg  \n",
            "  inflating: hymenoptera_data/train/ants/258217966_d9d90d18d3.jpg  \n",
            "  inflating: hymenoptera_data/train/ants/275429470_b2d7d9290b.jpg  \n",
            "  inflating: hymenoptera_data/train/ants/28847243_e79fe052cd.jpg  \n",
            "  inflating: hymenoptera_data/train/ants/318052216_84dff3f98a.jpg  \n",
            "  inflating: hymenoptera_data/train/ants/334167043_cbd1adaeb9.jpg  \n",
            "  inflating: hymenoptera_data/train/ants/339670531_94b75ae47a.jpg  \n",
            "  inflating: hymenoptera_data/train/ants/342438950_a3da61deab.jpg  \n",
            "  inflating: hymenoptera_data/train/ants/36439863_0bec9f554f.jpg  \n",
            "  inflating: hymenoptera_data/train/ants/374435068_7eee412ec4.jpg  \n",
            "  inflating: hymenoptera_data/train/ants/382971067_0bfd33afe0.jpg  \n",
            "  inflating: hymenoptera_data/train/ants/384191229_5779cf591b.jpg  \n",
            "  inflating: hymenoptera_data/train/ants/386190770_672743c9a7.jpg  \n",
            "  inflating: hymenoptera_data/train/ants/392382602_1b7bed32fa.jpg  \n",
            "  inflating: hymenoptera_data/train/ants/403746349_71384f5b58.jpg  \n",
            "  inflating: hymenoptera_data/train/ants/408393566_b5b694119b.jpg  \n",
            "  inflating: hymenoptera_data/train/ants/424119020_6d57481dab.jpg  \n",
            "  inflating: hymenoptera_data/train/ants/424873399_47658a91fb.jpg  \n",
            "  inflating: hymenoptera_data/train/ants/450057712_771b3bfc91.jpg  \n",
            "  inflating: hymenoptera_data/train/ants/45472593_bfd624f8dc.jpg  \n",
            "  inflating: hymenoptera_data/train/ants/459694881_ac657d3187.jpg  \n",
            "  inflating: hymenoptera_data/train/ants/460372577_f2f6a8c9fc.jpg  \n",
            "  inflating: hymenoptera_data/train/ants/460874319_0a45ab4d05.jpg  \n",
            "  inflating: hymenoptera_data/train/ants/466430434_4000737de9.jpg  \n",
            "  inflating: hymenoptera_data/train/ants/470127037_513711fd21.jpg  \n",
            "  inflating: hymenoptera_data/train/ants/474806473_ca6caab245.jpg  \n",
            "  inflating: hymenoptera_data/train/ants/475961153_b8c13fd405.jpg  \n",
            "  inflating: hymenoptera_data/train/ants/484293231_e53cfc0c89.jpg  \n",
            "  inflating: hymenoptera_data/train/ants/49375974_e28ba6f17e.jpg  \n",
            "  inflating: hymenoptera_data/train/ants/506249802_207cd979b4.jpg  \n",
            "  inflating: hymenoptera_data/train/ants/506249836_717b73f540.jpg  \n",
            "  inflating: hymenoptera_data/train/ants/512164029_c0a66b8498.jpg  \n",
            "  inflating: hymenoptera_data/train/ants/512863248_43c8ce579b.jpg  \n",
            "  inflating: hymenoptera_data/train/ants/518773929_734dbc5ff4.jpg  \n",
            "  inflating: hymenoptera_data/train/ants/522163566_fec115ca66.jpg  \n",
            "  inflating: hymenoptera_data/train/ants/522415432_2218f34bf8.jpg  \n",
            "  inflating: hymenoptera_data/train/ants/531979952_bde12b3bc0.jpg  \n",
            "  inflating: hymenoptera_data/train/ants/533848102_70a85ad6dd.jpg  \n",
            "  inflating: hymenoptera_data/train/ants/535522953_308353a07c.jpg  \n",
            "  inflating: hymenoptera_data/train/ants/540889389_48bb588b21.jpg  \n",
            "  inflating: hymenoptera_data/train/ants/541630764_dbd285d63c.jpg  \n",
            "  inflating: hymenoptera_data/train/ants/543417860_b14237f569.jpg  \n",
            "  inflating: hymenoptera_data/train/ants/560966032_988f4d7bc4.jpg  \n",
            "  inflating: hymenoptera_data/train/ants/5650366_e22b7e1065.jpg  \n",
            "  inflating: hymenoptera_data/train/ants/6240329_72c01e663e.jpg  \n",
            "  inflating: hymenoptera_data/train/ants/6240338_93729615ec.jpg  \n",
            "  inflating: hymenoptera_data/train/ants/649026570_e58656104b.jpg  \n",
            "  inflating: hymenoptera_data/train/ants/662541407_ff8db781e7.jpg  \n",
            "  inflating: hymenoptera_data/train/ants/67270775_e9fdf77e9d.jpg  \n",
            "  inflating: hymenoptera_data/train/ants/6743948_2b8c096dda.jpg  \n",
            "  inflating: hymenoptera_data/train/ants/684133190_35b62c0c1d.jpg  \n",
            "  inflating: hymenoptera_data/train/ants/69639610_95e0de17aa.jpg  \n",
            "  inflating: hymenoptera_data/train/ants/707895295_009cf23188.jpg  \n",
            "  inflating: hymenoptera_data/train/ants/7759525_1363d24e88.jpg  \n",
            "  inflating: hymenoptera_data/train/ants/795000156_a9900a4a71.jpg  \n",
            "  inflating: hymenoptera_data/train/ants/822537660_caf4ba5514.jpg  \n",
            "  inflating: hymenoptera_data/train/ants/82852639_52b7f7f5e3.jpg  \n",
            "  inflating: hymenoptera_data/train/ants/841049277_b28e58ad05.jpg  \n",
            "  inflating: hymenoptera_data/train/ants/886401651_f878e888cd.jpg  \n",
            "  inflating: hymenoptera_data/train/ants/892108839_f1aad4ca46.jpg  \n",
            "  inflating: hymenoptera_data/train/ants/938946700_ca1c669085.jpg  \n",
            "  inflating: hymenoptera_data/train/ants/957233405_25c1d1187b.jpg  \n",
            "  inflating: hymenoptera_data/train/ants/9715481_b3cb4114ff.jpg  \n",
            "  inflating: hymenoptera_data/train/ants/998118368_6ac1d91f81.jpg  \n",
            "  inflating: hymenoptera_data/train/ants/ant photos.jpg  \n",
            "  inflating: hymenoptera_data/train/ants/Ant_1.jpg  \n",
            "  inflating: hymenoptera_data/train/ants/army-ants-red-picture.jpg  \n",
            "  inflating: hymenoptera_data/train/ants/formica.jpeg  \n",
            "  inflating: hymenoptera_data/train/ants/hormiga_co_por.jpg  \n",
            "  inflating: hymenoptera_data/train/ants/imageNotFound.gif  \n",
            "  inflating: hymenoptera_data/train/ants/kurokusa.jpg  \n",
            "  inflating: hymenoptera_data/train/ants/MehdiabadiAnt2_600.jpg  \n",
            "  inflating: hymenoptera_data/train/ants/Nepenthes_rafflesiana_ant.jpg  \n",
            "  inflating: hymenoptera_data/train/ants/swiss-army-ant.jpg  \n",
            "  inflating: hymenoptera_data/train/ants/termite-vs-ant.jpg  \n",
            "  inflating: hymenoptera_data/train/ants/trap-jaw-ant-insect-bg.jpg  \n",
            "  inflating: hymenoptera_data/train/ants/VietnameseAntMimicSpider.jpg  \n",
            "   creating: hymenoptera_data/train/bees/\n",
            "  inflating: hymenoptera_data/train/bees/1092977343_cb42b38d62.jpg  \n",
            "  inflating: hymenoptera_data/train/bees/1093831624_fb5fbe2308.jpg  \n",
            "  inflating: hymenoptera_data/train/bees/1097045929_1753d1c765.jpg  \n",
            "  inflating: hymenoptera_data/train/bees/1232245714_f862fbe385.jpg  \n",
            "  inflating: hymenoptera_data/train/bees/129236073_0985e91c7d.jpg  \n",
            "  inflating: hymenoptera_data/train/bees/1295655112_7813f37d21.jpg  \n",
            "  inflating: hymenoptera_data/train/bees/132511197_0b86ad0fff.jpg  \n",
            "  inflating: hymenoptera_data/train/bees/132826773_dbbcb117b9.jpg  \n",
            "  inflating: hymenoptera_data/train/bees/150013791_969d9a968b.jpg  \n",
            "  inflating: hymenoptera_data/train/bees/1508176360_2972117c9d.jpg  \n",
            "  inflating: hymenoptera_data/train/bees/154600396_53e1252e52.jpg  \n",
            "  inflating: hymenoptera_data/train/bees/16838648_415acd9e3f.jpg  \n",
            "  inflating: hymenoptera_data/train/bees/1691282715_0addfdf5e8.jpg  \n",
            "  inflating: hymenoptera_data/train/bees/17209602_fe5a5a746f.jpg  \n",
            "  inflating: hymenoptera_data/train/bees/174142798_e5ad6d76e0.jpg  \n",
            "  inflating: hymenoptera_data/train/bees/1799726602_8580867f71.jpg  \n",
            "  inflating: hymenoptera_data/train/bees/1807583459_4fe92b3133.jpg  \n",
            "  inflating: hymenoptera_data/train/bees/196430254_46bd129ae7.jpg  \n",
            "  inflating: hymenoptera_data/train/bees/196658222_3fffd79c67.jpg  \n",
            "  inflating: hymenoptera_data/train/bees/198508668_97d818b6c4.jpg  \n",
            "  inflating: hymenoptera_data/train/bees/2031225713_50ed499635.jpg  \n",
            "  inflating: hymenoptera_data/train/bees/2037437624_2d7bce461f.jpg  \n",
            "  inflating: hymenoptera_data/train/bees/2053200300_8911ef438a.jpg  \n",
            "  inflating: hymenoptera_data/train/bees/205835650_e6f2614bee.jpg  \n",
            "  inflating: hymenoptera_data/train/bees/208702903_42fb4d9748.jpg  \n",
            "  inflating: hymenoptera_data/train/bees/21399619_3e61e5bb6f.jpg  \n",
            "  inflating: hymenoptera_data/train/bees/2227611847_ec72d40403.jpg  \n",
            "  inflating: hymenoptera_data/train/bees/2321139806_d73d899e66.jpg  \n",
            "  inflating: hymenoptera_data/train/bees/2330918208_8074770c20.jpg  \n",
            "  inflating: hymenoptera_data/train/bees/2345177635_caf07159b3.jpg  \n",
            "  inflating: hymenoptera_data/train/bees/2358061370_9daabbd9ac.jpg  \n",
            "  inflating: hymenoptera_data/train/bees/2364597044_3c3e3fc391.jpg  \n",
            "  inflating: hymenoptera_data/train/bees/2384149906_2cd8b0b699.jpg  \n",
            "  inflating: hymenoptera_data/train/bees/2397446847_04ef3cd3e1.jpg  \n",
            "  inflating: hymenoptera_data/train/bees/2405441001_b06c36fa72.jpg  \n",
            "  inflating: hymenoptera_data/train/bees/2445215254_51698ff797.jpg  \n",
            "  inflating: hymenoptera_data/train/bees/2452236943_255bfd9e58.jpg  \n",
            "  inflating: hymenoptera_data/train/bees/2467959963_a7831e9ff0.jpg  \n",
            "  inflating: hymenoptera_data/train/bees/2470492904_837e97800d.jpg  \n",
            "  inflating: hymenoptera_data/train/bees/2477324698_3d4b1b1cab.jpg  \n",
            "  inflating: hymenoptera_data/train/bees/2477349551_e75c97cf4d.jpg  \n",
            "  inflating: hymenoptera_data/train/bees/2486729079_62df0920be.jpg  \n",
            "  inflating: hymenoptera_data/train/bees/2486746709_c43cec0e42.jpg  \n",
            "  inflating: hymenoptera_data/train/bees/2493379287_4100e1dacc.jpg  \n",
            "  inflating: hymenoptera_data/train/bees/2495722465_879acf9d85.jpg  \n",
            "  inflating: hymenoptera_data/train/bees/2528444139_fa728b0f5b.jpg  \n",
            "  inflating: hymenoptera_data/train/bees/2538361678_9da84b77e3.jpg  \n",
            "  inflating: hymenoptera_data/train/bees/2551813042_8a070aeb2b.jpg  \n",
            "  inflating: hymenoptera_data/train/bees/2580598377_a4caecdb54.jpg  \n",
            "  inflating: hymenoptera_data/train/bees/2601176055_8464e6aa71.jpg  \n",
            "  inflating: hymenoptera_data/train/bees/2610833167_79bf0bcae5.jpg  \n",
            "  inflating: hymenoptera_data/train/bees/2610838525_fe8e3cae47.jpg  \n",
            "  inflating: hymenoptera_data/train/bees/2617161745_fa3ebe85b4.jpg  \n",
            "  inflating: hymenoptera_data/train/bees/2625499656_e3415e374d.jpg  \n",
            "  inflating: hymenoptera_data/train/bees/2634617358_f32fd16bea.jpg  \n",
            "  inflating: hymenoptera_data/train/bees/2638074627_6b3ae746a0.jpg  \n",
            "  inflating: hymenoptera_data/train/bees/2645107662_b73a8595cc.jpg  \n",
            "  inflating: hymenoptera_data/train/bees/2651621464_a2fa8722eb.jpg  \n",
            "  inflating: hymenoptera_data/train/bees/2652877533_a564830cbf.jpg  \n",
            "  inflating: hymenoptera_data/train/bees/266644509_d30bb16a1b.jpg  \n",
            "  inflating: hymenoptera_data/train/bees/2683605182_9d2a0c66cf.jpg  \n",
            "  inflating: hymenoptera_data/train/bees/2704348794_eb5d5178c2.jpg  \n",
            "  inflating: hymenoptera_data/train/bees/2707440199_cd170bd512.jpg  \n",
            "  inflating: hymenoptera_data/train/bees/2710368626_cb42882dc8.jpg  \n",
            "  inflating: hymenoptera_data/train/bees/2722592222_258d473e17.jpg  \n",
            "  inflating: hymenoptera_data/train/bees/2728759455_ce9bb8cd7a.jpg  \n",
            "  inflating: hymenoptera_data/train/bees/2756397428_1d82a08807.jpg  \n",
            "  inflating: hymenoptera_data/train/bees/2765347790_da6cf6cb40.jpg  \n",
            "  inflating: hymenoptera_data/train/bees/2781170484_5d61835d63.jpg  \n",
            "  inflating: hymenoptera_data/train/bees/279113587_b4843db199.jpg  \n",
            "  inflating: hymenoptera_data/train/bees/2792000093_e8ae0718cf.jpg  \n",
            "  inflating: hymenoptera_data/train/bees/2801728106_833798c909.jpg  \n",
            "  inflating: hymenoptera_data/train/bees/2822388965_f6dca2a275.jpg  \n",
            "  inflating: hymenoptera_data/train/bees/2861002136_52c7c6f708.jpg  \n",
            "  inflating: hymenoptera_data/train/bees/2908916142_a7ac8b57a8.jpg  \n",
            "  inflating: hymenoptera_data/train/bees/29494643_e3410f0d37.jpg  \n",
            "  inflating: hymenoptera_data/train/bees/2959730355_416a18c63c.jpg  \n",
            "  inflating: hymenoptera_data/train/bees/2962405283_22718d9617.jpg  \n",
            "  inflating: hymenoptera_data/train/bees/3006264892_30e9cced70.jpg  \n",
            "  inflating: hymenoptera_data/train/bees/3030189811_01d095b793.jpg  \n",
            "  inflating: hymenoptera_data/train/bees/3030772428_8578335616.jpg  \n",
            "  inflating: hymenoptera_data/train/bees/3044402684_3853071a87.jpg  \n",
            "  inflating: hymenoptera_data/train/bees/3074585407_9854eb3153.jpg  \n",
            "  inflating: hymenoptera_data/train/bees/3079610310_ac2d0ae7bc.jpg  \n",
            "  inflating: hymenoptera_data/train/bees/3090975720_71f12e6de4.jpg  \n",
            "  inflating: hymenoptera_data/train/bees/3100226504_c0d4f1e3f1.jpg  \n",
            "  inflating: hymenoptera_data/train/bees/342758693_c56b89b6b6.jpg  \n",
            "  inflating: hymenoptera_data/train/bees/354167719_22dca13752.jpg  \n",
            "  inflating: hymenoptera_data/train/bees/359928878_b3b418c728.jpg  \n",
            "  inflating: hymenoptera_data/train/bees/365759866_b15700c59b.jpg  \n",
            "  inflating: hymenoptera_data/train/bees/36900412_92b81831ad.jpg  \n",
            "  inflating: hymenoptera_data/train/bees/39672681_1302d204d1.jpg  \n",
            "  inflating: hymenoptera_data/train/bees/39747887_42df2855ee.jpg  \n",
            "  inflating: hymenoptera_data/train/bees/421515404_e87569fd8b.jpg  \n",
            "  inflating: hymenoptera_data/train/bees/444532809_9e931e2279.jpg  \n",
            "  inflating: hymenoptera_data/train/bees/446296270_d9e8b93ecf.jpg  \n",
            "  inflating: hymenoptera_data/train/bees/452462677_7be43af8ff.jpg  \n",
            "  inflating: hymenoptera_data/train/bees/452462695_40a4e5b559.jpg  \n",
            "  inflating: hymenoptera_data/train/bees/457457145_5f86eb7e9c.jpg  \n",
            "  inflating: hymenoptera_data/train/bees/465133211_80e0c27f60.jpg  \n",
            "  inflating: hymenoptera_data/train/bees/469333327_358ba8fe8a.jpg  \n",
            "  inflating: hymenoptera_data/train/bees/472288710_2abee16fa0.jpg  \n",
            "  inflating: hymenoptera_data/train/bees/473618094_8ffdcab215.jpg  \n",
            "  inflating: hymenoptera_data/train/bees/476347960_52edd72b06.jpg  \n",
            "  inflating: hymenoptera_data/train/bees/478701318_bbd5e557b8.jpg  \n",
            "  inflating: hymenoptera_data/train/bees/507288830_f46e8d4cb2.jpg  \n",
            "  inflating: hymenoptera_data/train/bees/509247772_2db2d01374.jpg  \n",
            "  inflating: hymenoptera_data/train/bees/513545352_fd3e7c7c5d.jpg  \n",
            "  inflating: hymenoptera_data/train/bees/522104315_5d3cb2758e.jpg  \n",
            "  inflating: hymenoptera_data/train/bees/537309131_532bfa59ea.jpg  \n",
            "  inflating: hymenoptera_data/train/bees/586041248_3032e277a9.jpg  \n",
            "  inflating: hymenoptera_data/train/bees/760526046_547e8b381f.jpg  \n",
            "  inflating: hymenoptera_data/train/bees/760568592_45a52c847f.jpg  \n",
            "  inflating: hymenoptera_data/train/bees/774440991_63a4aa0cbe.jpg  \n",
            "  inflating: hymenoptera_data/train/bees/85112639_6e860b0469.jpg  \n",
            "  inflating: hymenoptera_data/train/bees/873076652_eb098dab2d.jpg  \n",
            "  inflating: hymenoptera_data/train/bees/90179376_abc234e5f4.jpg  \n",
            "  inflating: hymenoptera_data/train/bees/92663402_37f379e57a.jpg  \n",
            "  inflating: hymenoptera_data/train/bees/95238259_98470c5b10.jpg  \n",
            "  inflating: hymenoptera_data/train/bees/969455125_58c797ef17.jpg  \n",
            "  inflating: hymenoptera_data/train/bees/98391118_bdb1e80cce.jpg  \n",
            "   creating: hymenoptera_data/val/\n",
            "   creating: hymenoptera_data/val/ants/\n",
            "  inflating: hymenoptera_data/val/ants/10308379_1b6c72e180.jpg  \n",
            "  inflating: hymenoptera_data/val/ants/1053149811_f62a3410d3.jpg  \n",
            "  inflating: hymenoptera_data/val/ants/1073564163_225a64f170.jpg  \n",
            "  inflating: hymenoptera_data/val/ants/1119630822_cd325ea21a.jpg  \n",
            "  inflating: hymenoptera_data/val/ants/1124525276_816a07c17f.jpg  \n",
            "  inflating: hymenoptera_data/val/ants/11381045_b352a47d8c.jpg  \n",
            "  inflating: hymenoptera_data/val/ants/119785936_dd428e40c3.jpg  \n",
            "  inflating: hymenoptera_data/val/ants/1247887232_edcb61246c.jpg  \n",
            "  inflating: hymenoptera_data/val/ants/1262751255_c56c042b7b.jpg  \n",
            "  inflating: hymenoptera_data/val/ants/1337725712_2eb53cd742.jpg  \n",
            "  inflating: hymenoptera_data/val/ants/1358854066_5ad8015f7f.jpg  \n",
            "  inflating: hymenoptera_data/val/ants/1440002809_b268d9a66a.jpg  \n",
            "  inflating: hymenoptera_data/val/ants/147542264_79506478c2.jpg  \n",
            "  inflating: hymenoptera_data/val/ants/152286280_411648ec27.jpg  \n",
            "  inflating: hymenoptera_data/val/ants/153320619_2aeb5fa0ee.jpg  \n",
            "  inflating: hymenoptera_data/val/ants/153783656_85f9c3ac70.jpg  \n",
            "  inflating: hymenoptera_data/val/ants/157401988_d0564a9d02.jpg  \n",
            "  inflating: hymenoptera_data/val/ants/159515240_d5981e20d1.jpg  \n",
            "  inflating: hymenoptera_data/val/ants/161076144_124db762d6.jpg  \n",
            "  inflating: hymenoptera_data/val/ants/161292361_c16e0bf57a.jpg  \n",
            "  inflating: hymenoptera_data/val/ants/170652283_ecdaff5d1a.jpg  \n",
            "  inflating: hymenoptera_data/val/ants/17081114_79b9a27724.jpg  \n",
            "  inflating: hymenoptera_data/val/ants/172772109_d0a8e15fb0.jpg  \n",
            "  inflating: hymenoptera_data/val/ants/1743840368_b5ccda82b7.jpg  \n",
            "  inflating: hymenoptera_data/val/ants/181942028_961261ef48.jpg  \n",
            "  inflating: hymenoptera_data/val/ants/183260961_64ab754c97.jpg  \n",
            "  inflating: hymenoptera_data/val/ants/2039585088_c6f47c592e.jpg  \n",
            "  inflating: hymenoptera_data/val/ants/205398178_c395c5e460.jpg  \n",
            "  inflating: hymenoptera_data/val/ants/208072188_f293096296.jpg  \n",
            "  inflating: hymenoptera_data/val/ants/209615353_eeb38ba204.jpg  \n",
            "  inflating: hymenoptera_data/val/ants/2104709400_8831b4fc6f.jpg  \n",
            "  inflating: hymenoptera_data/val/ants/212100470_b485e7b7b9.jpg  \n",
            "  inflating: hymenoptera_data/val/ants/2127908701_d49dc83c97.jpg  \n",
            "  inflating: hymenoptera_data/val/ants/2191997003_379df31291.jpg  \n",
            "  inflating: hymenoptera_data/val/ants/2211974567_ee4606b493.jpg  \n",
            "  inflating: hymenoptera_data/val/ants/2219621907_47bc7cc6b0.jpg  \n",
            "  inflating: hymenoptera_data/val/ants/2238242353_52c82441df.jpg  \n",
            "  inflating: hymenoptera_data/val/ants/2255445811_dabcdf7258.jpg  \n",
            "  inflating: hymenoptera_data/val/ants/239161491_86ac23b0a3.jpg  \n",
            "  inflating: hymenoptera_data/val/ants/263615709_cfb28f6b8e.jpg  \n",
            "  inflating: hymenoptera_data/val/ants/308196310_1db5ffa01b.jpg  \n",
            "  inflating: hymenoptera_data/val/ants/319494379_648fb5a1c6.jpg  \n",
            "  inflating: hymenoptera_data/val/ants/35558229_1fa4608a7a.jpg  \n",
            "  inflating: hymenoptera_data/val/ants/412436937_4c2378efc2.jpg  \n",
            "  inflating: hymenoptera_data/val/ants/436944325_d4925a38c7.jpg  \n",
            "  inflating: hymenoptera_data/val/ants/445356866_6cb3289067.jpg  \n",
            "  inflating: hymenoptera_data/val/ants/459442412_412fecf3fe.jpg  \n",
            "  inflating: hymenoptera_data/val/ants/470127071_8b8ee2bd74.jpg  \n",
            "  inflating: hymenoptera_data/val/ants/477437164_bc3e6e594a.jpg  \n",
            "  inflating: hymenoptera_data/val/ants/488272201_c5aa281348.jpg  \n",
            "  inflating: hymenoptera_data/val/ants/502717153_3e4865621a.jpg  \n",
            "  inflating: hymenoptera_data/val/ants/518746016_bcc28f8b5b.jpg  \n",
            "  inflating: hymenoptera_data/val/ants/540543309_ddbb193ee5.jpg  \n",
            "  inflating: hymenoptera_data/val/ants/562589509_7e55469b97.jpg  \n",
            "  inflating: hymenoptera_data/val/ants/57264437_a19006872f.jpg  \n",
            "  inflating: hymenoptera_data/val/ants/573151833_ebbc274b77.jpg  \n",
            "  inflating: hymenoptera_data/val/ants/649407494_9b6bc4949f.jpg  \n",
            "  inflating: hymenoptera_data/val/ants/751649788_78dd7d16ce.jpg  \n",
            "  inflating: hymenoptera_data/val/ants/768870506_8f115d3d37.jpg  \n",
            "  inflating: hymenoptera_data/val/ants/800px-Meat_eater_ant_qeen_excavating_hole.jpg  \n",
            "  inflating: hymenoptera_data/val/ants/8124241_36b290d372.jpg  \n",
            "  inflating: hymenoptera_data/val/ants/8398478_50ef10c47a.jpg  \n",
            "  inflating: hymenoptera_data/val/ants/854534770_31f6156383.jpg  \n",
            "  inflating: hymenoptera_data/val/ants/892676922_4ab37dce07.jpg  \n",
            "  inflating: hymenoptera_data/val/ants/94999827_36895faade.jpg  \n",
            "  inflating: hymenoptera_data/val/ants/Ant-1818.jpg  \n",
            "  inflating: hymenoptera_data/val/ants/ants-devouring-remains-of-large-dead-insect-on-red-tile-in-Stellenbosch-South-Africa-closeup-1-DHD.jpg  \n",
            "  inflating: hymenoptera_data/val/ants/desert_ant.jpg  \n",
            "  inflating: hymenoptera_data/val/ants/F.pergan.28(f).jpg  \n",
            "  inflating: hymenoptera_data/val/ants/Hormiga.jpg  \n",
            "   creating: hymenoptera_data/val/bees/\n",
            "  inflating: hymenoptera_data/val/bees/1032546534_06907fe3b3.jpg  \n",
            "  inflating: hymenoptera_data/val/bees/10870992_eebeeb3a12.jpg  \n",
            "  inflating: hymenoptera_data/val/bees/1181173278_23c36fac71.jpg  \n",
            "  inflating: hymenoptera_data/val/bees/1297972485_33266a18d9.jpg  \n",
            "  inflating: hymenoptera_data/val/bees/1328423762_f7a88a8451.jpg  \n",
            "  inflating: hymenoptera_data/val/bees/1355974687_1341c1face.jpg  \n",
            "  inflating: hymenoptera_data/val/bees/144098310_a4176fd54d.jpg  \n",
            "  inflating: hymenoptera_data/val/bees/1486120850_490388f84b.jpg  \n",
            "  inflating: hymenoptera_data/val/bees/149973093_da3c446268.jpg  \n",
            "  inflating: hymenoptera_data/val/bees/151594775_ee7dc17b60.jpg  \n",
            "  inflating: hymenoptera_data/val/bees/151603988_2c6f7d14c7.jpg  \n",
            "  inflating: hymenoptera_data/val/bees/1519368889_4270261ee3.jpg  \n",
            "  inflating: hymenoptera_data/val/bees/152789693_220b003452.jpg  \n",
            "  inflating: hymenoptera_data/val/bees/177677657_a38c97e572.jpg  \n",
            "  inflating: hymenoptera_data/val/bees/1799729694_0c40101071.jpg  \n",
            "  inflating: hymenoptera_data/val/bees/181171681_c5a1a82ded.jpg  \n",
            "  inflating: hymenoptera_data/val/bees/187130242_4593a4c610.jpg  \n",
            "  inflating: hymenoptera_data/val/bees/203868383_0fcbb48278.jpg  \n",
            "  inflating: hymenoptera_data/val/bees/2060668999_e11edb10d0.jpg  \n",
            "  inflating: hymenoptera_data/val/bees/2086294791_6f3789d8a6.jpg  \n",
            "  inflating: hymenoptera_data/val/bees/2103637821_8d26ee6b90.jpg  \n",
            "  inflating: hymenoptera_data/val/bees/2104135106_a65eede1de.jpg  \n",
            "  inflating: hymenoptera_data/val/bees/215512424_687e1e0821.jpg  \n",
            "  inflating: hymenoptera_data/val/bees/2173503984_9c6aaaa7e2.jpg  \n",
            "  inflating: hymenoptera_data/val/bees/220376539_20567395d8.jpg  \n",
            "  inflating: hymenoptera_data/val/bees/224841383_d050f5f510.jpg  \n",
            "  inflating: hymenoptera_data/val/bees/2321144482_f3785ba7b2.jpg  \n",
            "  inflating: hymenoptera_data/val/bees/238161922_55fa9a76ae.jpg  \n",
            "  inflating: hymenoptera_data/val/bees/2407809945_fb525ef54d.jpg  \n",
            "  inflating: hymenoptera_data/val/bees/2415414155_1916f03b42.jpg  \n",
            "  inflating: hymenoptera_data/val/bees/2438480600_40a1249879.jpg  \n",
            "  inflating: hymenoptera_data/val/bees/2444778727_4b781ac424.jpg  \n",
            "  inflating: hymenoptera_data/val/bees/2457841282_7867f16639.jpg  \n",
            "  inflating: hymenoptera_data/val/bees/2470492902_3572c90f75.jpg  \n",
            "  inflating: hymenoptera_data/val/bees/2478216347_535c8fe6d7.jpg  \n",
            "  inflating: hymenoptera_data/val/bees/2501530886_e20952b97d.jpg  \n",
            "  inflating: hymenoptera_data/val/bees/2506114833_90a41c5267.jpg  \n",
            "  inflating: hymenoptera_data/val/bees/2509402554_31821cb0b6.jpg  \n",
            "  inflating: hymenoptera_data/val/bees/2525379273_dcb26a516d.jpg  \n",
            "  inflating: hymenoptera_data/val/bees/26589803_5ba7000313.jpg  \n",
            "  inflating: hymenoptera_data/val/bees/2668391343_45e272cd07.jpg  \n",
            "  inflating: hymenoptera_data/val/bees/2670536155_c170f49cd0.jpg  \n",
            "  inflating: hymenoptera_data/val/bees/2685605303_9eed79d59d.jpg  \n",
            "  inflating: hymenoptera_data/val/bees/2702408468_d9ed795f4f.jpg  \n",
            "  inflating: hymenoptera_data/val/bees/2709775832_85b4b50a57.jpg  \n",
            "  inflating: hymenoptera_data/val/bees/2717418782_bd83307d9f.jpg  \n",
            "  inflating: hymenoptera_data/val/bees/272986700_d4d4bf8c4b.jpg  \n",
            "  inflating: hymenoptera_data/val/bees/2741763055_9a7bb00802.jpg  \n",
            "  inflating: hymenoptera_data/val/bees/2745389517_250a397f31.jpg  \n",
            "  inflating: hymenoptera_data/val/bees/2751836205_6f7b5eff30.jpg  \n",
            "  inflating: hymenoptera_data/val/bees/2782079948_8d4e94a826.jpg  \n",
            "  inflating: hymenoptera_data/val/bees/2809496124_5f25b5946a.jpg  \n",
            "  inflating: hymenoptera_data/val/bees/2815838190_0a9889d995.jpg  \n",
            "  inflating: hymenoptera_data/val/bees/2841437312_789699c740.jpg  \n",
            "  inflating: hymenoptera_data/val/bees/2883093452_7e3a1eb53f.jpg  \n",
            "  inflating: hymenoptera_data/val/bees/290082189_f66cb80bfc.jpg  \n",
            "  inflating: hymenoptera_data/val/bees/296565463_d07a7bed96.jpg  \n",
            "  inflating: hymenoptera_data/val/bees/3077452620_548c79fda0.jpg  \n",
            "  inflating: hymenoptera_data/val/bees/348291597_ee836fbb1a.jpg  \n",
            "  inflating: hymenoptera_data/val/bees/350436573_41f4ecb6c8.jpg  \n",
            "  inflating: hymenoptera_data/val/bees/353266603_d3eac7e9a0.jpg  \n",
            "  inflating: hymenoptera_data/val/bees/372228424_16da1f8884.jpg  \n",
            "  inflating: hymenoptera_data/val/bees/400262091_701c00031c.jpg  \n",
            "  inflating: hymenoptera_data/val/bees/416144384_961c326481.jpg  \n",
            "  inflating: hymenoptera_data/val/bees/44105569_16720a960c.jpg  \n",
            "  inflating: hymenoptera_data/val/bees/456097971_860949c4fc.jpg  \n",
            "  inflating: hymenoptera_data/val/bees/464594019_1b24a28bb1.jpg  \n",
            "  inflating: hymenoptera_data/val/bees/485743562_d8cc6b8f73.jpg  \n",
            "  inflating: hymenoptera_data/val/bees/540976476_844950623f.jpg  \n",
            "  inflating: hymenoptera_data/val/bees/54736755_c057723f64.jpg  \n",
            "  inflating: hymenoptera_data/val/bees/57459255_752774f1b2.jpg  \n",
            "  inflating: hymenoptera_data/val/bees/576452297_897023f002.jpg  \n",
            "  inflating: hymenoptera_data/val/bees/586474709_ae436da045.jpg  \n",
            "  inflating: hymenoptera_data/val/bees/590318879_68cf112861.jpg  \n",
            "  inflating: hymenoptera_data/val/bees/59798110_2b6a3c8031.jpg  \n",
            "  inflating: hymenoptera_data/val/bees/603709866_a97c7cfc72.jpg  \n",
            "  inflating: hymenoptera_data/val/bees/603711658_4c8cd2201e.jpg  \n",
            "  inflating: hymenoptera_data/val/bees/65038344_52a45d090d.jpg  \n",
            "  inflating: hymenoptera_data/val/bees/6a00d8341c630a53ef00e553d0beb18834-800wi.jpg  \n",
            "  inflating: hymenoptera_data/val/bees/72100438_73de9f17af.jpg  \n",
            "  inflating: hymenoptera_data/val/bees/759745145_e8bc776ec8.jpg  \n",
            "  inflating: hymenoptera_data/val/bees/936182217_c4caa5222d.jpg  \n",
            "  inflating: hymenoptera_data/val/bees/abeja.jpg  \n"
          ]
        }
      ]
    },
    {
      "cell_type": "markdown",
      "source": [
        "------\n",
        "(Modified Section)\n",
        "------\n",
        "\n",
        "Explanation of the data tansforms:\n",
        "\n",
        "1. Compose allows to chain transformations of images to suite the input for the pretrained Resnet18 model.\n",
        "2. The image sizes will be croped to 224. \n",
        "3. It can be flipped so that the picture is seen from right to left as well. \n",
        "4.  Center cropping is used for validation data.\n",
        "5. This is then converted to the pytorch tensor. \n",
        "5. Finally this is normalized, the value of mean and standard deviation for normalization comes from recommendation of imagenet database.\n",
        "\n",
        "References:\n",
        "1. https://stackoverflow.com/questions/58151507/why-pytorch-officially-use-mean-0-485-0-456-0-406-and-std-0-229-0-224-0-2"
      ],
      "metadata": {
        "id": "Lf6w_8hr5YGQ"
      }
    },
    {
      "cell_type": "code",
      "execution_count": null,
      "metadata": {
        "id": "Pd7YIlW5w3If",
        "colab": {
          "base_uri": "https://localhost:8080/"
        },
        "outputId": "b4b0af16-34f1-44b5-cfd4-79507245f83d"
      },
      "outputs": [
        {
          "output_type": "stream",
          "name": "stderr",
          "text": [
            "/usr/local/lib/python3.7/dist-packages/torch/utils/data/dataloader.py:481: UserWarning: This DataLoader will create 4 worker processes in total. Our suggested max number of worker in current system is 2, which is smaller than what this DataLoader is going to create. Please be aware that excessive worker creation might get DataLoader running slow or even freeze, lower the worker number to avoid potential slowness/freeze if necessary.\n",
            "  cpuset_checked))\n"
          ]
        }
      ],
      "source": [
        "# Data augmentation and normalization for training\n",
        "# Just normalization for validation\n",
        "data_transforms = {\n",
        "    'train': transforms.Compose([\n",
        "        transforms.RandomResizedCrop(224),\n",
        "        transforms.RandomHorizontalFlip(),\n",
        "        transforms.ToTensor(),\n",
        "        transforms.Normalize([0.485, 0.456, 0.406], [0.229, 0.224, 0.225])\n",
        "    ]),\n",
        "    'val': transforms.Compose([\n",
        "        transforms.Resize(256),\n",
        "        transforms.CenterCrop(224),\n",
        "        transforms.ToTensor(),\n",
        "        transforms.Normalize([0.485, 0.456, 0.406], [0.229, 0.224, 0.225])\n",
        "    ]),\n",
        "}\n",
        "## Modified:  Changed path\n",
        "data_dir = 'hymenoptera_data'\n",
        "image_datasets = {x: datasets.ImageFolder(os.path.join(data_dir, x),\n",
        "                                          data_transforms[x])\n",
        "                  for x in ['train', 'val']}\n",
        "dataloaders = {x: torch.utils.data.DataLoader(image_datasets[x], batch_size=4,\n",
        "                                             shuffle=True, num_workers=4)\n",
        "              for x in ['train', 'val']}\n",
        "dataset_sizes = {x: len(image_datasets[x]) for x in ['train', 'val']}\n",
        "class_names = image_datasets['train'].classes\n",
        "\n",
        "device = torch.device(\"cuda:0\" if torch.cuda.is_available() else \"cpu\")"
      ]
    },
    {
      "cell_type": "markdown",
      "metadata": {
        "id": "eqYOMKLRw3Ig"
      },
      "source": [
        "####Visualizing a few images\n",
        "\n",
        "Let's visualize a few training images so as to understand the data\n",
        "augmentations.\n",
        "\n"
      ]
    },
    {
      "cell_type": "code",
      "execution_count": null,
      "metadata": {
        "id": "bff1OmjQw3Ig",
        "colab": {
          "base_uri": "https://localhost:8080/",
          "height": 203
        },
        "outputId": "3c9360a2-c2b7-45e2-dcc2-7bfe90dd5203"
      },
      "outputs": [
        {
          "output_type": "stream",
          "name": "stderr",
          "text": [
            "/usr/local/lib/python3.7/dist-packages/torch/utils/data/dataloader.py:481: UserWarning: This DataLoader will create 4 worker processes in total. Our suggested max number of worker in current system is 2, which is smaller than what this DataLoader is going to create. Please be aware that excessive worker creation might get DataLoader running slow or even freeze, lower the worker number to avoid potential slowness/freeze if necessary.\n",
            "  cpuset_checked))\n"
          ]
        },
        {
          "output_type": "display_data",
          "data": {
            "text/plain": [
              "<Figure size 432x288 with 1 Axes>"
            ],
            "image/png": "[encoded data removed]"
          },
          "metadata": {
            "needs_background": "light"
          }
        }
      ],
      "source": [
        "def imshow(inp, title=None):\n",
        "    \"\"\"Imshow for Tensor.\"\"\"\n",
        "    inp = inp.numpy().transpose((1, 2, 0))\n",
        "    mean = np.array([0.485, 0.456, 0.406])\n",
        "    std = np.array([0.229, 0.224, 0.225])\n",
        "    inp = std * inp + mean\n",
        "    inp = np.clip(inp, 0, 1)\n",
        "    plt.imshow(inp)\n",
        "    if title is not None:\n",
        "        plt.title(title)\n",
        "    plt.pause(0.001)  # pause a bit so that plots are updated\n",
        "\n",
        "\n",
        "# Get a batch of training data\n",
        "inputs, classes = next(iter(dataloaders['train']))\n",
        "\n",
        "# Make a grid from batch\n",
        "out = torchvision.utils.make_grid(inputs)\n",
        "\n",
        "imshow(out, title=[class_names[x] for x in classes])"
      ]
    },
    {
      "cell_type": "markdown",
      "metadata": {
        "id": "6ldpFKuxw3Ih"
      },
      "source": [
        "Training the model\n",
        "------------------\n",
        "\n",
        "Now, let's write a general function to train a model. Here, we will\n",
        "illustrate:\n",
        "\n",
        "-  Scheduling the learning rate\n",
        "-  Saving the best model\n",
        "\n",
        "In the following, parameter ``scheduler`` is an LR scheduler object from\n",
        "``torch.optim.lr_scheduler``.\n",
        "\n"
      ]
    },
    {
      "cell_type": "markdown",
      "source": [
        "----------\n",
        "(Modified Subsection)\n",
        "\n",
        "Understanding the train_model function in Pytorch\n",
        "1.  The base model will be loaded and given as input to train_model function.\n",
        "2.  criterion applied is Cross Entropy Loss.  Pytorch nn provides this function that can take the predicted output and compute the lost based on the labels (actual) values.  \n",
        "3. The Backward function is used only during 'training' where gradients are updated.  This is used with Optimizer set to Stochastic Gradient Descent."
      ],
      "metadata": {
        "id": "jy4vkxBPKfyH"
      }
    },
    {
      "cell_type": "markdown",
      "source": [
        "-----------------------\n",
        "(Modified Section)\n",
        "-----------------------\n",
        "\n",
        "### Part b\n",
        "\n",
        " Modify the code to plot validation loss and accuracy after every training epoch.\n",
        "\n",
        "$\\textbf{Ans}$:\n",
        "Setup to capture the metrics for plotting.\n",
        "The tensor is running on GPU to speed training time.\n",
        "This will have to be moved to CPU memory for plotting.\n",
        "For each epoch we will plot the validation loss and accuracy.\n",
        "\n",
        "---------------------------\n",
        "\n"
      ],
      "metadata": {
        "id": "mZGbR7iRb8sW"
      }
    },
    {
      "cell_type": "code",
      "source": [
        "## Modified\n",
        "# Code added to save epoc loss and accuracy\n",
        "# this can be used for plotting\n",
        "# c. Modify the code to plot validation loss and accuracy after every training epoch.\n",
        "num_epochs_cpu = []\n",
        "val_loss_cpu = []\n",
        "val_acc_cpu = []"
      ],
      "metadata": {
        "id": "4e4KsvR-jNg9"
      },
      "execution_count": null,
      "outputs": []
    },
    {
      "cell_type": "code",
      "execution_count": null,
      "metadata": {
        "id": "-0R5iH4Jw3Ih"
      },
      "outputs": [],
      "source": [
        "def train_model(model, criterion, optimizer, scheduler, num_epochs=25):\n",
        "    since = time.time()\n",
        "\n",
        "    best_model_wts = copy.deepcopy(model.state_dict())\n",
        "    best_acc = 0.0\n",
        "    ## Begin Modified\n",
        "    # clear the metrics list\n",
        "    val_loss_cpu.clear()\n",
        "    val_acc_cpu.clear()\n",
        "    num_epochs_cpu.clear()\n",
        "    ## end Modified\n",
        "\n",
        "    for epoch in range(num_epochs):\n",
        "        print(f'Epoch {epoch}/{num_epochs - 1}')\n",
        "        print('-' * 10)\n",
        "\n",
        "        # Each epoch has a training and validation phase\n",
        "        for phase in ['train', 'val']:\n",
        "            if phase == 'train':\n",
        "                model.train()  # Set model to training mode\n",
        "            else:\n",
        "                model.eval()   # Set model to evaluate mode\n",
        "\n",
        "            running_loss = 0.0\n",
        "            running_corrects = 0\n",
        "\n",
        "            # Iterate over data.\n",
        "            for inputs, labels in dataloaders[phase]:\n",
        "                inputs = inputs.to(device)\n",
        "                labels = labels.to(device)\n",
        "\n",
        "                # zero the parameter gradients\n",
        "                optimizer.zero_grad()\n",
        "\n",
        "                # forward\n",
        "                # track history if only in train\n",
        "                with torch.set_grad_enabled(phase == 'train'):\n",
        "                    outputs = model(inputs)\n",
        "                    _, preds = torch.max(outputs, 1)\n",
        "                    loss = criterion(outputs, labels)\n",
        "\n",
        "                    # backward + optimize only if in training phase\n",
        "                    if phase == 'train':\n",
        "                        loss.backward()\n",
        "                        optimizer.step()\n",
        "\n",
        "                # statistics\n",
        "                running_loss += loss.item() * inputs.size(0)\n",
        "                running_corrects += torch.sum(preds == labels.data)\n",
        "            if phase == 'train':\n",
        "                scheduler.step()\n",
        "\n",
        "            epoch_loss = running_loss / dataset_sizes[phase]\n",
        "            epoch_acc = running_corrects.double() / dataset_sizes[phase]\n",
        "            ####\n",
        "            # Modified : Store val loss and accuracy in list\n",
        "            # loss.item above already moves loss to CPU from GPU\n",
        "            # acc.item will do the same below.  This makes it easier\n",
        "            # to use with Matplotlib\n",
        "            ####\n",
        "            if phase == 'val':\n",
        "              val_loss_cpu.append(epoch_loss)\n",
        "              val_acc_cpu.append(epoch_acc.item())\n",
        "              num_epochs_cpu.append(epoch)\n",
        "            ## End Modified\n",
        "\n",
        "            print(f'{phase} Loss: {epoch_loss:.4f} Acc: {epoch_acc:.4f}')\n",
        "\n",
        "            # deep copy the model\n",
        "            if phase == 'val' and epoch_acc > best_acc:\n",
        "                best_acc = epoch_acc\n",
        "                best_model_wts = copy.deepcopy(model.state_dict())\n",
        "\n",
        "        print()\n",
        "\n",
        "    time_elapsed = time.time() - since\n",
        "    print(f'Training complete in {time_elapsed // 60:.0f}m {time_elapsed % 60:.0f}s')\n",
        "    print(f'Best val Acc: {best_acc:4f}')\n",
        "\n",
        "    # load best model weights\n",
        "    model.load_state_dict(best_model_wts)\n",
        "    return model"
      ]
    },
    {
      "cell_type": "markdown",
      "metadata": {
        "id": "dT6kZBwWw3Ii"
      },
      "source": [
        "#### Visualizing the model predictions\n",
        "\n",
        "Generic function to display predictions for a few images\n",
        "\n",
        "\n"
      ]
    },
    {
      "cell_type": "code",
      "execution_count": null,
      "metadata": {
        "id": "X-VpkGiPw3Ii"
      },
      "outputs": [],
      "source": [
        "def visualize_model(model, num_images=6):\n",
        "    was_training = model.training\n",
        "    model.eval()\n",
        "    images_so_far = 0\n",
        "    fig = plt.figure()\n",
        "\n",
        "    with torch.no_grad():\n",
        "        for i, (inputs, labels) in enumerate(dataloaders['val']):\n",
        "            inputs = inputs.to(device)\n",
        "            labels = labels.to(device)\n",
        "\n",
        "            outputs = model(inputs)\n",
        "            _, preds = torch.max(outputs, 1)\n",
        "\n",
        "            for j in range(inputs.size()[0]):\n",
        "                images_so_far += 1\n",
        "                ax = plt.subplot(num_images//2, 2, images_so_far)\n",
        "                ax.axis('off')\n",
        "                ax.set_title(f'predicted: {class_names[preds[j]]}')\n",
        "                imshow(inputs.cpu().data[j])\n",
        "\n",
        "                if images_so_far == num_images:\n",
        "                    model.train(mode=was_training)\n",
        "                    return\n",
        "        model.train(mode=was_training)"
      ]
    },
    {
      "cell_type": "markdown",
      "metadata": {
        "id": "y2Upg7frw3Ii"
      },
      "source": [
        "Finetuning the convnet\n",
        "----------------------\n",
        "\n",
        "Load a pretrained model and reset final fully connected layer.\n",
        "\n",
        "\n"
      ]
    },
    {
      "cell_type": "markdown",
      "source": [
        "----------\n",
        "(Modified Section)\n",
        "----------\n",
        "Highlights of Resnet 18 pre-trained model: \n",
        "\n",
        "1. Number of Layers:    18 (convolution neural network)\n",
        "2. Training Data Size:  1 million images\n",
        "3. Object categories classified:  1000\n",
        "4. Image input size: 224 by 224.\n",
        "\n",
        "-----------\n",
        "2.  For bees and ants we have two classes\n",
        "3.  This will run on GPU device to speed up training.\n",
        "4.  Criterion:  utilizes cross entropy loss\n",
        "5.  Optimizer: uses Stochastic Gradient descent optimizing all the parameters, with a learning rate of 0.001 and momentum of 0.9\n",
        "6. Scheduler:  Every 7 epochs it reduces the learning rate by 0.1\n",
        "\n",
        "\n",
        "\n",
        "\n"
      ],
      "metadata": {
        "id": "6IHk79FYhBCL"
      }
    },
    {
      "cell_type": "code",
      "execution_count": null,
      "metadata": {
        "id": "kyqy2pbSw3Ij",
        "colab": {
          "base_uri": "https://localhost:8080/",
          "height": 86,
          "referenced_widgets": [
            "0efa2cf7c5c44da69b9c13c0bd6d8317",
            "eed1424de2b84f389d8361f6efb97481",
            "4e406052df9e453cad2a7f7cc3775d43",
            "4848b605c4db465b8f0a0e77ee2b471b",
            "8afa6aa470034d37b3b96f12970b76df",
            "30996026d6fc43c8a6ef102d0b50fbe7",
            "47927bd1b2094e0d80bd08dcc389007f",
            "2a4f2d724f154fd2a9234de9d30d2932",
            "b90d18b4f11d4eda9986d5cab802e64a",
            "780087d2642541eb9227dd60290c2329",
            "7dfc75e2073d4ec28d9f6e0563c4eb14"
          ]
        },
        "outputId": "ce29a96c-4f9f-4f29-f8d3-50dd145ff73b"
      },
      "outputs": [
        {
          "output_type": "stream",
          "name": "stderr",
          "text": [
            "Downloading: \"https://download.pytorch.org/models/resnet18-f37072fd.pth\" to /root/.cache/torch/hub/checkpoints/resnet18-f37072fd.pth\n"
          ]
        },
        {
          "output_type": "display_data",
          "data": {
            "text/plain": [
              "  0%|          | 0.00/44.7M [00:00<?, ?B/s]"
            ],
            "application/vnd.jupyter.widget-view+json": {
              "version_major": 2,
              "version_minor": 0,
              "model_id": "0efa2cf7c5c44da69b9c13c0bd6d8317"
            }
          },
          "metadata": {}
        }
      ],
      "source": [
        "model_ft = models.resnet18(pretrained=True)\n",
        "num_ftrs = model_ft.fc.in_features\n",
        "# Here the size of each output sample is set to 2.\n",
        "# Alternatively, it can be generalized to nn.Linear(num_ftrs, len(class_names)).\n",
        "model_ft.fc = nn.Linear(num_ftrs, 2)\n",
        "\n",
        "model_ft = model_ft.to(device)\n",
        "\n",
        "criterion = nn.CrossEntropyLoss()\n",
        "\n",
        "# Observe that all parameters are being optimized\n",
        "optimizer_ft = optim.SGD(model_ft.parameters(), lr=0.001, momentum=0.9)\n",
        "\n",
        "# Decay LR by a factor of 0.1 every 7 epochs\n",
        "exp_lr_scheduler = lr_scheduler.StepLR(optimizer_ft, step_size=7, gamma=0.1)"
      ]
    },
    {
      "cell_type": "markdown",
      "metadata": {
        "id": "81Cubevyw3Ij"
      },
      "source": [
        "### Train and evaluate\n",
        "\n",
        "It should take around 15-25 min on CPU. On GPU though, it takes less than a\n",
        "minute.\n",
        "\n",
        "\n"
      ]
    },
    {
      "cell_type": "code",
      "execution_count": null,
      "metadata": {
        "id": "Yv_16KNsw3Ij",
        "colab": {
          "base_uri": "https://localhost:8080/"
        },
        "outputId": "d5415ca0-3bd7-4925-d837-7b8df5b7a698"
      },
      "outputs": [
        {
          "output_type": "stream",
          "name": "stdout",
          "text": [
            "Epoch 0/24\n",
            "----------\n"
          ]
        },
        {
          "output_type": "stream",
          "name": "stderr",
          "text": [
            "/usr/local/lib/python3.7/dist-packages/torch/utils/data/dataloader.py:481: UserWarning: This DataLoader will create 4 worker processes in total. Our suggested max number of worker in current system is 2, which is smaller than what this DataLoader is going to create. Please be aware that excessive worker creation might get DataLoader running slow or even freeze, lower the worker number to avoid potential slowness/freeze if necessary.\n",
            "  cpuset_checked))\n"
          ]
        },
        {
          "output_type": "stream",
          "name": "stdout",
          "text": [
            "train Loss: 0.6185 Acc: 0.6680\n",
            "val Loss: 0.3041 Acc: 0.8824\n",
            "\n",
            "Epoch 1/24\n",
            "----------\n",
            "train Loss: 0.5769 Acc: 0.7582\n",
            "val Loss: 0.3063 Acc: 0.8824\n",
            "\n",
            "Epoch 2/24\n",
            "----------\n",
            "train Loss: 0.6473 Acc: 0.7500\n",
            "val Loss: 0.9341 Acc: 0.7059\n",
            "\n",
            "Epoch 3/24\n",
            "----------\n",
            "train Loss: 0.6645 Acc: 0.7623\n",
            "val Loss: 0.5016 Acc: 0.8301\n",
            "\n",
            "Epoch 4/24\n",
            "----------\n",
            "train Loss: 0.4188 Acc: 0.8197\n",
            "val Loss: 0.2846 Acc: 0.8824\n",
            "\n",
            "Epoch 5/24\n",
            "----------\n",
            "train Loss: 0.5403 Acc: 0.7664\n",
            "val Loss: 0.4075 Acc: 0.8627\n",
            "\n",
            "Epoch 6/24\n",
            "----------\n",
            "train Loss: 0.5111 Acc: 0.8156\n",
            "val Loss: 0.2966 Acc: 0.9085\n",
            "\n",
            "Epoch 7/24\n",
            "----------\n",
            "train Loss: 0.4018 Acc: 0.8402\n",
            "val Loss: 0.2491 Acc: 0.9085\n",
            "\n",
            "Epoch 8/24\n",
            "----------\n",
            "train Loss: 0.4196 Acc: 0.8402\n",
            "val Loss: 0.2542 Acc: 0.9085\n",
            "\n",
            "Epoch 9/24\n",
            "----------\n",
            "train Loss: 0.2944 Acc: 0.8852\n",
            "val Loss: 0.2219 Acc: 0.9216\n",
            "\n",
            "Epoch 10/24\n",
            "----------\n",
            "train Loss: 0.3526 Acc: 0.8566\n",
            "val Loss: 0.2341 Acc: 0.9150\n",
            "\n",
            "Epoch 11/24\n",
            "----------\n",
            "train Loss: 0.3847 Acc: 0.8484\n",
            "val Loss: 0.2402 Acc: 0.9346\n",
            "\n",
            "Epoch 12/24\n",
            "----------\n",
            "train Loss: 0.2371 Acc: 0.9098\n",
            "val Loss: 0.2140 Acc: 0.9281\n",
            "\n",
            "Epoch 13/24\n",
            "----------\n",
            "train Loss: 0.4327 Acc: 0.8279\n",
            "val Loss: 0.2134 Acc: 0.9281\n",
            "\n",
            "Epoch 14/24\n",
            "----------\n",
            "train Loss: 0.3772 Acc: 0.8238\n",
            "val Loss: 0.2199 Acc: 0.9281\n",
            "\n",
            "Epoch 15/24\n",
            "----------\n",
            "train Loss: 0.2995 Acc: 0.8730\n",
            "val Loss: 0.2209 Acc: 0.9150\n",
            "\n",
            "Epoch 16/24\n",
            "----------\n",
            "train Loss: 0.2914 Acc: 0.8893\n",
            "val Loss: 0.2168 Acc: 0.9216\n",
            "\n",
            "Epoch 17/24\n",
            "----------\n",
            "train Loss: 0.3342 Acc: 0.8648\n",
            "val Loss: 0.2242 Acc: 0.9281\n",
            "\n",
            "Epoch 18/24\n",
            "----------\n",
            "train Loss: 0.2961 Acc: 0.8566\n",
            "val Loss: 0.1926 Acc: 0.9346\n",
            "\n",
            "Epoch 19/24\n",
            "----------\n",
            "train Loss: 0.2123 Acc: 0.9098\n",
            "val Loss: 0.2235 Acc: 0.9281\n",
            "\n",
            "Epoch 20/24\n",
            "----------\n",
            "train Loss: 0.2638 Acc: 0.8975\n",
            "val Loss: 0.2206 Acc: 0.9281\n",
            "\n",
            "Epoch 21/24\n",
            "----------\n",
            "train Loss: 0.2665 Acc: 0.8648\n",
            "val Loss: 0.2065 Acc: 0.9346\n",
            "\n",
            "Epoch 22/24\n",
            "----------\n",
            "train Loss: 0.2734 Acc: 0.8852\n",
            "val Loss: 0.2133 Acc: 0.9346\n",
            "\n",
            "Epoch 23/24\n",
            "----------\n",
            "train Loss: 0.3083 Acc: 0.8689\n",
            "val Loss: 0.2210 Acc: 0.9281\n",
            "\n",
            "Epoch 24/24\n",
            "----------\n",
            "train Loss: 0.2897 Acc: 0.8730\n",
            "val Loss: 0.2212 Acc: 0.9281\n",
            "\n",
            "Training complete in 1m 48s\n",
            "Best val Acc: 0.934641\n"
          ]
        }
      ],
      "source": [
        "model_ft = train_model(model_ft, criterion, optimizer_ft, exp_lr_scheduler,\n",
        "                       num_epochs=25)"
      ]
    },
    {
      "cell_type": "code",
      "source": [
        "val_acc_cpu"
      ],
      "metadata": {
        "colab": {
          "base_uri": "https://localhost:8080/"
        },
        "id": "X4mnA8qqzqmq",
        "outputId": "964772cf-d802-4ae3-937e-45e1f2e92c9c"
      },
      "execution_count": null,
      "outputs": [
        {
          "output_type": "execute_result",
          "data": {
            "text/plain": [
              "[0.8823529411764706,\n",
              " 0.8823529411764706,\n",
              " 0.7058823529411765,\n",
              " 0.8300653594771242,\n",
              " 0.8823529411764706,\n",
              " 0.8627450980392157,\n",
              " 0.9084967320261438,\n",
              " 0.9084967320261438,\n",
              " 0.9084967320261438,\n",
              " 0.9215686274509804,\n",
              " 0.9150326797385622,\n",
              " 0.934640522875817,\n",
              " 0.9281045751633987,\n",
              " 0.9281045751633987,\n",
              " 0.9281045751633987,\n",
              " 0.9150326797385622,\n",
              " 0.9215686274509804,\n",
              " 0.9281045751633987,\n",
              " 0.934640522875817,\n",
              " 0.9281045751633987,\n",
              " 0.9281045751633987,\n",
              " 0.934640522875817,\n",
              " 0.934640522875817,\n",
              " 0.9281045751633987,\n",
              " 0.9281045751633987]"
            ]
          },
          "metadata": {},
          "execution_count": 13
        }
      ]
    },
    {
      "cell_type": "markdown",
      "source": [
        "----------------------------\n",
        "(Modified Section)\n",
        "----------------------------\n",
        "\n",
        "### Part c\n",
        "  The CPU values saved from the tensors can be used to plot the epoc vs. validation accuracy and loss"
      ],
      "metadata": {
        "id": "-JuV-Mxxg5Su"
      }
    },
    {
      "cell_type": "markdown",
      "source": [
        "-------\n",
        "\n",
        "Create Model will use the parameters that we would like to explore.  These will include a default value,  for example for initial 3 runs we keep the weight decay of 0 and vary the learning rate momentum.  Epochs can be varied in train model time.\n",
        "\n",
        "Finally we will change the weight decay and observe the convergence"
      ],
      "metadata": {
        "id": "XP_i6sCBmj3V"
      }
    },
    {
      "cell_type": "code",
      "execution_count": null,
      "metadata": {
        "id": "gNhih-HxMNJc"
      },
      "outputs": [],
      "source": [
        "def create_model ( lr=0.001, momentum=0.9, weight_decay=0):\n",
        "  model_ft = models.resnet18(pretrained=True)\n",
        "  num_ftrs = model_ft.fc.in_features\n",
        "  # Here the size of each output sample is set to 2.\n",
        "  # Alternatively, it can be generalized to nn.Linear(num_ftrs, len(class_names)).\n",
        "  model_ft.fc = nn.Linear(num_ftrs, 2)\n",
        "\n",
        "  model_ft = model_ft.to(device)\n",
        "\n",
        "  criterion = nn.CrossEntropyLoss()\n",
        "\n",
        "  # Observe that all parameters are being optimized\n",
        "  optimizer_ft = optim.SGD(model_ft.parameters(), lr, momentum, \n",
        "                           weight_decay)\n",
        "\n",
        "  # Decay LR by a factor of 0.1 every 7 epochs\n",
        "  exp_lr_scheduler = lr_scheduler.StepLR(optimizer_ft, step_size=7, gamma=0.1)\n",
        "\n",
        "  return model_ft,  optimizer_ft, exp_lr_scheduler, criterion "
      ]
    },
    {
      "cell_type": "code",
      "source": [
        "## For parameter set 1\n",
        "# Learning rate lr=0.001, momentum=0.9, no of epochs 24\n",
        "num_epochs_cpu1 = num_epochs_cpu.copy()\n",
        "val_loss_cpu1 = val_loss_cpu.copy()\n",
        "val_acc_cpu1 = val_loss_cpu.copy()"
      ],
      "metadata": {
        "id": "Lf12ldtntnPZ"
      },
      "execution_count": null,
      "outputs": []
    },
    {
      "cell_type": "code",
      "source": [
        "def plt_valacc(num_epochs, val_loss, val_acc, title):\n",
        "  ## plot b, val_loss/val_acc\n",
        "  plt.subplot(1, 2, 1)\n",
        "  plt.scatter( num_epochs, val_loss) \n",
        "  # We can add labels and title\n",
        "  plt.xlabel('Epoch')\n",
        "  plt.ylabel('Loss')\n",
        "  plt.title(title)\n",
        "\n",
        "  plt.subplot(1, 2, 2)\n",
        "  plt.scatter( num_epochs, val_acc) \n",
        "  # We can add labels and title\n",
        "  plt.xlabel('Epoch')\n",
        "  plt.ylabel('Accuracy')\n",
        "  plt.title(title)\n",
        "  ##  define some spacing between the two sub plots\n",
        "  plt.subplots_adjust(left=0.1,\n",
        "                    bottom=0.1, \n",
        "                    right=2.0, \n",
        "                    top=0.9, \n",
        "                    wspace=0.4, \n",
        "                    hspace=0.4)\n",
        "\n",
        "  plt.show()  "
      ],
      "metadata": {
        "id": "sA800w5SkliW"
      },
      "execution_count": null,
      "outputs": []
    },
    {
      "cell_type": "code",
      "source": [
        "plt_valacc( num_epochs_cpu1, val_loss_cpu1, val_acc_cpu1, 'Run 1 Original Values')"
      ],
      "metadata": {
        "colab": {
          "base_uri": "https://localhost:8080/",
          "height": 308
        },
        "id": "g9cfF4VLu3n3",
        "outputId": "f1f5ebd9-2432-46da-cc44-2d82a9d65243"
      },
      "execution_count": null,
      "outputs": [
        {
          "output_type": "display_data",
          "data": {
            "text/plain": [
              "<Figure size 432x288 with 2 Axes>"
            ],
            "image/png": "[encoded data removed]"
          },
          "metadata": {
            "needs_background": "light"
          }
        }
      ]
    },
    {
      "cell_type": "code",
      "execution_count": null,
      "metadata": {
        "id": "ZvwC1cGXw3Ij",
        "colab": {
          "base_uri": "https://localhost:8080/",
          "height": 636
        },
        "outputId": "2396f534-733e-4f92-836d-087f191ae9c8"
      },
      "outputs": [
        {
          "output_type": "stream",
          "name": "stderr",
          "text": [
            "/usr/local/lib/python3.7/dist-packages/torch/utils/data/dataloader.py:481: UserWarning: This DataLoader will create 4 worker processes in total. Our suggested max number of worker in current system is 2, which is smaller than what this DataLoader is going to create. Please be aware that excessive worker creation might get DataLoader running slow or even freeze, lower the worker number to avoid potential slowness/freeze if necessary.\n",
            "  cpuset_checked))\n"
          ]
        },
        {
          "output_type": "display_data",
          "data": {
            "text/plain": [
              "<Figure size 432x288 with 1 Axes>"
            ],
            "image/png": "[encoded data removed]"
          },
          "metadata": {
            "needs_background": "light"
          }
        },
        {
          "output_type": "display_data",
          "data": {
            "text/plain": [
              "<Figure size 432x288 with 1 Axes>"
            ],
            "image/png": "[encoded data removed]"
          },
          "metadata": {
            "needs_background": "light"
          }
        },
        {
          "output_type": "display_data",
          "data": {
            "text/plain": [
              "<Figure size 432x288 with 1 Axes>"
            ],
            "image/png": "[encoded data removed]"
          },
          "metadata": {
            "needs_background": "light"
          }
        },
        {
          "output_type": "display_data",
          "data": {
            "text/plain": [
              "<Figure size 432x288 with 1 Axes>"
            ],
            "image/png": "[encoded data removed]"
          },
          "metadata": {
            "needs_background": "light"
          }
        },
        {
          "output_type": "display_data",
          "data": {
            "text/plain": [
              "<Figure size 432x288 with 1 Axes>"
            ],
            "image/png": "[encoded data removed]"
          },
          "metadata": {
            "needs_background": "light"
          }
        },
        {
          "output_type": "display_data",
          "data": {
            "text/plain": [
              "<Figure size 432x288 with 1 Axes>"
            ],
            "image/png": "[encoded data removed]"
          },
          "metadata": {
            "needs_background": "light"
          }
        }
      ],
      "source": [
        "visualize_model(model_ft)"
      ]
    },
    {
      "cell_type": "code",
      "source": [
        "# Create and run the Second model\n",
        "model_ft, optimizer_ft, exp_lr_scheduler, criterion = create_model( lr=0.01, momentum=0.8)\n",
        "model_ft = train_model(model_ft, criterion, optimizer_ft, exp_lr_scheduler,\n",
        "                       num_epochs=30)"
      ],
      "metadata": {
        "colab": {
          "base_uri": "https://localhost:8080/"
        },
        "id": "Uw_OGqmTQxUY",
        "outputId": "a3536db7-a245-45f0-b044-8d600d570ca2"
      },
      "execution_count": null,
      "outputs": [
        {
          "output_type": "stream",
          "name": "stdout",
          "text": [
            "Epoch 0/29\n",
            "----------\n"
          ]
        },
        {
          "output_type": "stream",
          "name": "stderr",
          "text": [
            "/usr/local/lib/python3.7/dist-packages/torch/utils/data/dataloader.py:481: UserWarning: This DataLoader will create 4 worker processes in total. Our suggested max number of worker in current system is 2, which is smaller than what this DataLoader is going to create. Please be aware that excessive worker creation might get DataLoader running slow or even freeze, lower the worker number to avoid potential slowness/freeze if necessary.\n",
            "  cpuset_checked))\n"
          ]
        },
        {
          "output_type": "stream",
          "name": "stdout",
          "text": [
            "train Loss: 1.9512 Acc: 0.5492\n",
            "val Loss: 13.6555 Acc: 0.4575\n",
            "\n",
            "Epoch 1/29\n",
            "----------\n",
            "train Loss: 1.8755 Acc: 0.4959\n",
            "val Loss: 1.5236 Acc: 0.5752\n",
            "\n",
            "Epoch 2/29\n",
            "----------\n",
            "train Loss: 1.3558 Acc: 0.5082\n",
            "val Loss: 4.0789 Acc: 0.5229\n",
            "\n",
            "Epoch 3/29\n",
            "----------\n",
            "train Loss: 1.2109 Acc: 0.4918\n",
            "val Loss: 2.2834 Acc: 0.5425\n",
            "\n",
            "Epoch 4/29\n",
            "----------\n",
            "train Loss: 1.2358 Acc: 0.5656\n",
            "val Loss: 2.7992 Acc: 0.5556\n",
            "\n",
            "Epoch 5/29\n",
            "----------\n",
            "train Loss: 1.2941 Acc: 0.5902\n",
            "val Loss: 3.0905 Acc: 0.5752\n",
            "\n",
            "Epoch 6/29\n",
            "----------\n",
            "train Loss: 1.2459 Acc: 0.5861\n",
            "val Loss: 0.6050 Acc: 0.6797\n",
            "\n",
            "Epoch 7/29\n",
            "----------\n",
            "train Loss: 0.6859 Acc: 0.6148\n",
            "val Loss: 0.6408 Acc: 0.7190\n",
            "\n",
            "Epoch 8/29\n",
            "----------\n",
            "train Loss: 0.6557 Acc: 0.6475\n",
            "val Loss: 0.6167 Acc: 0.7451\n",
            "\n",
            "Epoch 9/29\n",
            "----------\n",
            "train Loss: 0.5995 Acc: 0.7213\n",
            "val Loss: 0.5805 Acc: 0.7190\n",
            "\n",
            "Epoch 10/29\n",
            "----------\n",
            "train Loss: 0.6148 Acc: 0.6844\n",
            "val Loss: 0.5801 Acc: 0.7190\n",
            "\n",
            "Epoch 11/29\n",
            "----------\n",
            "train Loss: 0.6074 Acc: 0.6885\n",
            "val Loss: 0.6900 Acc: 0.6863\n",
            "\n",
            "Epoch 12/29\n",
            "----------\n",
            "train Loss: 0.6423 Acc: 0.6721\n",
            "val Loss: 0.6771 Acc: 0.7386\n",
            "\n",
            "Epoch 13/29\n",
            "----------\n",
            "train Loss: 0.6040 Acc: 0.6680\n",
            "val Loss: 0.6044 Acc: 0.7124\n",
            "\n",
            "Epoch 14/29\n",
            "----------\n",
            "train Loss: 0.6437 Acc: 0.6803\n",
            "val Loss: 0.7923 Acc: 0.6667\n",
            "\n",
            "Epoch 15/29\n",
            "----------\n",
            "train Loss: 0.6340 Acc: 0.6189\n",
            "val Loss: 0.7141 Acc: 0.6667\n",
            "\n",
            "Epoch 16/29\n",
            "----------\n",
            "train Loss: 0.6245 Acc: 0.6639\n",
            "val Loss: 0.5650 Acc: 0.7124\n",
            "\n",
            "Epoch 17/29\n",
            "----------\n",
            "train Loss: 0.5660 Acc: 0.6967\n",
            "val Loss: 0.6024 Acc: 0.6732\n",
            "\n",
            "Epoch 18/29\n",
            "----------\n",
            "train Loss: 0.5817 Acc: 0.6885\n",
            "val Loss: 0.6022 Acc: 0.6797\n",
            "\n",
            "Epoch 19/29\n",
            "----------\n",
            "train Loss: 0.6083 Acc: 0.6844\n",
            "val Loss: 0.5941 Acc: 0.6928\n",
            "\n",
            "Epoch 20/29\n",
            "----------\n",
            "train Loss: 0.5901 Acc: 0.6475\n",
            "val Loss: 0.5666 Acc: 0.7124\n",
            "\n",
            "Epoch 21/29\n",
            "----------\n",
            "train Loss: 0.5834 Acc: 0.7172\n",
            "val Loss: 0.5652 Acc: 0.7190\n",
            "\n",
            "Epoch 22/29\n",
            "----------\n",
            "train Loss: 0.5831 Acc: 0.7008\n",
            "val Loss: 0.6064 Acc: 0.7255\n",
            "\n",
            "Epoch 23/29\n",
            "----------\n",
            "train Loss: 0.6231 Acc: 0.6639\n",
            "val Loss: 0.7963 Acc: 0.6405\n",
            "\n",
            "Epoch 24/29\n",
            "----------\n",
            "train Loss: 0.6312 Acc: 0.6393\n",
            "val Loss: 0.5854 Acc: 0.7059\n",
            "\n",
            "Epoch 25/29\n",
            "----------\n",
            "train Loss: 0.6206 Acc: 0.6557\n",
            "val Loss: 0.5823 Acc: 0.6863\n",
            "\n",
            "Epoch 26/29\n",
            "----------\n",
            "train Loss: 0.6329 Acc: 0.6803\n",
            "val Loss: 0.5767 Acc: 0.6928\n",
            "\n",
            "Epoch 27/29\n",
            "----------\n",
            "train Loss: 0.6202 Acc: 0.6598\n",
            "val Loss: 0.5820 Acc: 0.6928\n",
            "\n",
            "Epoch 28/29\n",
            "----------\n",
            "train Loss: 0.6226 Acc: 0.6516\n",
            "val Loss: 0.5774 Acc: 0.7190\n",
            "\n",
            "Epoch 29/29\n",
            "----------\n",
            "train Loss: 0.5903 Acc: 0.6844\n",
            "val Loss: 0.5714 Acc: 0.7255\n",
            "\n",
            "Training complete in 2m 8s\n",
            "Best val Acc: 0.745098\n"
          ]
        }
      ]
    },
    {
      "cell_type": "code",
      "source": [
        "## Part d: For parameter set 2\n",
        "# Learning rate lr=0.01, momentum=0.8, no of epochs 30\n",
        "num_epochs_cpu2 = num_epochs_cpu.copy()\n",
        "val_loss_cpu2 = val_loss_cpu.copy()\n",
        "val_acc_cpu2 = val_loss_cpu.copy()\n",
        "plt_valacc( num_epochs_cpu2, val_loss_cpu2, val_acc_cpu2, 'Run 2')"
      ],
      "metadata": {
        "colab": {
          "base_uri": "https://localhost:8080/",
          "height": 308
        },
        "id": "dn2dPlDfScqY",
        "outputId": "95363fde-e039-49eb-d6d4-68a458650030"
      },
      "execution_count": null,
      "outputs": [
        {
          "output_type": "display_data",
          "data": {
            "text/plain": [
              "<Figure size 432x288 with 2 Axes>"
            ],
            "image/png": "[encoded data removed]"
          },
          "metadata": {
            "needs_background": "light"
          }
        }
      ]
    },
    {
      "cell_type": "code",
      "source": [
        "# Create and run the Third model\n",
        "model_ft, optimizer_ft, exp_lr_scheduler, criterion = create_model( lr=0.0001, momentum=0.7)\n",
        "model_ft = train_model(model_ft, criterion, optimizer_ft, exp_lr_scheduler,\n",
        "                       num_epochs=20)"
      ],
      "metadata": {
        "colab": {
          "base_uri": "https://localhost:8080/"
        },
        "id": "aIqtaRpsTMLA",
        "outputId": "7cdd7be8-663f-4d40-f6e4-cb8e686f7691"
      },
      "execution_count": null,
      "outputs": [
        {
          "output_type": "stream",
          "name": "stdout",
          "text": [
            "Epoch 0/19\n",
            "----------\n"
          ]
        },
        {
          "output_type": "stream",
          "name": "stderr",
          "text": [
            "/usr/local/lib/python3.7/dist-packages/torch/utils/data/dataloader.py:481: UserWarning: This DataLoader will create 4 worker processes in total. Our suggested max number of worker in current system is 2, which is smaller than what this DataLoader is going to create. Please be aware that excessive worker creation might get DataLoader running slow or even freeze, lower the worker number to avoid potential slowness/freeze if necessary.\n",
            "  cpuset_checked))\n"
          ]
        },
        {
          "output_type": "stream",
          "name": "stdout",
          "text": [
            "train Loss: 0.7138 Acc: 0.5451\n",
            "val Loss: 0.6254 Acc: 0.6471\n",
            "\n",
            "Epoch 1/19\n",
            "----------\n",
            "train Loss: 0.6029 Acc: 0.6721\n",
            "val Loss: 0.5604 Acc: 0.7451\n",
            "\n",
            "Epoch 2/19\n",
            "----------\n",
            "train Loss: 0.5948 Acc: 0.7008\n",
            "val Loss: 0.4639 Acc: 0.8301\n",
            "\n",
            "Epoch 3/19\n",
            "----------\n",
            "train Loss: 0.5443 Acc: 0.7459\n",
            "val Loss: 0.4290 Acc: 0.8627\n",
            "\n",
            "Epoch 4/19\n",
            "----------\n",
            "train Loss: 0.5315 Acc: 0.7746\n",
            "val Loss: 0.3933 Acc: 0.8824\n",
            "\n",
            "Epoch 5/19\n",
            "----------\n",
            "train Loss: 0.4810 Acc: 0.8156\n",
            "val Loss: 0.3602 Acc: 0.8693\n",
            "\n",
            "Epoch 6/19\n",
            "----------\n",
            "train Loss: 0.4613 Acc: 0.8074\n",
            "val Loss: 0.3410 Acc: 0.8889\n",
            "\n",
            "Epoch 7/19\n",
            "----------\n",
            "train Loss: 0.4715 Acc: 0.7951\n",
            "val Loss: 0.3405 Acc: 0.9020\n",
            "\n",
            "Epoch 8/19\n",
            "----------\n",
            "train Loss: 0.4562 Acc: 0.8033\n",
            "val Loss: 0.3437 Acc: 0.8954\n",
            "\n",
            "Epoch 9/19\n",
            "----------\n",
            "train Loss: 0.4879 Acc: 0.7459\n",
            "val Loss: 0.3269 Acc: 0.8954\n",
            "\n",
            "Epoch 10/19\n",
            "----------\n",
            "train Loss: 0.4567 Acc: 0.8320\n",
            "val Loss: 0.3342 Acc: 0.9085\n",
            "\n",
            "Epoch 11/19\n",
            "----------\n",
            "train Loss: 0.4890 Acc: 0.7746\n",
            "val Loss: 0.3200 Acc: 0.9085\n",
            "\n",
            "Epoch 12/19\n",
            "----------\n",
            "train Loss: 0.4627 Acc: 0.8197\n",
            "val Loss: 0.3234 Acc: 0.9150\n",
            "\n",
            "Epoch 13/19\n",
            "----------\n",
            "train Loss: 0.4352 Acc: 0.8320\n",
            "val Loss: 0.3302 Acc: 0.9085\n",
            "\n",
            "Epoch 14/19\n",
            "----------\n",
            "train Loss: 0.4531 Acc: 0.8238\n",
            "val Loss: 0.3284 Acc: 0.8954\n",
            "\n",
            "Epoch 15/19\n",
            "----------\n",
            "train Loss: 0.4221 Acc: 0.8361\n",
            "val Loss: 0.3214 Acc: 0.9020\n",
            "\n",
            "Epoch 16/19\n",
            "----------\n",
            "train Loss: 0.4816 Acc: 0.7664\n",
            "val Loss: 0.3131 Acc: 0.9216\n",
            "\n",
            "Epoch 17/19\n",
            "----------\n",
            "train Loss: 0.4566 Acc: 0.8074\n",
            "val Loss: 0.3257 Acc: 0.9020\n",
            "\n",
            "Epoch 18/19\n",
            "----------\n",
            "train Loss: 0.4582 Acc: 0.8074\n",
            "val Loss: 0.3240 Acc: 0.9020\n",
            "\n",
            "Epoch 19/19\n",
            "----------\n",
            "train Loss: 0.4356 Acc: 0.8197\n",
            "val Loss: 0.3254 Acc: 0.8824\n",
            "\n",
            "Training complete in 1m 25s\n",
            "Best val Acc: 0.921569\n"
          ]
        }
      ]
    },
    {
      "cell_type": "code",
      "source": [
        "##Part d: For parameter set 3\n",
        "# Learning rate lr=0.0001, momentum=0.7, no of epochs 20\n",
        "num_epochs_cpu3 = num_epochs_cpu.copy()\n",
        "val_loss_cpu3 = val_loss_cpu.copy()\n",
        "val_acc_cpu3 = val_loss_cpu.copy()\n",
        "plt_valacc( num_epochs_cpu3, val_loss_cpu3, val_acc_cpu3, 'Run 3')"
      ],
      "metadata": {
        "colab": {
          "base_uri": "https://localhost:8080/",
          "height": 308
        },
        "id": "l2LQRQGPTfCK",
        "outputId": "bb6db409-a56e-43b2-c71f-3e6a729c77f2"
      },
      "execution_count": null,
      "outputs": [
        {
          "output_type": "display_data",
          "data": {
            "text/plain": [
              "<Figure size 432x288 with 2 Axes>"
            ],
            "image/png": "[encoded data removed]"
          },
          "metadata": {
            "needs_background": "light"
          }
        }
      ]
    },
    {
      "cell_type": "code",
      "source": [
        "# Create and run the Fourth model\n",
        "model_ft, optimizer_ft, exp_lr_scheduler, criterion = create_model( lr=0.0005, momentum=0.75)\n",
        "model_ft = train_model(model_ft, criterion, optimizer_ft, exp_lr_scheduler,\n",
        "                       num_epochs=35)"
      ],
      "metadata": {
        "colab": {
          "base_uri": "https://localhost:8080/"
        },
        "id": "mObuF-V2ZT55",
        "outputId": "cdf6bab2-e961-4f71-d5bd-6aaba6f6f2c2"
      },
      "execution_count": null,
      "outputs": [
        {
          "output_type": "stream",
          "name": "stdout",
          "text": [
            "Epoch 0/34\n",
            "----------\n"
          ]
        },
        {
          "output_type": "stream",
          "name": "stderr",
          "text": [
            "/usr/local/lib/python3.7/dist-packages/torch/utils/data/dataloader.py:481: UserWarning: This DataLoader will create 4 worker processes in total. Our suggested max number of worker in current system is 2, which is smaller than what this DataLoader is going to create. Please be aware that excessive worker creation might get DataLoader running slow or even freeze, lower the worker number to avoid potential slowness/freeze if necessary.\n",
            "  cpuset_checked))\n"
          ]
        },
        {
          "output_type": "stream",
          "name": "stdout",
          "text": [
            "train Loss: 0.6117 Acc: 0.6557\n",
            "val Loss: 0.2969 Acc: 0.9281\n",
            "\n",
            "Epoch 1/34\n",
            "----------\n",
            "train Loss: 0.4165 Acc: 0.8238\n",
            "val Loss: 0.2235 Acc: 0.9281\n",
            "\n",
            "Epoch 2/34\n",
            "----------\n",
            "train Loss: 0.4285 Acc: 0.7869\n",
            "val Loss: 0.1875 Acc: 0.9412\n",
            "\n",
            "Epoch 3/34\n",
            "----------\n",
            "train Loss: 0.3985 Acc: 0.8033\n",
            "val Loss: 0.2208 Acc: 0.9150\n",
            "\n",
            "Epoch 4/34\n",
            "----------\n",
            "train Loss: 0.3431 Acc: 0.8320\n",
            "val Loss: 0.1597 Acc: 0.9477\n",
            "\n",
            "Epoch 5/34\n",
            "----------\n",
            "train Loss: 0.4269 Acc: 0.7705\n",
            "val Loss: 0.1654 Acc: 0.9542\n",
            "\n",
            "Epoch 6/34\n",
            "----------\n",
            "train Loss: 0.3881 Acc: 0.8197\n",
            "val Loss: 0.1449 Acc: 0.9542\n",
            "\n",
            "Epoch 7/34\n",
            "----------\n",
            "train Loss: 0.3335 Acc: 0.8443\n",
            "val Loss: 0.1509 Acc: 0.9477\n",
            "\n",
            "Epoch 8/34\n",
            "----------\n",
            "train Loss: 0.3019 Acc: 0.8607\n",
            "val Loss: 0.1527 Acc: 0.9542\n",
            "\n",
            "Epoch 9/34\n",
            "----------\n",
            "train Loss: 0.2875 Acc: 0.8730\n",
            "val Loss: 0.1543 Acc: 0.9346\n",
            "\n",
            "Epoch 10/34\n",
            "----------\n",
            "train Loss: 0.3377 Acc: 0.8607\n",
            "val Loss: 0.1586 Acc: 0.9412\n",
            "\n",
            "Epoch 11/34\n",
            "----------\n",
            "train Loss: 0.3302 Acc: 0.8443\n",
            "val Loss: 0.1426 Acc: 0.9542\n",
            "\n",
            "Epoch 12/34\n",
            "----------\n",
            "train Loss: 0.3596 Acc: 0.8197\n",
            "val Loss: 0.1538 Acc: 0.9412\n",
            "\n",
            "Epoch 13/34\n",
            "----------\n",
            "train Loss: 0.2880 Acc: 0.8934\n",
            "val Loss: 0.1597 Acc: 0.9542\n",
            "\n",
            "Epoch 14/34\n",
            "----------\n",
            "train Loss: 0.2461 Acc: 0.9139\n",
            "val Loss: 0.1453 Acc: 0.9477\n",
            "\n",
            "Epoch 15/34\n",
            "----------\n",
            "train Loss: 0.2859 Acc: 0.8811\n",
            "val Loss: 0.1615 Acc: 0.9412\n",
            "\n",
            "Epoch 16/34\n",
            "----------\n",
            "train Loss: 0.3987 Acc: 0.7951\n",
            "val Loss: 0.1689 Acc: 0.9412\n",
            "\n",
            "Epoch 17/34\n",
            "----------\n",
            "train Loss: 0.2609 Acc: 0.9057\n",
            "val Loss: 0.1615 Acc: 0.9477\n",
            "\n",
            "Epoch 18/34\n",
            "----------\n",
            "train Loss: 0.3767 Acc: 0.8279\n",
            "val Loss: 0.1518 Acc: 0.9542\n",
            "\n",
            "Epoch 19/34\n",
            "----------\n",
            "train Loss: 0.2748 Acc: 0.8975\n",
            "val Loss: 0.1463 Acc: 0.9608\n",
            "\n",
            "Epoch 20/34\n",
            "----------\n",
            "train Loss: 0.3828 Acc: 0.8238\n",
            "val Loss: 0.1569 Acc: 0.9412\n",
            "\n",
            "Epoch 21/34\n",
            "----------\n",
            "train Loss: 0.3189 Acc: 0.8566\n",
            "val Loss: 0.1556 Acc: 0.9542\n",
            "\n",
            "Epoch 22/34\n",
            "----------\n",
            "train Loss: 0.3167 Acc: 0.8484\n",
            "val Loss: 0.1545 Acc: 0.9542\n",
            "\n",
            "Epoch 23/34\n",
            "----------\n",
            "train Loss: 0.2895 Acc: 0.8852\n",
            "val Loss: 0.1535 Acc: 0.9542\n",
            "\n",
            "Epoch 24/34\n",
            "----------\n",
            "train Loss: 0.3130 Acc: 0.8607\n",
            "val Loss: 0.1632 Acc: 0.9281\n",
            "\n",
            "Epoch 25/34\n",
            "----------\n",
            "train Loss: 0.3498 Acc: 0.8279\n",
            "val Loss: 0.1449 Acc: 0.9542\n",
            "\n",
            "Epoch 26/34\n",
            "----------\n",
            "train Loss: 0.3706 Acc: 0.8115\n",
            "val Loss: 0.1383 Acc: 0.9542\n",
            "\n",
            "Epoch 27/34\n",
            "----------\n",
            "train Loss: 0.3078 Acc: 0.8730\n",
            "val Loss: 0.1675 Acc: 0.9346\n",
            "\n",
            "Epoch 28/34\n",
            "----------\n",
            "train Loss: 0.3517 Acc: 0.8525\n",
            "val Loss: 0.1646 Acc: 0.9412\n",
            "\n",
            "Epoch 29/34\n",
            "----------\n",
            "train Loss: 0.3273 Acc: 0.8443\n",
            "val Loss: 0.1488 Acc: 0.9542\n",
            "\n",
            "Epoch 30/34\n",
            "----------\n",
            "train Loss: 0.3187 Acc: 0.8566\n",
            "val Loss: 0.1434 Acc: 0.9542\n",
            "\n",
            "Epoch 31/34\n",
            "----------\n",
            "train Loss: 0.2802 Acc: 0.8934\n",
            "val Loss: 0.1733 Acc: 0.9412\n",
            "\n",
            "Epoch 32/34\n",
            "----------\n",
            "train Loss: 0.3568 Acc: 0.8361\n",
            "val Loss: 0.1485 Acc: 0.9542\n",
            "\n",
            "Epoch 33/34\n",
            "----------\n",
            "train Loss: 0.2844 Acc: 0.8811\n",
            "val Loss: 0.1521 Acc: 0.9477\n",
            "\n",
            "Epoch 34/34\n",
            "----------\n",
            "train Loss: 0.3171 Acc: 0.8525\n",
            "val Loss: 0.1569 Acc: 0.9477\n",
            "\n",
            "Training complete in 2m 30s\n",
            "Best val Acc: 0.960784\n"
          ]
        }
      ]
    },
    {
      "cell_type": "code",
      "source": [
        "## Part d: For parameter set 4\n",
        "# Learning rate lr=0.0001, momentum=0.7, no of epochs 20\n",
        "num_epochs_cpu4 = num_epochs_cpu.copy()\n",
        "val_loss_cpu4 = val_loss_cpu.copy()\n",
        "val_acc_cpu4 = val_loss_cpu.copy()\n",
        "plt_valacc( num_epochs_cpu4, val_loss_cpu4, val_acc_cpu4, 'Run 4')"
      ],
      "metadata": {
        "colab": {
          "base_uri": "https://localhost:8080/",
          "height": 308
        },
        "outputId": "3dfa23b5-35b8-46f5-f94d-298a0e51b740",
        "id": "j3_M9Gh9ZT55"
      },
      "execution_count": null,
      "outputs": [
        {
          "output_type": "display_data",
          "data": {
            "text/plain": [
              "<Figure size 432x288 with 2 Axes>"
            ],
            "image/png": "[encoded data removed]"
          },
          "metadata": {
            "needs_background": "light"
          }
        }
      ]
    },
    {
      "cell_type": "markdown",
      "source": [
        "-------\n",
        "(Modified Section)\n",
        "-------\n",
        "### Part e\n",
        "\n",
        "Introduction of the weight decay.\n",
        "\n",
        "We will train the model with 3 levels fo weight decay.  If the weight decay is too large then it has a risk of overfit and too small weight decay may lead to delayed convergence.\n",
        "The reference weight decay suggestions are:\n",
        "* 0.1\n",
        "* 0.01  (fast.ai recommendation)\n",
        "* 0.05\n",
        "\n",
        "\n",
        "references:\n",
        "1. https://medium.com/analytics-vidhya/deep-learning-basics-weight-decay-3c68eb4344e9\n",
        "https://towardsdatascience.com/this-thing-called-weight-decay-a7cd4bcfccab"
      ],
      "metadata": {
        "id": "_oK5uR-mbBGy"
      }
    },
    {
      "cell_type": "code",
      "source": [
        "# Create and run the Fifth model with weight decay of 0.1\n",
        "model_ft, optimizer_ft, exp_lr_scheduler, criterion = create_model( weight_decay=0.1)\n",
        "model_ft = train_model(model_ft, criterion, optimizer_ft, exp_lr_scheduler,\n",
        "                       num_epochs=25)"
      ],
      "metadata": {
        "colab": {
          "base_uri": "https://localhost:8080/"
        },
        "id": "5QZhgFypckkr",
        "outputId": "1eaf61ca-f952-4fae-ccc8-40322ce7a603"
      },
      "execution_count": null,
      "outputs": [
        {
          "output_type": "stream",
          "name": "stdout",
          "text": [
            "Epoch 0/24\n",
            "----------\n"
          ]
        },
        {
          "output_type": "stream",
          "name": "stderr",
          "text": [
            "/usr/local/lib/python3.7/dist-packages/torch/utils/data/dataloader.py:481: UserWarning: This DataLoader will create 4 worker processes in total. Our suggested max number of worker in current system is 2, which is smaller than what this DataLoader is going to create. Please be aware that excessive worker creation might get DataLoader running slow or even freeze, lower the worker number to avoid potential slowness/freeze if necessary.\n",
            "  cpuset_checked))\n"
          ]
        },
        {
          "output_type": "stream",
          "name": "stdout",
          "text": [
            "train Loss: 0.6187 Acc: 0.7090\n",
            "val Loss: 0.1889 Acc: 0.9216\n",
            "\n",
            "Epoch 1/24\n",
            "----------\n",
            "train Loss: 0.6254 Acc: 0.7336\n",
            "val Loss: 0.2692 Acc: 0.8824\n",
            "\n",
            "Epoch 2/24\n",
            "----------\n",
            "train Loss: 0.4095 Acc: 0.8320\n",
            "val Loss: 0.1446 Acc: 0.9477\n",
            "\n",
            "Epoch 3/24\n",
            "----------\n",
            "train Loss: 0.6331 Acc: 0.7336\n",
            "val Loss: 0.2122 Acc: 0.9020\n",
            "\n",
            "Epoch 4/24\n",
            "----------\n",
            "train Loss: 0.4376 Acc: 0.7992\n",
            "val Loss: 0.1702 Acc: 0.9412\n",
            "\n",
            "Epoch 5/24\n",
            "----------\n",
            "train Loss: 0.4954 Acc: 0.8197\n",
            "val Loss: 0.1943 Acc: 0.9281\n",
            "\n",
            "Epoch 6/24\n",
            "----------\n",
            "train Loss: 0.3892 Acc: 0.8402\n",
            "val Loss: 0.2126 Acc: 0.9216\n",
            "\n",
            "Epoch 7/24\n",
            "----------\n",
            "train Loss: 0.2998 Acc: 0.8648\n",
            "val Loss: 0.1943 Acc: 0.9412\n",
            "\n",
            "Epoch 8/24\n",
            "----------\n",
            "train Loss: 0.3583 Acc: 0.8484\n",
            "val Loss: 0.1710 Acc: 0.9412\n",
            "\n",
            "Epoch 9/24\n",
            "----------\n",
            "train Loss: 0.3073 Acc: 0.8811\n",
            "val Loss: 0.1827 Acc: 0.9281\n",
            "\n",
            "Epoch 10/24\n",
            "----------\n",
            "train Loss: 0.3181 Acc: 0.8689\n",
            "val Loss: 0.1804 Acc: 0.9346\n",
            "\n",
            "Epoch 11/24\n",
            "----------\n",
            "train Loss: 0.3515 Acc: 0.8402\n",
            "val Loss: 0.1839 Acc: 0.9346\n",
            "\n",
            "Epoch 12/24\n",
            "----------\n",
            "train Loss: 0.2541 Acc: 0.8934\n",
            "val Loss: 0.1908 Acc: 0.9281\n",
            "\n",
            "Epoch 13/24\n",
            "----------\n",
            "train Loss: 0.3468 Acc: 0.8238\n",
            "val Loss: 0.2032 Acc: 0.9085\n",
            "\n",
            "Epoch 14/24\n",
            "----------\n",
            "train Loss: 0.2877 Acc: 0.8934\n",
            "val Loss: 0.1774 Acc: 0.9346\n",
            "\n",
            "Epoch 15/24\n",
            "----------\n",
            "train Loss: 0.2832 Acc: 0.8648\n",
            "val Loss: 0.1813 Acc: 0.9346\n",
            "\n",
            "Epoch 16/24\n",
            "----------\n",
            "train Loss: 0.2501 Acc: 0.9098\n",
            "val Loss: 0.1958 Acc: 0.9346\n",
            "\n",
            "Epoch 17/24\n",
            "----------\n",
            "train Loss: 0.3501 Acc: 0.8320\n",
            "val Loss: 0.1922 Acc: 0.9346\n",
            "\n",
            "Epoch 18/24\n",
            "----------\n",
            "train Loss: 0.1776 Acc: 0.9180\n",
            "val Loss: 0.2091 Acc: 0.9216\n",
            "\n",
            "Epoch 19/24\n",
            "----------\n",
            "train Loss: 0.3197 Acc: 0.8730\n",
            "val Loss: 0.2224 Acc: 0.9085\n",
            "\n",
            "Epoch 20/24\n",
            "----------\n",
            "train Loss: 0.2329 Acc: 0.9098\n",
            "val Loss: 0.2109 Acc: 0.9346\n",
            "\n",
            "Epoch 21/24\n",
            "----------\n",
            "train Loss: 0.2296 Acc: 0.9262\n",
            "val Loss: 0.2035 Acc: 0.9346\n",
            "\n",
            "Epoch 22/24\n",
            "----------\n",
            "train Loss: 0.2310 Acc: 0.8975\n",
            "val Loss: 0.2129 Acc: 0.9346\n",
            "\n",
            "Epoch 23/24\n",
            "----------\n",
            "train Loss: 0.2046 Acc: 0.9180\n",
            "val Loss: 0.1869 Acc: 0.9281\n",
            "\n",
            "Epoch 24/24\n",
            "----------\n",
            "train Loss: 0.2597 Acc: 0.8852\n",
            "val Loss: 0.1977 Acc: 0.9150\n",
            "\n",
            "Training complete in 1m 51s\n",
            "Best val Acc: 0.947712\n"
          ]
        }
      ]
    },
    {
      "cell_type": "code",
      "source": [
        "## Part e: For parameter set 5 weigth decay 0.1\n",
        "# \n",
        "num_epochs_cpu5 = num_epochs_cpu.copy()\n",
        "val_loss_cpu5 = val_loss_cpu.copy()\n",
        "val_acc_cpu5 = val_loss_cpu.copy()\n",
        "plt_valacc( num_epochs_cpu5, val_loss_cpu5, val_acc_cpu5, 'Run 5')"
      ],
      "metadata": {
        "colab": {
          "base_uri": "https://localhost:8080/",
          "height": 308
        },
        "id": "4waocXrseby7",
        "outputId": "758c282d-66c6-4f43-cfdb-e9bfdceb2929"
      },
      "execution_count": null,
      "outputs": [
        {
          "output_type": "display_data",
          "data": {
            "text/plain": [
              "<Figure size 432x288 with 2 Axes>"
            ],
            "image/png": "[encoded data removed]"
          },
          "metadata": {
            "needs_background": "light"
          }
        }
      ]
    },
    {
      "cell_type": "code",
      "source": [
        "# Create and run the sixth model with weight decay of 0.5\n",
        "model_ft, optimizer_ft, exp_lr_scheduler, criterion = create_model( weight_decay=0.5)\n",
        "model_ft = train_model(model_ft, criterion, optimizer_ft, exp_lr_scheduler,\n",
        "                       num_epochs=25)\n",
        "## Part e: For parameter set 6 weigth decay 0.5\n",
        "# \n",
        "num_epochs_cpu6 = num_epochs_cpu.copy()\n",
        "val_loss_cpu6 = val_loss_cpu.copy()\n",
        "val_acc_cpu6 = val_loss_cpu.copy()\n",
        "plt_valacc( num_epochs_cpu6, val_loss_cpu6, val_acc_cpu6, 'Run 6')"
      ],
      "metadata": {
        "colab": {
          "base_uri": "https://localhost:8080/",
          "height": 2396
        },
        "id": "bd3eCeTcg4s4",
        "outputId": "55c696ef-af7c-496e-911b-cf16f8e33343"
      },
      "execution_count": null,
      "outputs": [
        {
          "output_type": "stream",
          "name": "stdout",
          "text": [
            "Epoch 0/24\n",
            "----------\n"
          ]
        },
        {
          "output_type": "stream",
          "name": "stderr",
          "text": [
            "/usr/local/lib/python3.7/dist-packages/torch/utils/data/dataloader.py:481: UserWarning: This DataLoader will create 4 worker processes in total. Our suggested max number of worker in current system is 2, which is smaller than what this DataLoader is going to create. Please be aware that excessive worker creation might get DataLoader running slow or even freeze, lower the worker number to avoid potential slowness/freeze if necessary.\n",
            "  cpuset_checked))\n"
          ]
        },
        {
          "output_type": "stream",
          "name": "stdout",
          "text": [
            "train Loss: 0.5540 Acc: 0.6967\n",
            "val Loss: 0.3316 Acc: 0.8562\n",
            "\n",
            "Epoch 1/24\n",
            "----------\n",
            "train Loss: 0.4222 Acc: 0.7869\n",
            "val Loss: 0.1956 Acc: 0.9346\n",
            "\n",
            "Epoch 2/24\n",
            "----------\n",
            "train Loss: 0.4017 Acc: 0.7992\n",
            "val Loss: 0.2486 Acc: 0.9216\n",
            "\n",
            "Epoch 3/24\n",
            "----------\n",
            "train Loss: 0.3787 Acc: 0.8525\n",
            "val Loss: 0.1500 Acc: 0.9477\n",
            "\n",
            "Epoch 4/24\n",
            "----------\n",
            "train Loss: 0.3755 Acc: 0.8279\n",
            "val Loss: 0.2537 Acc: 0.8954\n",
            "\n",
            "Epoch 5/24\n",
            "----------\n",
            "train Loss: 0.3160 Acc: 0.8770\n",
            "val Loss: 0.2173 Acc: 0.9281\n",
            "\n",
            "Epoch 6/24\n",
            "----------\n",
            "train Loss: 0.3240 Acc: 0.8811\n",
            "val Loss: 0.3521 Acc: 0.8954\n",
            "\n",
            "Epoch 7/24\n",
            "----------\n",
            "train Loss: 0.3159 Acc: 0.8689\n",
            "val Loss: 0.1986 Acc: 0.9346\n",
            "\n",
            "Epoch 8/24\n",
            "----------\n",
            "train Loss: 0.3782 Acc: 0.8320\n",
            "val Loss: 0.2543 Acc: 0.9085\n",
            "\n",
            "Epoch 9/24\n",
            "----------\n",
            "train Loss: 0.2976 Acc: 0.8648\n",
            "val Loss: 0.1981 Acc: 0.9281\n",
            "\n",
            "Epoch 10/24\n",
            "----------\n",
            "train Loss: 0.2854 Acc: 0.8811\n",
            "val Loss: 0.1748 Acc: 0.9412\n",
            "\n",
            "Epoch 11/24\n",
            "----------\n",
            "train Loss: 0.2180 Acc: 0.9016\n",
            "val Loss: 0.1755 Acc: 0.9542\n",
            "\n",
            "Epoch 12/24\n",
            "----------\n",
            "train Loss: 0.3322 Acc: 0.8566\n",
            "val Loss: 0.1957 Acc: 0.9346\n",
            "\n",
            "Epoch 13/24\n",
            "----------\n",
            "train Loss: 0.3366 Acc: 0.8361\n",
            "val Loss: 0.1647 Acc: 0.9542\n",
            "\n",
            "Epoch 14/24\n",
            "----------\n",
            "train Loss: 0.2235 Acc: 0.9057\n",
            "val Loss: 0.1728 Acc: 0.9477\n",
            "\n",
            "Epoch 15/24\n",
            "----------\n",
            "train Loss: 0.2999 Acc: 0.8607\n",
            "val Loss: 0.1661 Acc: 0.9346\n",
            "\n",
            "Epoch 16/24\n",
            "----------\n",
            "train Loss: 0.2795 Acc: 0.8852\n",
            "val Loss: 0.1762 Acc: 0.9346\n",
            "\n",
            "Epoch 17/24\n",
            "----------\n",
            "train Loss: 0.2789 Acc: 0.8770\n",
            "val Loss: 0.1677 Acc: 0.9477\n",
            "\n",
            "Epoch 18/24\n",
            "----------\n",
            "train Loss: 0.3268 Acc: 0.8402\n",
            "val Loss: 0.1731 Acc: 0.9412\n",
            "\n",
            "Epoch 19/24\n",
            "----------\n",
            "train Loss: 0.2548 Acc: 0.8934\n",
            "val Loss: 0.1565 Acc: 0.9477\n",
            "\n",
            "Epoch 20/24\n",
            "----------\n",
            "train Loss: 0.2558 Acc: 0.8852\n",
            "val Loss: 0.1656 Acc: 0.9412\n",
            "\n",
            "Epoch 21/24\n",
            "----------\n",
            "train Loss: 0.2421 Acc: 0.9016\n",
            "val Loss: 0.1694 Acc: 0.9412\n",
            "\n",
            "Epoch 22/24\n",
            "----------\n",
            "train Loss: 0.2540 Acc: 0.8730\n",
            "val Loss: 0.1604 Acc: 0.9412\n",
            "\n",
            "Epoch 23/24\n",
            "----------\n",
            "train Loss: 0.2884 Acc: 0.8730\n",
            "val Loss: 0.1760 Acc: 0.9412\n",
            "\n",
            "Epoch 24/24\n",
            "----------\n",
            "train Loss: 0.2221 Acc: 0.9139\n",
            "val Loss: 0.1832 Acc: 0.9346\n",
            "\n",
            "Training complete in 1m 48s\n",
            "Best val Acc: 0.954248\n"
          ]
        },
        {
          "output_type": "display_data",
          "data": {
            "text/plain": [
              "<Figure size 432x288 with 2 Axes>"
            ],
            "image/png": "[encoded data removed]"
          },
          "metadata": {
            "needs_background": "light"
          }
        }
      ]
    },
    {
      "cell_type": "code",
      "source": [
        "# Create and run the 7th model with weight decay of 0.01\n",
        "model_ft, optimizer_ft, exp_lr_scheduler, criterion = create_model( weight_decay=0.01)\n",
        "model_ft = train_model(model_ft, criterion, optimizer_ft, exp_lr_scheduler,\n",
        "                       num_epochs=25)\n",
        "## Part e: For parameter set 7 weigth decay 0.01\n",
        "# \n",
        "num_epochs_cpu7 = num_epochs_cpu.copy()\n",
        "val_loss_cpu7 = val_loss_cpu.copy()\n",
        "val_acc_cpu7 = val_loss_cpu.copy()\n",
        "plt_valacc( num_epochs_cpu7, val_loss_cpu7, val_acc_cpu7, 'Run 7')"
      ],
      "metadata": {
        "colab": {
          "base_uri": "https://localhost:8080/",
          "height": 2398
        },
        "id": "_M48iLDRiOeQ",
        "outputId": "790a5f18-9f17-4cb1-93ae-226b4b67c342"
      },
      "execution_count": null,
      "outputs": [
        {
          "output_type": "stream",
          "name": "stdout",
          "text": [
            "Epoch 0/24\n",
            "----------\n"
          ]
        },
        {
          "output_type": "stream",
          "name": "stderr",
          "text": [
            "/usr/local/lib/python3.7/dist-packages/torch/utils/data/dataloader.py:481: UserWarning: This DataLoader will create 4 worker processes in total. Our suggested max number of worker in current system is 2, which is smaller than what this DataLoader is going to create. Please be aware that excessive worker creation might get DataLoader running slow or even freeze, lower the worker number to avoid potential slowness/freeze if necessary.\n",
            "  cpuset_checked))\n"
          ]
        },
        {
          "output_type": "stream",
          "name": "stdout",
          "text": [
            "train Loss: 0.6136 Acc: 0.6885\n",
            "val Loss: 0.3957 Acc: 0.8039\n",
            "\n",
            "Epoch 1/24\n",
            "----------\n",
            "train Loss: 0.4267 Acc: 0.7951\n",
            "val Loss: 0.1992 Acc: 0.9150\n",
            "\n",
            "Epoch 2/24\n",
            "----------\n",
            "train Loss: 0.5320 Acc: 0.7541\n",
            "val Loss: 0.2687 Acc: 0.8954\n",
            "\n",
            "Epoch 3/24\n",
            "----------\n",
            "train Loss: 0.3470 Acc: 0.8730\n",
            "val Loss: 0.2982 Acc: 0.8889\n",
            "\n",
            "Epoch 4/24\n",
            "----------\n",
            "train Loss: 0.4172 Acc: 0.8443\n",
            "val Loss: 0.6421 Acc: 0.8039\n",
            "\n",
            "Epoch 5/24\n",
            "----------\n",
            "train Loss: 0.4001 Acc: 0.8443\n",
            "val Loss: 0.2980 Acc: 0.9085\n",
            "\n",
            "Epoch 6/24\n",
            "----------\n",
            "train Loss: 0.4167 Acc: 0.8156\n",
            "val Loss: 0.2316 Acc: 0.9281\n",
            "\n",
            "Epoch 7/24\n",
            "----------\n",
            "train Loss: 0.2388 Acc: 0.8975\n",
            "val Loss: 0.1995 Acc: 0.9281\n",
            "\n",
            "Epoch 8/24\n",
            "----------\n",
            "train Loss: 0.3488 Acc: 0.8525\n",
            "val Loss: 0.1856 Acc: 0.9412\n",
            "\n",
            "Epoch 9/24\n",
            "----------\n",
            "train Loss: 0.3005 Acc: 0.8648\n",
            "val Loss: 0.1982 Acc: 0.9412\n",
            "\n",
            "Epoch 10/24\n",
            "----------\n",
            "train Loss: 0.2900 Acc: 0.8893\n",
            "val Loss: 0.1799 Acc: 0.9608\n",
            "\n",
            "Epoch 11/24\n",
            "----------\n",
            "train Loss: 0.2519 Acc: 0.8893\n",
            "val Loss: 0.1949 Acc: 0.9150\n",
            "\n",
            "Epoch 12/24\n",
            "----------\n",
            "train Loss: 0.2646 Acc: 0.8730\n",
            "val Loss: 0.1700 Acc: 0.9673\n",
            "\n",
            "Epoch 13/24\n",
            "----------\n",
            "train Loss: 0.2499 Acc: 0.8893\n",
            "val Loss: 0.1736 Acc: 0.9542\n",
            "\n",
            "Epoch 14/24\n",
            "----------\n",
            "train Loss: 0.2389 Acc: 0.9180\n",
            "val Loss: 0.1634 Acc: 0.9542\n",
            "\n",
            "Epoch 15/24\n",
            "----------\n",
            "train Loss: 0.2796 Acc: 0.8689\n",
            "val Loss: 0.1610 Acc: 0.9673\n",
            "\n",
            "Epoch 16/24\n",
            "----------\n",
            "train Loss: 0.2322 Acc: 0.9098\n",
            "val Loss: 0.1774 Acc: 0.9477\n",
            "\n",
            "Epoch 17/24\n",
            "----------\n",
            "train Loss: 0.2422 Acc: 0.8893\n",
            "val Loss: 0.1684 Acc: 0.9542\n",
            "\n",
            "Epoch 18/24\n",
            "----------\n",
            "train Loss: 0.3090 Acc: 0.8770\n",
            "val Loss: 0.1610 Acc: 0.9477\n",
            "\n",
            "Epoch 19/24\n",
            "----------\n",
            "train Loss: 0.2622 Acc: 0.8893\n",
            "val Loss: 0.1652 Acc: 0.9608\n",
            "\n",
            "Epoch 20/24\n",
            "----------\n",
            "train Loss: 0.1682 Acc: 0.9385\n",
            "val Loss: 0.1870 Acc: 0.9216\n",
            "\n",
            "Epoch 21/24\n",
            "----------\n",
            "train Loss: 0.2683 Acc: 0.8648\n",
            "val Loss: 0.1743 Acc: 0.9542\n",
            "\n",
            "Epoch 22/24\n",
            "----------\n",
            "train Loss: 0.2921 Acc: 0.8566\n",
            "val Loss: 0.1521 Acc: 0.9608\n",
            "\n",
            "Epoch 23/24\n",
            "----------\n",
            "train Loss: 0.2682 Acc: 0.8934\n",
            "val Loss: 0.1723 Acc: 0.9608\n",
            "\n",
            "Epoch 24/24\n",
            "----------\n",
            "train Loss: 0.3403 Acc: 0.8525\n",
            "val Loss: 0.1809 Acc: 0.9542\n",
            "\n",
            "Training complete in 1m 49s\n",
            "Best val Acc: 0.967320\n"
          ]
        },
        {
          "output_type": "display_data",
          "data": {
            "text/plain": [
              "<Figure size 432x288 with 2 Axes>"
            ],
            "image/png": "[encoded data removed]"
          },
          "metadata": {
            "needs_background": "light"
          }
        }
      ]
    },
    {
      "cell_type": "markdown",
      "source": [
        "-------\n",
        "(Modified Section)\n",
        "-------\n",
        " "
      ],
      "metadata": {
        "id": "4_xIv3_NzusT"
      }
    },
    {
      "cell_type": "code",
      "source": [
        "# Plot all observations side by side\n",
        "plt_valacc( num_epochs_cpu1, val_loss_cpu1, val_acc_cpu1, 'Run 1')\n",
        "plt_valacc( num_epochs_cpu2, val_loss_cpu2, val_acc_cpu2, 'Run 2')\n",
        "plt_valacc( num_epochs_cpu3, val_loss_cpu3, val_acc_cpu3, 'Run 3')\n",
        "plt_valacc( num_epochs_cpu4, val_loss_cpu4, val_acc_cpu4, 'Run 4')\n",
        "plt_valacc( num_epochs_cpu5, val_loss_cpu5, val_acc_cpu5, 'Run 5 Weight Decay')\n",
        "plt_valacc( num_epochs_cpu6, val_loss_cpu6, val_acc_cpu6, 'Run 6 Weight Decay')\n",
        "plt_valacc( num_epochs_cpu7, val_loss_cpu7, val_acc_cpu7, 'Run 7 Weight Decay')"
      ],
      "metadata": {
        "colab": {
          "base_uri": "https://localhost:8080/",
          "height": 1000
        },
        "id": "W0WvhIhs0DXC",
        "outputId": "290b5816-b956-4bf4-bc86-8bf15956df5e"
      },
      "execution_count": null,
      "outputs": [
        {
          "output_type": "display_data",
          "data": {
            "text/plain": [
              "<Figure size 432x288 with 2 Axes>"
            ],
            "image/png": "[encoded data removed]"
          },
          "metadata": {
            "needs_background": "light"
          }
        },
        {
          "output_type": "display_data",
          "data": {
            "text/plain": [
              "<Figure size 432x288 with 2 Axes>"
            ],
            "image/png": "[encoded data removed]"
          },
          "metadata": {
            "needs_background": "light"
          }
        },
        {
          "output_type": "display_data",
          "data": {
            "text/plain": [
              "<Figure size 432x288 with 2 Axes>"
            ],
            "image/png": "[encoded data removed]"
          },
          "metadata": {
            "needs_background": "light"
          }
        },
        {
          "output_type": "display_data",
          "data": {
            "text/plain": [
              "<Figure size 432x288 with 2 Axes>"
            ],
            "image/png": "[encoded data removed]"
          },
          "metadata": {
            "needs_background": "light"
          }
        },
        {
          "output_type": "display_data",
          "data": {
            "text/plain": [
              "<Figure size 432x288 with 2 Axes>"
            ],
            "image/png": "[encoded data removed]"
          },
          "metadata": {
            "needs_background": "light"
          }
        },
        {
          "output_type": "display_data",
          "data": {
            "text/plain": [
              "<Figure size 432x288 with 2 Axes>"
            ],
            "image/png": "[encoded data removed]"
          },
          "metadata": {
            "needs_background": "light"
          }
        },
        {
          "output_type": "display_data",
          "data": {
            "text/plain": [
              "<Figure size 432x288 with 2 Axes>"
            ],
            "image/png": "[encoded data removed]"
          },
          "metadata": {
            "needs_background": "light"
          }
        }
      ]
    },
    {
      "cell_type": "markdown",
      "metadata": {
        "id": "J7ahqnNWw3Ik"
      },
      "source": [
        "ConvNet as fixed feature extractor\n",
        "----------------------------------\n",
        "\n",
        "Here, we need to freeze all the network except the final layer. We need\n",
        "to set ``requires_grad = False`` to freeze the parameters so that the\n",
        "gradients are not computed in ``backward()``.\n",
        "\n",
        "You can read more about this in the documentation\n",
        "`here <https://pytorch.org/docs/notes/autograd.html#excluding-subgraphs-from-backward>`__.\n",
        "\n",
        "\n"
      ]
    },
    {
      "cell_type": "code",
      "execution_count": null,
      "metadata": {
        "id": "hNIZX04xw3Ik"
      },
      "outputs": [],
      "source": [
        "model_conv = torchvision.models.resnet18(pretrained=True)\n",
        "for param in model_conv.parameters():\n",
        "    param.requires_grad = False\n",
        "\n",
        "# Parameters of newly constructed modules have requires_grad=True by default\n",
        "num_ftrs = model_conv.fc.in_features\n",
        "model_conv.fc = nn.Linear(num_ftrs, 2)\n",
        "\n",
        "model_conv = model_conv.to(device)\n",
        "\n",
        "criterion = nn.CrossEntropyLoss()\n",
        "\n",
        "# Observe that only parameters of final layer are being optimized as\n",
        "# opposed to before.\n",
        "optimizer_conv = optim.SGD(model_conv.fc.parameters(), lr=0.001, momentum=0.9)\n",
        "\n",
        "# Decay LR by a factor of 0.1 every 7 epochs\n",
        "exp_lr_scheduler = lr_scheduler.StepLR(optimizer_conv, step_size=7, gamma=0.1)"
      ]
    },
    {
      "cell_type": "markdown",
      "metadata": {
        "id": "sf6Qe0vSw3Ik"
      },
      "source": [
        "### Train and evaluate\n",
        "\n",
        "\n",
        "On CPU this will take about half the time compared to previous scenario.\n",
        "This is expected as gradients don't need to be computed for most of the\n",
        "network. However, forward does need to be computed.\n",
        "\n",
        "\n"
      ]
    },
    {
      "cell_type": "code",
      "execution_count": null,
      "metadata": {
        "id": "CSN3mzQMw3Ik",
        "colab": {
          "base_uri": "https://localhost:8080/"
        },
        "outputId": "a5fbe8f2-2ab4-4a83-b997-c21eed38eb4b"
      },
      "outputs": [
        {
          "output_type": "stream",
          "name": "stdout",
          "text": [
            "Epoch 0/24\n",
            "----------\n"
          ]
        },
        {
          "output_type": "stream",
          "name": "stderr",
          "text": [
            "/usr/local/lib/python3.7/dist-packages/torch/utils/data/dataloader.py:481: UserWarning: This DataLoader will create 4 worker processes in total. Our suggested max number of worker in current system is 2, which is smaller than what this DataLoader is going to create. Please be aware that excessive worker creation might get DataLoader running slow or even freeze, lower the worker number to avoid potential slowness/freeze if necessary.\n",
            "  cpuset_checked))\n"
          ]
        },
        {
          "output_type": "stream",
          "name": "stdout",
          "text": [
            "train Loss: 0.6481 Acc: 0.6516\n",
            "val Loss: 0.4670 Acc: 0.7451\n",
            "\n",
            "Epoch 1/24\n",
            "----------\n",
            "train Loss: 0.5000 Acc: 0.7910\n",
            "val Loss: 0.1675 Acc: 0.9542\n",
            "\n",
            "Epoch 2/24\n",
            "----------\n",
            "train Loss: 0.4231 Acc: 0.8279\n",
            "val Loss: 0.1625 Acc: 0.9542\n",
            "\n",
            "Epoch 3/24\n",
            "----------\n",
            "train Loss: 0.3606 Acc: 0.8279\n",
            "val Loss: 0.1698 Acc: 0.9477\n",
            "\n",
            "Epoch 4/24\n",
            "----------\n",
            "train Loss: 0.6961 Acc: 0.7213\n",
            "val Loss: 0.1459 Acc: 0.9542\n",
            "\n",
            "Epoch 5/24\n",
            "----------\n",
            "train Loss: 0.6794 Acc: 0.7418\n",
            "val Loss: 0.1568 Acc: 0.9608\n",
            "\n",
            "Epoch 6/24\n",
            "----------\n",
            "train Loss: 0.6910 Acc: 0.7500\n",
            "val Loss: 0.7699 Acc: 0.7124\n",
            "\n",
            "Epoch 7/24\n",
            "----------\n",
            "train Loss: 0.6115 Acc: 0.7623\n",
            "val Loss: 0.1553 Acc: 0.9608\n",
            "\n",
            "Epoch 8/24\n",
            "----------\n",
            "train Loss: 0.3040 Acc: 0.8730\n",
            "val Loss: 0.2022 Acc: 0.9412\n",
            "\n",
            "Epoch 9/24\n",
            "----------\n",
            "train Loss: 0.4165 Acc: 0.8525\n",
            "val Loss: 0.1418 Acc: 0.9608\n",
            "\n",
            "Epoch 10/24\n",
            "----------\n",
            "train Loss: 0.4370 Acc: 0.7992\n",
            "val Loss: 0.1601 Acc: 0.9542\n",
            "\n",
            "Epoch 11/24\n",
            "----------\n",
            "train Loss: 0.3202 Acc: 0.8525\n",
            "val Loss: 0.1841 Acc: 0.9477\n",
            "\n",
            "Epoch 12/24\n",
            "----------\n",
            "train Loss: 0.3177 Acc: 0.8770\n",
            "val Loss: 0.1659 Acc: 0.9477\n",
            "\n",
            "Epoch 13/24\n",
            "----------\n",
            "train Loss: 0.3898 Acc: 0.8648\n",
            "val Loss: 0.1702 Acc: 0.9477\n",
            "\n",
            "Epoch 14/24\n",
            "----------\n",
            "train Loss: 0.3654 Acc: 0.8484\n",
            "val Loss: 0.1769 Acc: 0.9477\n",
            "\n",
            "Epoch 15/24\n",
            "----------\n",
            "train Loss: 0.3605 Acc: 0.8320\n",
            "val Loss: 0.1726 Acc: 0.9477\n",
            "\n",
            "Epoch 16/24\n",
            "----------\n",
            "train Loss: 0.3222 Acc: 0.8566\n",
            "val Loss: 0.1543 Acc: 0.9542\n",
            "\n",
            "Epoch 17/24\n",
            "----------\n",
            "train Loss: 0.2948 Acc: 0.8730\n",
            "val Loss: 0.1666 Acc: 0.9477\n",
            "\n",
            "Epoch 18/24\n",
            "----------\n",
            "train Loss: 0.4257 Acc: 0.8115\n",
            "val Loss: 0.1416 Acc: 0.9542\n",
            "\n",
            "Epoch 19/24\n",
            "----------\n",
            "train Loss: 0.3478 Acc: 0.8320\n",
            "val Loss: 0.1582 Acc: 0.9542\n",
            "\n",
            "Epoch 20/24\n",
            "----------\n",
            "train Loss: 0.3554 Acc: 0.8525\n",
            "val Loss: 0.1508 Acc: 0.9542\n",
            "\n",
            "Epoch 21/24\n",
            "----------\n",
            "train Loss: 0.3174 Acc: 0.8648\n",
            "val Loss: 0.1544 Acc: 0.9477\n",
            "\n",
            "Epoch 22/24\n",
            "----------\n",
            "train Loss: 0.2714 Acc: 0.8852\n",
            "val Loss: 0.1583 Acc: 0.9477\n",
            "\n",
            "Epoch 23/24\n",
            "----------\n",
            "train Loss: 0.3045 Acc: 0.8852\n",
            "val Loss: 0.1855 Acc: 0.9477\n",
            "\n",
            "Epoch 24/24\n",
            "----------\n",
            "train Loss: 0.3544 Acc: 0.8156\n",
            "val Loss: 0.1598 Acc: 0.9542\n",
            "\n",
            "Training complete in 1m 39s\n",
            "Best val Acc: 0.960784\n"
          ]
        }
      ],
      "source": [
        "model_conv = train_model(model_conv, criterion, optimizer_conv,\n",
        "                         exp_lr_scheduler, num_epochs=25)"
      ]
    },
    {
      "cell_type": "code",
      "execution_count": null,
      "metadata": {
        "id": "G8Bo-wkMw3Ik",
        "colab": {
          "base_uri": "https://localhost:8080/",
          "height": 636
        },
        "outputId": "b7c80dfa-ab3e-431c-9370-b6f8092603ea"
      },
      "outputs": [
        {
          "output_type": "stream",
          "name": "stderr",
          "text": [
            "/usr/local/lib/python3.7/dist-packages/torch/utils/data/dataloader.py:481: UserWarning: This DataLoader will create 4 worker processes in total. Our suggested max number of worker in current system is 2, which is smaller than what this DataLoader is going to create. Please be aware that excessive worker creation might get DataLoader running slow or even freeze, lower the worker number to avoid potential slowness/freeze if necessary.\n",
            "  cpuset_checked))\n"
          ]
        },
        {
          "output_type": "display_data",
          "data": {
            "text/plain": [
              "<Figure size 432x288 with 1 Axes>"
            ],
            "image/png": "[encoded data removed]"
          },
          "metadata": {
            "needs_background": "light"
          }
        },
        {
          "output_type": "display_data",
          "data": {
            "text/plain": [
              "<Figure size 432x288 with 1 Axes>"
            ],
            "image/png": "[encoded data removed]"
          },
          "metadata": {
            "needs_background": "light"
          }
        },
        {
          "output_type": "display_data",
          "data": {
            "text/plain": [
              "<Figure size 432x288 with 1 Axes>"
            ],
            "image/png": "[encoded data removed]"
          },
          "metadata": {
            "needs_background": "light"
          }
        },
        {
          "output_type": "display_data",
          "data": {
            "text/plain": [
              "<Figure size 432x288 with 1 Axes>"
            ],
            "image/png": "[encoded data removed]"
          },
          "metadata": {
            "needs_background": "light"
          }
        },
        {
          "output_type": "display_data",
          "data": {
            "text/plain": [
              "<Figure size 432x288 with 1 Axes>"
            ],
            "image/png": "[encoded data removed]"
          },
          "metadata": {
            "needs_background": "light"
          }
        },
        {
          "output_type": "display_data",
          "data": {
            "text/plain": [
              "<Figure size 432x288 with 1 Axes>"
            ],
            "image/png": "[encoded data removed]"
          },
          "metadata": {
            "needs_background": "light"
          }
        }
      ],
      "source": [
        "visualize_model(model_conv)\n",
        "\n",
        "plt.ioff()\n",
        "plt.show()"
      ]
    },
    {
      "cell_type": "markdown",
      "metadata": {
        "id": "jy9nlA8Xw3Il"
      },
      "source": [
        "Further Learning\n",
        "-----------------\n",
        "\n",
        "If you would like to learn more about the applications of transfer learning,\n",
        "checkout our `Quantized Transfer Learning for Computer Vision Tutorial <https://pytorch.org/tutorials/intermediate/quantized_transfer_learning_tutorial.html>`_.\n",
        "\n",
        "\n",
        "\n"
      ]
    }
  ],
  "metadata": {
    "kernelspec": {
      "display_name": "Python 3",
      "language": "python",
      "name": "python3"
    },
    "language_info": {
      "codemirror_mode": {
        "name": "ipython",
        "version": 3
      },
      "file_extension": ".py",
      "mimetype": "text/x-python",
      "name": "python",
      "nbconvert_exporter": "python",
      "pygments_lexer": "ipython3",
      "version": "3.7.11"
    },
    "colab": {
      "name": "Assignment31.ipynb",
      "provenance": [],
      "collapsed_sections": []
    },
    "accelerator": "GPU",
    "widgets": {
      "application/vnd.jupyter.widget-state+json": {
        "0efa2cf7c5c44da69b9c13c0bd6d8317": {
          "model_module": "@jupyter-widgets/controls",
          "model_name": "HBoxModel",
          "model_module_version": "1.5.0",
          "state": {
            "_dom_classes": [],
            "_model_module": "@jupyter-widgets/controls",
            "_model_module_version": "1.5.0",
            "_model_name": "HBoxModel",
            "_view_count": null,
            "_view_module": "@jupyter-widgets/controls",
            "_view_module_version": "1.5.0",
            "_view_name": "HBoxView",
            "box_style": "",
            "children": [
              "IPY_MODEL_eed1424de2b84f389d8361f6efb97481",
              "IPY_MODEL_4e406052df9e453cad2a7f7cc3775d43",
              "IPY_MODEL_4848b605c4db465b8f0a0e77ee2b471b"
            ],
            "layout": "IPY_MODEL_8afa6aa470034d37b3b96f12970b76df"
          }
        },
        "eed1424de2b84f389d8361f6efb97481": {
          "model_module": "@jupyter-widgets/controls",
          "model_name": "HTMLModel",
          "model_module_version": "1.5.0",
          "state": {
            "_dom_classes": [],
            "_model_module": "@jupyter-widgets/controls",
            "_model_module_version": "1.5.0",
            "_model_name": "HTMLModel",
            "_view_count": null,
            "_view_module": "@jupyter-widgets/controls",
            "_view_module_version": "1.5.0",
            "_view_name": "HTMLView",
            "description": "",
            "description_tooltip": null,
            "layout": "IPY_MODEL_30996026d6fc43c8a6ef102d0b50fbe7",
            "placeholder": "​",
            "style": "IPY_MODEL_47927bd1b2094e0d80bd08dcc389007f",
            "value": "100%"
          }
        },
        "4e406052df9e453cad2a7f7cc3775d43": {
          "model_module": "@jupyter-widgets/controls",
          "model_name": "FloatProgressModel",
          "model_module_version": "1.5.0",
          "state": {
            "_dom_classes": [],
            "_model_module": "@jupyter-widgets/controls",
            "_model_module_version": "1.5.0",
            "_model_name": "FloatProgressModel",
            "_view_count": null,
            "_view_module": "@jupyter-widgets/controls",
            "_view_module_version": "1.5.0",
            "_view_name": "ProgressView",
            "bar_style": "success",
            "description": "",
            "description_tooltip": null,
            "layout": "IPY_MODEL_2a4f2d724f154fd2a9234de9d30d2932",
            "max": 46830571,
            "min": 0,
            "orientation": "horizontal",
            "style": "IPY_MODEL_b90d18b4f11d4eda9986d5cab802e64a",
            "value": 46830571
          }
        },
        "4848b605c4db465b8f0a0e77ee2b471b": {
          "model_module": "@jupyter-widgets/controls",
          "model_name": "HTMLModel",
          "model_module_version": "1.5.0",
          "state": {
            "_dom_classes": [],
            "_model_module": "@jupyter-widgets/controls",
            "_model_module_version": "1.5.0",
            "_model_name": "HTMLModel",
            "_view_count": null,
            "_view_module": "@jupyter-widgets/controls",
            "_view_module_version": "1.5.0",
            "_view_name": "HTMLView",
            "description": "",
            "description_tooltip": null,
            "layout": "IPY_MODEL_780087d2642541eb9227dd60290c2329",
            "placeholder": "​",
            "style": "IPY_MODEL_7dfc75e2073d4ec28d9f6e0563c4eb14",
            "value": " 44.7M/44.7M [00:00&lt;00:00, 134MB/s]"
          }
        },
        "8afa6aa470034d37b3b96f12970b76df": {
          "model_module": "@jupyter-widgets/base",
          "model_name": "LayoutModel",
          "model_module_version": "1.2.0",
          "state": {
            "_model_module": "@jupyter-widgets/base",
            "_model_module_version": "1.2.0",
            "_model_name": "LayoutModel",
            "_view_count": null,
            "_view_module": "@jupyter-widgets/base",
            "_view_module_version": "1.2.0",
            "_view_name": "LayoutView",
            "align_content": null,
            "align_items": null,
            "align_self": null,
            "border": null,
            "bottom": null,
            "display": null,
            "flex": null,
            "flex_flow": null,
            "grid_area": null,
            "grid_auto_columns": null,
            "grid_auto_flow": null,
            "grid_auto_rows": null,
            "grid_column": null,
            "grid_gap": null,
            "grid_row": null,
            "grid_template_areas": null,
            "grid_template_columns": null,
            "grid_template_rows": null,
            "height": null,
            "justify_content": null,
            "justify_items": null,
            "left": null,
            "margin": null,
            "max_height": null,
            "max_width": null,
            "min_height": null,
            "min_width": null,
            "object_fit": null,
            "object_position": null,
            "order": null,
            "overflow": null,
            "overflow_x": null,
            "overflow_y": null,
            "padding": null,
            "right": null,
            "top": null,
            "visibility": null,
            "width": null
          }
        },
        "30996026d6fc43c8a6ef102d0b50fbe7": {
          "model_module": "@jupyter-widgets/base",
          "model_name": "LayoutModel",
          "model_module_version": "1.2.0",
          "state": {
            "_model_module": "@jupyter-widgets/base",
            "_model_module_version": "1.2.0",
            "_model_name": "LayoutModel",
            "_view_count": null,
            "_view_module": "@jupyter-widgets/base",
            "_view_module_version": "1.2.0",
            "_view_name": "LayoutView",
            "align_content": null,
            "align_items": null,
            "align_self": null,
            "border": null,
            "bottom": null,
            "display": null,
            "flex": null,
            "flex_flow": null,
            "grid_area": null,
            "grid_auto_columns": null,
            "grid_auto_flow": null,
            "grid_auto_rows": null,
            "grid_column": null,
            "grid_gap": null,
            "grid_row": null,
            "grid_template_areas": null,
            "grid_template_columns": null,
            "grid_template_rows": null,
            "height": null,
            "justify_content": null,
            "justify_items": null,
            "left": null,
            "margin": null,
            "max_height": null,
            "max_width": null,
            "min_height": null,
            "min_width": null,
            "object_fit": null,
            "object_position": null,
            "order": null,
            "overflow": null,
            "overflow_x": null,
            "overflow_y": null,
            "padding": null,
            "right": null,
            "top": null,
            "visibility": null,
            "width": null
          }
        },
        "47927bd1b2094e0d80bd08dcc389007f": {
          "model_module": "@jupyter-widgets/controls",
          "model_name": "DescriptionStyleModel",
          "model_module_version": "1.5.0",
          "state": {
            "_model_module": "@jupyter-widgets/controls",
            "_model_module_version": "1.5.0",
            "_model_name": "DescriptionStyleModel",
            "_view_count": null,
            "_view_module": "@jupyter-widgets/base",
            "_view_module_version": "1.2.0",
            "_view_name": "StyleView",
            "description_width": ""
          }
        },
        "2a4f2d724f154fd2a9234de9d30d2932": {
          "model_module": "@jupyter-widgets/base",
          "model_name": "LayoutModel",
          "model_module_version": "1.2.0",
          "state": {
            "_model_module": "@jupyter-widgets/base",
            "_model_module_version": "1.2.0",
            "_model_name": "LayoutModel",
            "_view_count": null,
            "_view_module": "@jupyter-widgets/base",
            "_view_module_version": "1.2.0",
            "_view_name": "LayoutView",
            "align_content": null,
            "align_items": null,
            "align_self": null,
            "border": null,
            "bottom": null,
            "display": null,
            "flex": null,
            "flex_flow": null,
            "grid_area": null,
            "grid_auto_columns": null,
            "grid_auto_flow": null,
            "grid_auto_rows": null,
            "grid_column": null,
            "grid_gap": null,
            "grid_row": null,
            "grid_template_areas": null,
            "grid_template_columns": null,
            "grid_template_rows": null,
            "height": null,
            "justify_content": null,
            "justify_items": null,
            "left": null,
            "margin": null,
            "max_height": null,
            "max_width": null,
            "min_height": null,
            "min_width": null,
            "object_fit": null,
            "object_position": null,
            "order": null,
            "overflow": null,
            "overflow_x": null,
            "overflow_y": null,
            "padding": null,
            "right": null,
            "top": null,
            "visibility": null,
            "width": null
          }
        },
        "b90d18b4f11d4eda9986d5cab802e64a": {
          "model_module": "@jupyter-widgets/controls",
          "model_name": "ProgressStyleModel",
          "model_module_version": "1.5.0",
          "state": {
            "_model_module": "@jupyter-widgets/controls",
            "_model_module_version": "1.5.0",
            "_model_name": "ProgressStyleModel",
            "_view_count": null,
            "_view_module": "@jupyter-widgets/base",
            "_view_module_version": "1.2.0",
            "_view_name": "StyleView",
            "bar_color": null,
            "description_width": ""
          }
        },
        "780087d2642541eb9227dd60290c2329": {
          "model_module": "@jupyter-widgets/base",
          "model_name": "LayoutModel",
          "model_module_version": "1.2.0",
          "state": {
            "_model_module": "@jupyter-widgets/base",
            "_model_module_version": "1.2.0",
            "_model_name": "LayoutModel",
            "_view_count": null,
            "_view_module": "@jupyter-widgets/base",
            "_view_module_version": "1.2.0",
            "_view_name": "LayoutView",
            "align_content": null,
            "align_items": null,
            "align_self": null,
            "border": null,
            "bottom": null,
            "display": null,
            "flex": null,
            "flex_flow": null,
            "grid_area": null,
            "grid_auto_columns": null,
            "grid_auto_flow": null,
            "grid_auto_rows": null,
            "grid_column": null,
            "grid_gap": null,
            "grid_row": null,
            "grid_template_areas": null,
            "grid_template_columns": null,
            "grid_template_rows": null,
            "height": null,
            "justify_content": null,
            "justify_items": null,
            "left": null,
            "margin": null,
            "max_height": null,
            "max_width": null,
            "min_height": null,
            "min_width": null,
            "object_fit": null,
            "object_position": null,
            "order": null,
            "overflow": null,
            "overflow_x": null,
            "overflow_y": null,
            "padding": null,
            "right": null,
            "top": null,
            "visibility": null,
            "width": null
          }
        },
        "7dfc75e2073d4ec28d9f6e0563c4eb14": {
          "model_module": "@jupyter-widgets/controls",
          "model_name": "DescriptionStyleModel",
          "model_module_version": "1.5.0",
          "state": {
            "_model_module": "@jupyter-widgets/controls",
            "_model_module_version": "1.5.0",
            "_model_name": "DescriptionStyleModel",
            "_view_count": null,
            "_view_module": "@jupyter-widgets/base",
            "_view_module_version": "1.2.0",
            "_view_name": "StyleView",
            "description_width": ""
          }
        }
      }
    }
  },
  "nbformat": 4,
  "nbformat_minor": 0
}