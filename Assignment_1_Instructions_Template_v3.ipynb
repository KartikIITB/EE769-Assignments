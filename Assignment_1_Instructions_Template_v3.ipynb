{
  "cells": [
    {
      "cell_type": "markdown",
      "metadata": {
        "id": "view-in-github",
        "colab_type": "text"
      },
      "source": [
        "<a href=\"https://colab.research.google.com/github/KartikIITB/EE769-Assignments/blob/main/Assignment_1_Instructions_Template_v3.ipynb\" target=\"_parent\"><img src=\"https://colab.research.google.com/assets/colab-badge.svg\" alt=\"Open In Colab\"/></a>"
      ]
    },
    {
      "cell_type": "markdown",
      "metadata": {
        "deletable": false,
        "editable": false,
        "nbgrader": {
          "cell_type": "markdown",
          "checksum": "2a747369b91572b4ada4e32643e31bca",
          "grade": false,
          "grade_id": "Title",
          "locked": true,
          "schema_version": 3,
          "solution": false,
          "task": false
        },
        "id": "-at2ZiscAKfy"
      },
      "source": [
        "#**EE769 Introduction to Machine Learning**\n",
        "\n",
        "#Assignment 1: Gradient Descent, Linear Regression, and Regularization\n",
        "\n",
        "\n",
        "**Template and Instructions**\n",
        "\n",
        "\n",
        "\n",
        "1. Up to two people can team up, but only one should submit, and both should understand the entire code.\n",
        "2. Every line of code should end in a comment explaining the line\n",
        "3. It is recommended to solve the assignment in Google Colab.\n",
        "Write your roll no.s separated by commas here: \n",
        "4. Write your names here: \n",
        "5. There are two parts to the assignment. In the Part 1, the code format has to be strictly followed to enable auto-grading. In the second part, you can be creative.\n",
        "6. **You can discuss with other groups or refer to the internet without being penalized, but you cannot copy their code and modify it. Write every line of code and comment on your own.**"
      ]
    },
    {
      "cell_type": "markdown",
      "metadata": {
        "deletable": false,
        "editable": false,
        "nbgrader": {
          "cell_type": "markdown",
          "checksum": "cae69541658b406d495bcffe0b7c0932",
          "grade": false,
          "grade_id": "cell-aa1aa8c8181f8810",
          "locked": true,
          "schema_version": 3,
          "solution": false,
          "task": false
        },
        "id": "Znjd8_dtAKf2"
      },
      "source": [
        "#**Part 1 begins ...**\n",
        "**Instructions to be strictly followed:**\n",
        "\n",
        "1. Do not add any code cells or markdown cells until the end of this part. Especially, do not change the blocks that say \"TEST CASES, DO NOT CHANGE\"\n",
        "2. In all other cells only add code where it says \"CODE HERE\".\n",
        "3. If you encounter any raise NotImplementedError() calls you may comment them out.\n",
        "\n",
        "We cannot ensure correct grading if you change anything else, and you may be penalised for not following these instructions."
      ]
    },
    {
      "cell_type": "markdown",
      "metadata": {
        "deletable": false,
        "editable": false,
        "nbgrader": {
          "cell_type": "markdown",
          "checksum": "0ecbf8e96219ab11b7716eaae61cb7f9",
          "grade": false,
          "grade_id": "cell-1e940101f37c7af2",
          "locked": true,
          "schema_version": 3,
          "solution": false,
          "task": false
        },
        "id": "7ISpvHBVAKf3"
      },
      "source": [
        "## Import Statements"
      ]
    },
    {
      "cell_type": "code",
      "execution_count": null,
      "metadata": {
        "deletable": false,
        "editable": false,
        "nbgrader": {
          "cell_type": "code",
          "checksum": "fe70877a859ee0a10e9d591778022f8a",
          "grade": false,
          "grade_id": "Import_Statements",
          "locked": true,
          "schema_version": 3,
          "solution": false,
          "task": false
        },
        "id": "AMDlhCWFAKf4"
      },
      "outputs": [],
      "source": [
        "import numpy as np\n",
        "import pandas as pd\n",
        "from matplotlib import pyplot as plt\n"
      ]
    },
    {
      "cell_type": "markdown",
      "metadata": {
        "deletable": false,
        "editable": false,
        "nbgrader": {
          "cell_type": "markdown",
          "checksum": "e36a214573fc40f26b45e72215d61375",
          "grade": false,
          "grade_id": "Normalize_Title",
          "locked": true,
          "schema_version": 3,
          "solution": false,
          "task": false
        },
        "id": "FKMFxJPdAKf5"
      },
      "source": [
        "## Normalize function \n",
        "\n"
      ]
    },
    {
      "cell_type": "code",
      "execution_count": null,
      "metadata": {
        "deletable": false,
        "nbgrader": {
          "cell_type": "code",
          "checksum": "42293dda356d746ac19e9b6d81106261",
          "grade": false,
          "grade_id": "Normalize_Function",
          "locked": false,
          "schema_version": 3,
          "solution": true,
          "task": false
        },
        "id": "vbUsVtqjAKf6"
      },
      "outputs": [],
      "source": [
        "def Normalize(X): # Output should be a normalized data matrix of the same dimension\n",
        "    '''\n",
        "    Normalize all columns of X using mean and standard deviation\n",
        "    '''\n",
        "    # YOUR CODE HERE\n",
        "    X_norm = (X - X.mean(axis = 0))/X.std(axis = 0)\n",
        "\n",
        "    return X_norm\n",
        "    \n",
        "    raise NotImplementedError()"
      ]
    },
    {
      "cell_type": "code",
      "execution_count": null,
      "metadata": {
        "deletable": false,
        "editable": false,
        "nbgrader": {
          "cell_type": "code",
          "checksum": "7797dd606a68f028c945acd08850d108",
          "grade": true,
          "grade_id": "Normalize_Test",
          "locked": true,
          "points": 5,
          "schema_version": 3,
          "solution": false,
          "task": false
        },
        "id": "inYJP73BAKf6"
      },
      "outputs": [],
      "source": [
        "'''\n",
        "TEST CASES, DO NOT CHANGE\n",
        "'''\n",
        "''' case 1 - 1 dimensional array'''\n",
        "#X=np.array([[1,2,3],[3,4,5],[7,8,9]])\n",
        "X1=np.array([1,2,3])\n",
        "np.testing.assert_array_almost_equal(Normalize(X1),np.array([-1.224,  0.      ,  1.224]),decimal=3)\n",
        "''' case 2 - 2 dimensional array'''\n",
        "X2=np.array([[4,7,6],[3,8,9],[5,11,10]])\n",
        "np.testing.assert_array_almost_equal(Normalize(X2),np.array([[ 0.  , -0.980581, -1.372813],[-1.224745, -0.392232,  0.392232],[ 1.224745,  1.372813,  0.980581]]))\n",
        "''' case 3 - 1 dimensional array with float'''\n",
        "X3=np.array([5.5,6.7,3.2,6.7])\n",
        "np.testing.assert_array_almost_equal(Normalize(X3),np.array([-0.017,  0.822, -1.627,  0.822]),decimal=3)"
      ]
    },
    {
      "cell_type": "markdown",
      "metadata": {
        "deletable": false,
        "editable": false,
        "nbgrader": {
          "cell_type": "markdown",
          "checksum": "63ee774a26a0438a0b2f5ec298eac80e",
          "grade": false,
          "grade_id": "cell-66ab98f84d3c58fa",
          "locked": true,
          "schema_version": 3,
          "solution": false,
          "task": false
        },
        "id": "au9IUJRVAKf7"
      },
      "source": [
        "## Prediction Function\n",
        "\n",
        "Given X and w, compute the predicted output. Do not forget to add 1's in X"
      ]
    },
    {
      "cell_type": "code",
      "execution_count": null,
      "metadata": {
        "deletable": false,
        "nbgrader": {
          "cell_type": "code",
          "checksum": "5976e32bd96bc4bdc2b2efd61e98441c",
          "grade": false,
          "grade_id": "Prediction",
          "locked": false,
          "schema_version": 3,
          "solution": true,
          "task": false
        },
        "id": "rRXtbybzAKf8"
      },
      "outputs": [],
      "source": [
        "def Prediction (X, w): # Output should be a prediction vector y\n",
        "    '''\n",
        "    Compute Prediction given an input datamatrix X and weight vecor w. Output y = [X 1]w where 1 is a vector of all 1s \n",
        "    '''\n",
        "    # YOUR CODE HERE\n",
        "    X_aug = np.c_[X, np.ones(X.shape[0])] # X augumented to [X 1]\n",
        "    y = X_aug.dot(w) # y = [X 1]w (Matrix multiplication) is the prdicted output\n",
        "\n",
        "    return y\n",
        "    raise NotImplementedError()\n"
      ]
    },
    {
      "cell_type": "code",
      "execution_count": null,
      "metadata": {
        "deletable": false,
        "editable": false,
        "nbgrader": {
          "cell_type": "code",
          "checksum": "741f088432fb2ac3c49d3c9711d5c9c5",
          "grade": true,
          "grade_id": "PredictionTest",
          "locked": true,
          "points": 5,
          "schema_version": 3,
          "solution": false,
          "task": false
        },
        "id": "KR0cz5GnAKf9"
      },
      "outputs": [],
      "source": [
        "'''\n",
        "TEST CASES, DO NOT CHANGE\n",
        "'''\n",
        "''' case 1 - Known input output matrix and weights 1'''\n",
        "X1 = np.array([[3,2],[1,1]])\n",
        "w1 = np.array([2,1,1]) \n",
        "np.testing.assert_array_equal(Prediction(X1,w1),np.array([9,4]))\n"
      ]
    },
    {
      "cell_type": "markdown",
      "metadata": {
        "deletable": false,
        "editable": false,
        "nbgrader": {
          "cell_type": "markdown",
          "checksum": "227f6e0da2f8c6d631599c44041e3b65",
          "grade": false,
          "grade_id": "cell-6fda2832d5967072",
          "locked": true,
          "schema_version": 3,
          "solution": false,
          "task": false
        },
        "id": "5N2YHNoMAKf9"
      },
      "source": [
        "## Loss Functions\n",
        "\n",
        "Code the four  loss functions:\n",
        "\n",
        "1. MSE loss is only for the error\n",
        "2. MAE loss is only for the error\n",
        "3. L2 loss is for MSE and L2 regularization, and can call MSE loss\n",
        "4. L1 loss is for MSE and L1 regularization, and can call MSE loss"
      ]
    },
    {
      "cell_type": "code",
      "execution_count": null,
      "metadata": {
        "deletable": false,
        "nbgrader": {
          "cell_type": "code",
          "checksum": "2c3e17b8559f0dfdfecdc8d242aba152",
          "grade": false,
          "grade_id": "MSE_Loss",
          "locked": false,
          "schema_version": 3,
          "solution": true,
          "task": false
        },
        "id": "jG3-i1PbAKf-"
      },
      "outputs": [],
      "source": [
        "def MSE_Loss (X, t, w, lamda =0): # Ouput should be a single number\n",
        "    '''\n",
        "    lamda=0 is a default argument to prevent errors if you pass lamda to a function that doesn't need it by mistake. \n",
        "    This allows us to call all loss functions with the same input format.\n",
        "    \n",
        "    You are encouraged read about default arguments by yourself online if you're not familiar.\n",
        "    '''\n",
        "    # YOUR CODE HERE\n",
        "    y = Prediction(X, w) \n",
        "    MSE = (t-y).dot(t-y)/(t.size) # Mean Square Error/Loss\n",
        "\n",
        "    return MSE\n",
        "    \n",
        "    raise NotImplementedError()"
      ]
    },
    {
      "cell_type": "code",
      "execution_count": null,
      "metadata": {
        "deletable": false,
        "editable": false,
        "nbgrader": {
          "cell_type": "code",
          "checksum": "923a1372a401b41d6ef6b0749a49ff66",
          "grade": true,
          "grade_id": "MSE_Loss_Test",
          "locked": true,
          "points": 2,
          "schema_version": 3,
          "solution": false,
          "task": false
        },
        "id": "t4qKzfzyAKf_"
      },
      "outputs": [],
      "source": [
        "'''\n",
        "TEST CASES, DO NOT CHANGE\n",
        "'''\n",
        "''' case 1 '''\n",
        "X=np.array([[3,6,5],[4.5,6.6,6]])\n",
        "t=np.array([4,5.5])\n",
        "w=np.array([2,-1,0.5,1])\n",
        "np.testing.assert_almost_equal(MSE_Loss(X,t,w),0.53,decimal=3)\n"
      ]
    },
    {
      "cell_type": "code",
      "execution_count": null,
      "metadata": {
        "deletable": false,
        "nbgrader": {
          "cell_type": "code",
          "checksum": "b0b3b381c7a3ac5d7dfbb5df647c0d85",
          "grade": false,
          "grade_id": "MAE_Loss",
          "locked": false,
          "schema_version": 3,
          "solution": true,
          "task": false
        },
        "id": "nkp5jqo_AKgA"
      },
      "outputs": [],
      "source": [
        "def MAE_Loss (X, t, w, lamda = 0): # Output should be a single number\n",
        "    # YOUR CODE HERE\n",
        "    y = Prediction(X, w)\n",
        "    MAE = np.sum(np.abs(t-y))/(t.size) # Mean Absolute Error/Loss\n",
        "\n",
        "    return MAE\n",
        "    \n",
        "    raise NotImplementedError()"
      ]
    },
    {
      "cell_type": "code",
      "execution_count": null,
      "metadata": {
        "deletable": false,
        "editable": false,
        "nbgrader": {
          "cell_type": "code",
          "checksum": "f11d5fde7220893a9809f2954d18c5e5",
          "grade": true,
          "grade_id": "MAE_Loss_Test",
          "locked": true,
          "points": 2,
          "schema_version": 3,
          "solution": false,
          "task": false
        },
        "id": "rlN0xvduAKgA"
      },
      "outputs": [],
      "source": [
        "'''\n",
        "TEST CASES, DO NOT CHANGE\n",
        "'''\n",
        "''' case 1 '''\n",
        "X=np.array([[3,6,5],[4.5,6.6,6]])\n",
        "t=np.array([4,5.5])\n",
        "w=np.array([2,-1,0.5,1])\n",
        "np.testing.assert_almost_equal(MAE_Loss(X,t,w),0.700,decimal=3)\n"
      ]
    },
    {
      "cell_type": "code",
      "execution_count": null,
      "metadata": {
        "deletable": false,
        "nbgrader": {
          "cell_type": "code",
          "checksum": "a8309762ea56bb6b24bbbf4a19cb16bc",
          "grade": false,
          "grade_id": "L2_Loss",
          "locked": false,
          "schema_version": 3,
          "solution": true,
          "task": false
        },
        "id": "D810GpzAAKgA"
      },
      "outputs": [],
      "source": [
        "def L2_Loss (X, t, w, lamda): # Output should be a single number based on L2-norm (with sqrt)\n",
        "    ''' Need to specify what inputs are'''\n",
        "    # YOUR CODE HERE\n",
        "    L2_norm_w = np.linalg.norm(w[:len(w)-1], ord = 2) # L2(w) = sqrt(<w,w>) (excluding the bias term)\n",
        "    MSE = MSE_Loss(X, t, w)\n",
        "\n",
        "    return MSE + lamda*L2_norm_w\n",
        "\n",
        "    raise NotImplementedError()"
      ]
    },
    {
      "cell_type": "code",
      "execution_count": null,
      "metadata": {
        "deletable": false,
        "editable": false,
        "nbgrader": {
          "cell_type": "code",
          "checksum": "a5a409056f6797cdf8cbfab61b138c37",
          "grade": true,
          "grade_id": "L2_Loss_Test",
          "locked": true,
          "points": 2,
          "schema_version": 3,
          "solution": false,
          "task": false
        },
        "id": "tLH25nDUAKgB"
      },
      "outputs": [],
      "source": [
        "'''\n",
        "TEST CASES, DO NOT CHANGE\n",
        "'''\n",
        "''' case 1 '''\n",
        "X=np.array([[3,6,5],[4.5,6.6,6]])\n",
        "t=np.array([4,5.5])\n",
        "w=np.array([2,-1,0.5,1])\n",
        "np.testing.assert_almost_equal(L2_Loss(X,t,w,0.5),1.675,decimal=3)\n"
      ]
    },
    {
      "cell_type": "code",
      "execution_count": null,
      "metadata": {
        "deletable": false,
        "nbgrader": {
          "cell_type": "code",
          "checksum": "1af69c123815524cdc71c72e09ece638",
          "grade": false,
          "grade_id": "L1_Loss",
          "locked": false,
          "schema_version": 3,
          "solution": true,
          "task": false
        },
        "id": "0n_9lXF3AKgC"
      },
      "outputs": [],
      "source": [
        "def L1_Loss (X, t, w, lamda): # Output should be a single number\n",
        "    # YOUR CODE HERE\n",
        "    L1_norm_w = np.linalg.norm(w[:len(w)-1], ord = 1) # L1(w) = <|w|,1> (excluding the bias term), where 1 is the vector of all one's \n",
        "    MSE = MSE_Loss(X, t, w)\n",
        "\n",
        "    return MSE + lamda*L1_norm_w\n",
        "    \n",
        "    raise NotImplementedError()"
      ]
    },
    {
      "cell_type": "code",
      "execution_count": null,
      "metadata": {
        "deletable": false,
        "editable": false,
        "nbgrader": {
          "cell_type": "code",
          "checksum": "40224dd69dd8e6499a67271c33701bf4",
          "grade": true,
          "grade_id": "L1_Loss_Test",
          "locked": true,
          "points": 2,
          "schema_version": 3,
          "solution": false,
          "task": false
        },
        "id": "wa71EoAgAKgC"
      },
      "outputs": [],
      "source": [
        "'''\n",
        "TEST CASES, DO NOT CHANGE\n",
        "'''\n",
        "''' case 1 '''\n",
        "X=np.array([[3,6,5],[4.5,6.6,6]])\n",
        "t=np.array([4,5.5])\n",
        "w=np.array([2,-1,0.5,1])\n",
        "np.testing.assert_almost_equal(L1_Loss(X,t,w,0.5),2.280,decimal=3)\n"
      ]
    },
    {
      "cell_type": "code",
      "execution_count": null,
      "metadata": {
        "deletable": false,
        "nbgrader": {
          "cell_type": "code",
          "checksum": "855bd2ded492e567b20f1d9705d9a97a",
          "grade": false,
          "grade_id": "NRMSE_Metric",
          "locked": false,
          "schema_version": 3,
          "solution": true,
          "task": false
        },
        "id": "kC4QR7o8AKgC"
      },
      "outputs": [],
      "source": [
        "def NRMSE_Metric (X, t, w, lamda=0): # Output should be a single number. RMSE/std_dev(t)\n",
        "    # YOUR CODE HERE\n",
        "    RMSE = np.sqrt(MSE_Loss(X, t, w)) # RMSE = sqrt(MSE)\n",
        "    NRMSE = RMSE/(t.std()) # NRMSE (Normalized by variance of target t) = RMSE/(std dev of t)\n",
        "\n",
        "    return NRMSE\n",
        "    \n",
        "    raise NotImplementedError()"
      ]
    },
    {
      "cell_type": "code",
      "execution_count": null,
      "metadata": {
        "deletable": false,
        "editable": false,
        "nbgrader": {
          "cell_type": "code",
          "checksum": "256795799ceb6dfa0b32ab75e8ef30c4",
          "grade": true,
          "grade_id": "NRMSE_Metric_Test",
          "locked": true,
          "points": 2,
          "schema_version": 3,
          "solution": false,
          "task": false
        },
        "id": "ZivNnAyLAKgD"
      },
      "outputs": [],
      "source": [
        "'''\n",
        "TEST CASES, DO NOT CHANGE\n",
        "'''\n",
        "''' Test case 1 '''\n",
        "X=np.array([[3,6,5],[4.5,6.6,6]])\n",
        "t=np.array([4,5.5])\n",
        "w=np.array([2,-1,0.5,1])\n",
        "np.testing.assert_almost_equal(NRMSE_Metric(X,t,w,0.5),0.970,decimal=3)\n"
      ]
    },
    {
      "cell_type": "markdown",
      "metadata": {
        "deletable": false,
        "editable": false,
        "nbgrader": {
          "cell_type": "markdown",
          "checksum": "cc5df30e29bbe17d4bc7aa89210eb5cf",
          "grade": false,
          "grade_id": "Gradient_Title",
          "locked": true,
          "schema_version": 3,
          "solution": false,
          "task": false
        },
        "id": "duwhTlazAKgD"
      },
      "source": [
        "## Gradient function\n",
        "Each Loss function will have its own gradient function:\n",
        "\n",
        "1. MSE gradient is only for the error\n",
        "2. MAE gradient is only for the error\n",
        "3. L2 gradient is for MSE and L2 regularization, and can call MSE gradient\n",
        "4. L1 gradient is for MSE and L1 regularization, and can call MSE gradient"
      ]
    },
    {
      "cell_type": "code",
      "execution_count": null,
      "metadata": {
        "deletable": false,
        "nbgrader": {
          "cell_type": "code",
          "checksum": "0190492ee216edce701f93e697572fc1",
          "grade": false,
          "grade_id": "MSE_Gradient",
          "locked": false,
          "schema_version": 3,
          "solution": true,
          "task": false
        },
        "id": "0mtAeGZDAKgD"
      },
      "outputs": [],
      "source": [
        "def MSE_Gradient (X, t, w, lamda=0): # Output should have the same size as w\n",
        "    # YOUR CODE HERE\n",
        "    # MSE = sqrt(<t-y,t-y>)/N => d(MSE)/dw = -2/N*<t-y,dy/dw> = -2/N*<t-y,X>\n",
        "\n",
        "    X_aug = np.c_[X, np.ones(X.shape[0])] # As prediction is carried out using [X 1] and not X\n",
        "    y = Prediction(X, w)\n",
        "    MSE_grad = -2*(t-y).dot(X_aug)/t.size # MSE_grad = -2/N*<t-y,X_aug>\n",
        "\n",
        "    return MSE_grad\n",
        "    \n",
        "    raise NotImplementedError()"
      ]
    },
    {
      "cell_type": "code",
      "execution_count": null,
      "metadata": {
        "deletable": false,
        "editable": false,
        "nbgrader": {
          "cell_type": "code",
          "checksum": "d61466927592a8776a8bfa688472bad4",
          "grade": true,
          "grade_id": "MSE_Gradient_Test",
          "locked": true,
          "points": 3,
          "schema_version": 3,
          "solution": false,
          "task": false
        },
        "id": "d6K4w14rAKgE"
      },
      "outputs": [],
      "source": [
        "'''\n",
        "TEST CASES, DO NOT CHANGE\n",
        "'''\n",
        "''' case 1 '''\n",
        "X=np.array([[3,6,5],[4.5,6.6,6]])\n",
        "t=np.array([4,5.5])\n",
        "w=np.array([2,-1,0.5,1])\n",
        "np.testing.assert_array_almost_equal(MSE_Gradient(X,t,w),np.array([2.55, 2.94, 2.9 , 0.4 ]),decimal=3)\n"
      ]
    },
    {
      "cell_type": "code",
      "execution_count": null,
      "metadata": {
        "deletable": false,
        "nbgrader": {
          "cell_type": "code",
          "checksum": "49cc4e37cafad52f41853b4b0e71f89f",
          "grade": false,
          "grade_id": "MAE_Gradient",
          "locked": false,
          "schema_version": 3,
          "solution": true,
          "task": false
        },
        "id": "tlT_bSsDAKgE"
      },
      "outputs": [],
      "source": [
        "def MAE_Gradient (X, t, w, lamda=0): # Output should have the same size as w\n",
        "    # YOUR CODE HERE\n",
        "    X_aug = np.c_[X, np.ones(X.shape[0])] # As prediction is carried out using [X 1] and not X\n",
        "    y = Prediction(X, w) # Predicted y\n",
        "\n",
        "    # MAE = sum(|t-y|)/N => d(MAE)/dw = -1/N*<(|t-y|./(t-y)),dy/dw> = -1/N*<(|t-y|./(t-y)),X>\n",
        "    MAE_grad = -(np.abs(t-y)/(t-y)).dot(X_aug)/t.size # MAE_grad = -1/N*<(|t-y|./(t-y)),X>\n",
        "\n",
        "    return MAE_grad\n",
        "    \n",
        "    raise NotImplementedError()"
      ]
    },
    {
      "cell_type": "code",
      "execution_count": null,
      "metadata": {
        "deletable": false,
        "editable": false,
        "nbgrader": {
          "cell_type": "code",
          "checksum": "e1d418bf5351112ae8716877f8bb6359",
          "grade": true,
          "grade_id": "MAE_Gradient_Test",
          "locked": true,
          "points": 3,
          "schema_version": 3,
          "solution": false,
          "task": false
        },
        "id": "6GZ0WUPeAKgF"
      },
      "outputs": [],
      "source": [
        "'''\n",
        "TEST CASES, DO NOT CHANGE\n",
        "'''\n",
        "''' case 1 '''\n",
        "X=np.array([[3,6,5],[4.5,6.6,6]])\n",
        "t=np.array([4,5.5])\n",
        "w=np.array([2,-1,0.5,1])\n",
        "np.testing.assert_array_almost_equal(MAE_Gradient(X,t,w),np.array([0.75,  0.3 , 0.5 , 0.]),decimal=3)\n"
      ]
    },
    {
      "cell_type": "code",
      "execution_count": null,
      "metadata": {
        "deletable": false,
        "nbgrader": {
          "cell_type": "code",
          "checksum": "595829c0dd17df55a03d346fac507b4a",
          "grade": false,
          "grade_id": "L2_Gradient",
          "locked": false,
          "schema_version": 3,
          "solution": true,
          "task": false
        },
        "id": "ZfckrP06AKgF"
      },
      "outputs": [],
      "source": [
        "def L2_Gradient (X, t, w, lamda): # Output should have the same size as w\n",
        "    # YOUR CODE HERE\n",
        "    MSE_grad = MSE_Gradient(X, t, w) # Initialize MSE gradient\n",
        "    L2_grad = np.zeros(MSE_grad.shape[0]) # Initialize L2 gradient\n",
        "\n",
        "    # L2 = MSE + lamda*sqrt(<w,w>) => d(L2)/dw = d(MSE)/dw + lamda*w/sqrt(<w,w>)\n",
        "    L2_grad[:len(w)-1] = MSE_grad[:len(w)-1] + lamda*(w[:len(w)-1]/np.linalg.norm(w[:len(w)-1], ord = 2))\n",
        "    L2_grad[-1] = MSE_grad[-1]\n",
        "\n",
        "    return L2_grad\n",
        "    \n",
        "    raise NotImplementedError()"
      ]
    },
    {
      "cell_type": "code",
      "execution_count": null,
      "metadata": {
        "deletable": false,
        "editable": false,
        "nbgrader": {
          "cell_type": "code",
          "checksum": "f292b42c3389b24e369234a7210b87bb",
          "grade": true,
          "grade_id": "L2_Gradient_Test",
          "locked": true,
          "points": 3,
          "schema_version": 3,
          "solution": false,
          "task": false
        },
        "id": "iYYtH_LvAKgF"
      },
      "outputs": [],
      "source": [
        "'''\n",
        "TEST CASES, DO NOT CHANGE\n",
        "'''\n",
        "''' case 1 '''\n",
        "X=np.array([[3,6,5],[4.5,6.6,6]])\n",
        "t=np.array([4,5.5])\n",
        "w=np.array([2,-1,0.5,1])\n",
        "np.testing.assert_array_almost_equal(L2_Gradient(X,t,w,0.5),np.array([2.986, 2.721, 3.009 , 0.4 ]),decimal=3)\n"
      ]
    },
    {
      "cell_type": "code",
      "execution_count": null,
      "metadata": {
        "deletable": false,
        "nbgrader": {
          "cell_type": "code",
          "checksum": "141736f1feda5aa225e008d749f0015c",
          "grade": false,
          "grade_id": "L1_Gradient",
          "locked": false,
          "schema_version": 3,
          "solution": true,
          "task": false
        },
        "id": "ez0HVGDLAKgF"
      },
      "outputs": [],
      "source": [
        "def L1_Gradient (X, t, w, lamda): # Output should have the same size as w\n",
        "    # YOUR CODE HERE\n",
        "    MSE_grad = MSE_Gradient(X, t, w) # Initialize MSE gradient\n",
        "    L1_grad = np.zeros(MSE_grad.shape[0]) # Initialize L1 gradient\n",
        "\n",
        "    # L1 = MSE + lamda*sum(|w|) => d(L2)/dw = d(MSE)/dw + lamda*w./|w|\n",
        "    L1_grad[:len(w)-1] = MSE_grad[:len(w)-1] + lamda*(w[:len(w)-1]/np.abs(w[:len(w)-1]))\n",
        "    L1_grad[-1] = MSE_grad[-1]\n",
        "\n",
        "    return L1_grad\n",
        "    \n",
        "    raise NotImplementedError()"
      ]
    },
    {
      "cell_type": "code",
      "execution_count": null,
      "metadata": {
        "deletable": false,
        "editable": false,
        "nbgrader": {
          "cell_type": "code",
          "checksum": "9097b61320e470f429a9f46c7da0b219",
          "grade": true,
          "grade_id": "L1_Gradient_Test",
          "locked": true,
          "points": 3,
          "schema_version": 3,
          "solution": false,
          "task": false
        },
        "id": "tiB1qXzCAKgG"
      },
      "outputs": [],
      "source": [
        "'''\n",
        "TEST CASES, DO NOT CHANGE\n",
        "'''\n",
        "''' case 1 '''\n",
        "X=np.array([[3,6,5],[4.5,6.6,6]])\n",
        "t=np.array([4,5.5])\n",
        "w=np.array([2,-1,0.5,1])\n",
        "np.testing.assert_array_almost_equal(L1_Gradient(X,t,w,0.5),np.array([3.05, 2.44, 3.4 , 0.4 ]),decimal=3)\n"
      ]
    },
    {
      "cell_type": "markdown",
      "metadata": {
        "deletable": false,
        "editable": false,
        "nbgrader": {
          "cell_type": "markdown",
          "checksum": "1980a2f831b5e1ddc9b510c22ef502c7",
          "grade": false,
          "grade_id": "Gradient_Desc_Title",
          "locked": true,
          "schema_version": 3,
          "solution": false,
          "task": false
        },
        "id": "d44nTPJmAKgG"
      },
      "source": [
        "## Gradient Descent Function\n"
      ]
    },
    {
      "cell_type": "code",
      "execution_count": null,
      "metadata": {
        "deletable": false,
        "nbgrader": {
          "cell_type": "code",
          "checksum": "78cdd5ffa4590c10e19281722ccd537f",
          "grade": false,
          "grade_id": "Gradient_Descent",
          "locked": false,
          "schema_version": 3,
          "solution": true,
          "task": false
        },
        "id": "bzrxowdGAKgG"
      },
      "outputs": [],
      "source": [
        "def Gradient_Descent (X, X_val, t, t_val, w, lamda, max_iter, epsilon, lr, lossfunc, gradfunc): # See output format in 'return' statement\n",
        "    # YOUR CODE HERE\n",
        "\n",
        "    # Initilaization\n",
        "    i = 0 # Iteration\n",
        "    w_final = w # Weights\n",
        "\n",
        "    NRMSE_prev = 0 # Previous NRMSE\n",
        "    NRMSE_curr = NRMSE_Metric(X, t, w_final) # Current NRMSE on training data\n",
        "\n",
        "    \n",
        "    #while abs(NRMSE_prev - NRMSE_curr) >= epsilon: # |NRMSE(w_curr) - NRMSE(w_prev)| >= epsilon\n",
        "    for i in range(max_iter): # i < max_iter\n",
        "      NRMSE_prev = NRMSE_curr # w_prev = w_curr => NRMSE(w_prev) = NRMSE(w_curr) \n",
        "      w_final = w_final - lr*(gradfunc(X, t, w_final, lamda)) # w_curr = w_prev - eta*NRMSE(w_prev)\n",
        "      NRMSE_curr = NRMSE_Metric(X, t, w_final) # NRMSE(w_curr)\n",
        "      #else:\n",
        "        #break\n",
        "      #i += 1\n",
        "\n",
        "    train_loss_final = lossfunc(X, t, w_final, lamda) # Final loss on training data (X, t)\n",
        "    validation_loss_final = lossfunc(X_val, t_val, w_final, lamda) # Final loss on validation data (X_val, t_val)\n",
        "    validation_NRMSE =  NRMSE_Metric(X_val, t_val, w_final) # Normalized RMSE on validation data\n",
        "\n",
        "    return w_final, train_loss_final, validation_loss_final, validation_NRMSE #You should return variables structured like this\n",
        "\n",
        "    raise NotImplementedError()\n",
        "    "
      ]
    },
    {
      "cell_type": "code",
      "execution_count": null,
      "metadata": {
        "deletable": false,
        "editable": false,
        "nbgrader": {
          "cell_type": "code",
          "checksum": "15a67336bed20a51f33820bf615186e8",
          "grade": true,
          "grade_id": "Gradient_Check",
          "locked": true,
          "points": 20,
          "schema_version": 3,
          "solution": false,
          "task": false
        },
        "id": "M8kQE82iAKgH"
      },
      "outputs": [],
      "source": [
        "'''\n",
        "TEST CASES, DO NOT CHANGE\n",
        "'''\n",
        "X=np.array([[23,24],[1,2]])\n",
        "t=np.array([4,5])\n",
        "X_val=np.array([[3,4],[5,6]])\n",
        "t_val=np.array([3,4])\n",
        "w=np.array([3,2,1])\n",
        "results =Gradient_Descent (X, X_val, t, t_val, w, 0.1, 100, 1e-10, 1e-5, L2_Loss,L2_Gradient) \n",
        "np.testing.assert_allclose([results[1]],[697.919],rtol =0.05)\n",
        "np.testing.assert_allclose([results[2]],[20],atol=5) # we expect around 17.5  but some students got 24 which we will also accept\n",
        "#Instructor Values of results[1] and results [2] are 697.919 and 17.512 respectively"
      ]
    },
    {
      "cell_type": "markdown",
      "metadata": {
        "deletable": false,
        "editable": false,
        "nbgrader": {
          "cell_type": "markdown",
          "checksum": "24f327aa6a14590077f907ee8323724c",
          "grade": false,
          "grade_id": "PseudoInvTitle",
          "locked": true,
          "schema_version": 3,
          "solution": false,
          "task": false
        },
        "id": "YZCAI2ziAKgH"
      },
      "source": [
        "## Pseudo Inverse Method\n",
        "\n",
        "You have to implement a slightly more advanced version, with L2 penalty:\n",
        "\n",
        "w = (X' X + lambda I)^(-1) X' t.\n",
        "\n",
        "See, for example: Section 2 of https://web.mit.edu/zoya/www/linearRegression.pdf\n",
        "\n",
        "Here, the column of 1's in assumed to be included in X"
      ]
    },
    {
      "cell_type": "code",
      "execution_count": null,
      "metadata": {
        "deletable": false,
        "nbgrader": {
          "cell_type": "code",
          "checksum": "928c9b105c4bcf3c132c7520a140d509",
          "grade": false,
          "grade_id": "PseudoInv",
          "locked": false,
          "schema_version": 3,
          "solution": true,
          "task": false
        },
        "id": "LdXItn9QAKgH"
      },
      "outputs": [],
      "source": [
        "def Pseudo_Inverse (X, t, lamda): # Output should be weight vector\n",
        "    # YOUR CODE HERE\n",
        "    X_aug = np.c_[X, np.ones(X.shape[0])] # X_aug = [X 1]\n",
        "    pseudo_inv_X = (X_aug.T).dot(X_aug) # pseudo_inv(X_aug) = (X_aug'X_aug)^(-1)*X_aug'\n",
        "    pseudo_inv_X = np.linalg.inv(pseudo_inv_X + lamda*np.eye(pseudo_inv_X.shape[0])).dot(X_aug.T) # Regularized pseudo inverse\n",
        "    w = pseudo_inv_X.dot(t) # w = pseudo_inv(X_aug)*t\n",
        "\n",
        "    return w\n",
        "\n",
        "    raise NotImplementedError()"
      ]
    },
    {
      "cell_type": "code",
      "execution_count": null,
      "metadata": {
        "deletable": false,
        "editable": false,
        "nbgrader": {
          "cell_type": "code",
          "checksum": "a5178b8280650ed5d1d55dc6bbb38a29",
          "grade": true,
          "grade_id": "PseudoInvTest",
          "locked": true,
          "points": 10,
          "schema_version": 3,
          "solution": false,
          "task": false
        },
        "id": "NOpxdIcFAKgI"
      },
      "outputs": [],
      "source": [
        "'''\n",
        "TEST CASES, DO NOT CHANGE\n",
        "'''\n",
        "''' case 1 - other data'''\n",
        "X=np.array([[3,6,5],[4.5,6.6,6]])\n",
        "t=np.array([4,5.5])\n",
        "np.testing.assert_array_almost_equal(Pseudo_Inverse(X,t,0.5),np.array([ 0.491,  0.183,  0.319, -0.002]),decimal=3)"
      ]
    },
    {
      "cell_type": "markdown",
      "metadata": {
        "deletable": false,
        "editable": false,
        "nbgrader": {
          "cell_type": "markdown",
          "checksum": "8748fcc0dc96df6e7bb48a4e315927d3",
          "grade": false,
          "grade_id": "cell-e0fa02d7eecfb851",
          "locked": true,
          "schema_version": 3,
          "solution": false,
          "task": false
        },
        "id": "J8lEJiQeAKgI"
      },
      "source": [
        "#... Part 1 ends Below this you be more creative. Just comment out the lines where you save files (e.g. test predictions)."
      ]
    },
    {
      "cell_type": "markdown",
      "metadata": {
        "deletable": false,
        "editable": false,
        "nbgrader": {
          "cell_type": "markdown",
          "checksum": "c9047f75587bfee6b7b0a4b244efc7fa",
          "grade": false,
          "grade_id": "cell-10f0d275f5cd36f6",
          "locked": true,
          "schema_version": 3,
          "solution": false,
          "task": false
        },
        "id": "zMO3c6suAKgI"
      },
      "source": [
        "#**Part 2 begins ...**\n",
        "\n",
        "**Instructions to be loosely followed (except number 8):**\n",
        "\n",
        "1. Add more code and text cells between this and the last cell.\n",
        "2. Read training data from: https://www.ee.iitb.ac.in/~asethi/Dump/TempTrain.csv only. Do not use a local copy of the dataset.\n",
        "3. Find the best lamda for **MSE+lamda*L2(w)** loss function. Plot training and validation RMSE vs. 1/lamda (1/lamda represents model complexity). Print weights, validation RMSE, validation NRMSE for the best lamda.\n",
        "4. Find the best lamda for **MSE+lamda*L1(w)** loss function. Plot training and validation RMSE vs. 1/lamda (1/lamda represents model complexity). Print weights, validation RMSE, validation NRMSE for the best lamda.\n",
        "5. Find the best lamda for the **pseudo-inv method**. Plot training and validation RMSE vs. 1/lamda (1/lamda represents model complexity). Print weights, validation RMSE, validation NRMSE for the best lamda.\n",
        "6. Write your observations and conclusions.\n",
        "7. Read test data from: https://www.ee.iitb.ac.in/~asethi/Dump/TempTest.csv only. Do not use a local copy of the dataset. Predict its dependent (missing last column) using the model with the lowest MSE, RMSE, or NRMSE. Save it as a file RollNo1_RollNo2_1.csv.\n",
        "8. **Disable the prediction csv file saving statement and submit this entire .ipynb file, .py file, and .csv file as a single RollNo1_RollNo2_1.zip file.**\n"
      ]
    },
    {
      "cell_type": "code",
      "source": [
        "df_train = pd.read_csv('https://www.ee.iitb.ac.in/~asethi/Dump/TempTrain.csv')\n",
        "df_test = pd.read_csv('https://www.ee.iitb.ac.in/~asethi/Dump/TempTest.csv')"
      ],
      "metadata": {
        "id": "VG4f3LabB23r"
      },
      "execution_count": null,
      "outputs": []
    },
    {
      "cell_type": "code",
      "source": [
        "df_train.head()"
      ],
      "metadata": {
        "colab": {
          "base_uri": "https://localhost:8080/",
          "height": 287
        },
        "id": "tpyWN8qhCJYd",
        "outputId": "2054c6af-adf4-4fa3-ae33-e969ff842ce6"
      },
      "execution_count": null,
      "outputs": [
        {
          "output_type": "execute_result",
          "data": {
            "text/html": [
              "\n",
              "  <div id=\"df-b6e17577-ecfa-49f8-b646-84f81b5a2c89\">\n",
              "    <div class=\"colab-df-container\">\n",
              "      <div>\n",
              "<style scoped>\n",
              "    .dataframe tbody tr th:only-of-type {\n",
              "        vertical-align: middle;\n",
              "    }\n",
              "\n",
              "    .dataframe tbody tr th {\n",
              "        vertical-align: top;\n",
              "    }\n",
              "\n",
              "    .dataframe thead th {\n",
              "        text-align: right;\n",
              "    }\n",
              "</style>\n",
              "<table border=\"1\" class=\"dataframe\">\n",
              "  <thead>\n",
              "    <tr style=\"text-align: right;\">\n",
              "      <th></th>\n",
              "      <th>Present_Tmax</th>\n",
              "      <th>Present_Tmin</th>\n",
              "      <th>LDAPS_RHmin</th>\n",
              "      <th>LDAPS_RHmax</th>\n",
              "      <th>LDAPS_Tmax_lapse</th>\n",
              "      <th>LDAPS_Tmin_lapse</th>\n",
              "      <th>LDAPS_WS</th>\n",
              "      <th>LDAPS_LH</th>\n",
              "      <th>LDAPS_CC1</th>\n",
              "      <th>LDAPS_CC2</th>\n",
              "      <th>LDAPS_CC3</th>\n",
              "      <th>LDAPS_CC4</th>\n",
              "      <th>LDAPS_PPT1</th>\n",
              "      <th>LDAPS_PPT2</th>\n",
              "      <th>LDAPS_PPT3</th>\n",
              "      <th>LDAPS_PPT4</th>\n",
              "      <th>lat</th>\n",
              "      <th>lon</th>\n",
              "      <th>DEM</th>\n",
              "      <th>Slope</th>\n",
              "      <th>Solar radiation</th>\n",
              "      <th>Next_Tmax</th>\n",
              "    </tr>\n",
              "  </thead>\n",
              "  <tbody>\n",
              "    <tr>\n",
              "      <th>0</th>\n",
              "      <td>28.7</td>\n",
              "      <td>21.4</td>\n",
              "      <td>58.255688</td>\n",
              "      <td>91.116364</td>\n",
              "      <td>28.074101</td>\n",
              "      <td>23.006936</td>\n",
              "      <td>6.818887</td>\n",
              "      <td>69.451805</td>\n",
              "      <td>0.233947</td>\n",
              "      <td>0.203896</td>\n",
              "      <td>0.161697</td>\n",
              "      <td>0.130928</td>\n",
              "      <td>0.0</td>\n",
              "      <td>0.0</td>\n",
              "      <td>0.0</td>\n",
              "      <td>0.0</td>\n",
              "      <td>37.6046</td>\n",
              "      <td>126.991</td>\n",
              "      <td>212.3350</td>\n",
              "      <td>2.7850</td>\n",
              "      <td>5992.895996</td>\n",
              "      <td>29.1</td>\n",
              "    </tr>\n",
              "    <tr>\n",
              "      <th>1</th>\n",
              "      <td>31.9</td>\n",
              "      <td>21.6</td>\n",
              "      <td>52.263397</td>\n",
              "      <td>90.604721</td>\n",
              "      <td>29.850689</td>\n",
              "      <td>24.035009</td>\n",
              "      <td>5.691890</td>\n",
              "      <td>51.937448</td>\n",
              "      <td>0.225508</td>\n",
              "      <td>0.251771</td>\n",
              "      <td>0.159444</td>\n",
              "      <td>0.127727</td>\n",
              "      <td>0.0</td>\n",
              "      <td>0.0</td>\n",
              "      <td>0.0</td>\n",
              "      <td>0.0</td>\n",
              "      <td>37.6046</td>\n",
              "      <td>127.032</td>\n",
              "      <td>44.7624</td>\n",
              "      <td>0.5141</td>\n",
              "      <td>5869.312500</td>\n",
              "      <td>30.5</td>\n",
              "    </tr>\n",
              "    <tr>\n",
              "      <th>2</th>\n",
              "      <td>31.6</td>\n",
              "      <td>23.3</td>\n",
              "      <td>48.690479</td>\n",
              "      <td>83.973587</td>\n",
              "      <td>30.091292</td>\n",
              "      <td>24.565633</td>\n",
              "      <td>6.138224</td>\n",
              "      <td>20.573050</td>\n",
              "      <td>0.209344</td>\n",
              "      <td>0.257469</td>\n",
              "      <td>0.204091</td>\n",
              "      <td>0.142125</td>\n",
              "      <td>0.0</td>\n",
              "      <td>0.0</td>\n",
              "      <td>0.0</td>\n",
              "      <td>0.0</td>\n",
              "      <td>37.5776</td>\n",
              "      <td>127.058</td>\n",
              "      <td>33.3068</td>\n",
              "      <td>0.2661</td>\n",
              "      <td>5863.555664</td>\n",
              "      <td>31.1</td>\n",
              "    </tr>\n",
              "    <tr>\n",
              "      <th>3</th>\n",
              "      <td>32.0</td>\n",
              "      <td>23.4</td>\n",
              "      <td>58.239788</td>\n",
              "      <td>96.483688</td>\n",
              "      <td>29.704629</td>\n",
              "      <td>23.326177</td>\n",
              "      <td>5.650050</td>\n",
              "      <td>65.727144</td>\n",
              "      <td>0.216372</td>\n",
              "      <td>0.226002</td>\n",
              "      <td>0.161157</td>\n",
              "      <td>0.134249</td>\n",
              "      <td>0.0</td>\n",
              "      <td>0.0</td>\n",
              "      <td>0.0</td>\n",
              "      <td>0.0</td>\n",
              "      <td>37.6450</td>\n",
              "      <td>127.022</td>\n",
              "      <td>45.7160</td>\n",
              "      <td>2.5348</td>\n",
              "      <td>5856.964844</td>\n",
              "      <td>31.7</td>\n",
              "    </tr>\n",
              "    <tr>\n",
              "      <th>4</th>\n",
              "      <td>31.4</td>\n",
              "      <td>21.9</td>\n",
              "      <td>56.174095</td>\n",
              "      <td>90.155128</td>\n",
              "      <td>29.113934</td>\n",
              "      <td>23.486480</td>\n",
              "      <td>5.735004</td>\n",
              "      <td>107.965535</td>\n",
              "      <td>0.151407</td>\n",
              "      <td>0.249995</td>\n",
              "      <td>0.178892</td>\n",
              "      <td>0.170021</td>\n",
              "      <td>0.0</td>\n",
              "      <td>0.0</td>\n",
              "      <td>0.0</td>\n",
              "      <td>0.0</td>\n",
              "      <td>37.5507</td>\n",
              "      <td>127.135</td>\n",
              "      <td>35.0380</td>\n",
              "      <td>0.5055</td>\n",
              "      <td>5859.552246</td>\n",
              "      <td>31.2</td>\n",
              "    </tr>\n",
              "  </tbody>\n",
              "</table>\n",
              "</div>\n",
              "      <button class=\"colab-df-convert\" onclick=\"convertToInteractive('df-b6e17577-ecfa-49f8-b646-84f81b5a2c89')\"\n",
              "              title=\"Convert this dataframe to an interactive table.\"\n",
              "              style=\"display:none;\">\n",
              "        \n",
              "  <svg xmlns=\"http://www.w3.org/2000/svg\" height=\"24px\"viewBox=\"0 0 24 24\"\n",
              "       width=\"24px\">\n",
              "    <path d=\"M0 0h24v24H0V0z\" fill=\"none\"/>\n",
              "    <path d=\"M18.56 5.44l.94 2.06.94-2.06 2.06-.94-2.06-.94-.94-2.06-.94 2.06-2.06.94zm-11 1L8.5 8.5l.94-2.06 2.06-.94-2.06-.94L8.5 2.5l-.94 2.06-2.06.94zm10 10l.94 2.06.94-2.06 2.06-.94-2.06-.94-.94-2.06-.94 2.06-2.06.94z\"/><path d=\"M17.41 7.96l-1.37-1.37c-.4-.4-.92-.59-1.43-.59-.52 0-1.04.2-1.43.59L10.3 9.45l-7.72 7.72c-.78.78-.78 2.05 0 2.83L4 21.41c.39.39.9.59 1.41.59.51 0 1.02-.2 1.41-.59l7.78-7.78 2.81-2.81c.8-.78.8-2.07 0-2.86zM5.41 20L4 18.59l7.72-7.72 1.47 1.35L5.41 20z\"/>\n",
              "  </svg>\n",
              "      </button>\n",
              "      \n",
              "  <style>\n",
              "    .colab-df-container {\n",
              "      display:flex;\n",
              "      flex-wrap:wrap;\n",
              "      gap: 12px;\n",
              "    }\n",
              "\n",
              "    .colab-df-convert {\n",
              "      background-color: #E8F0FE;\n",
              "      border: none;\n",
              "      border-radius: 50%;\n",
              "      cursor: pointer;\n",
              "      display: none;\n",
              "      fill: #1967D2;\n",
              "      height: 32px;\n",
              "      padding: 0 0 0 0;\n",
              "      width: 32px;\n",
              "    }\n",
              "\n",
              "    .colab-df-convert:hover {\n",
              "      background-color: #E2EBFA;\n",
              "      box-shadow: 0px 1px 2px rgba(60, 64, 67, 0.3), 0px 1px 3px 1px rgba(60, 64, 67, 0.15);\n",
              "      fill: #174EA6;\n",
              "    }\n",
              "\n",
              "    [theme=dark] .colab-df-convert {\n",
              "      background-color: #3B4455;\n",
              "      fill: #D2E3FC;\n",
              "    }\n",
              "\n",
              "    [theme=dark] .colab-df-convert:hover {\n",
              "      background-color: #434B5C;\n",
              "      box-shadow: 0px 1px 3px 1px rgba(0, 0, 0, 0.15);\n",
              "      filter: drop-shadow(0px 1px 2px rgba(0, 0, 0, 0.3));\n",
              "      fill: #FFFFFF;\n",
              "    }\n",
              "  </style>\n",
              "\n",
              "      <script>\n",
              "        const buttonEl =\n",
              "          document.querySelector('#df-b6e17577-ecfa-49f8-b646-84f81b5a2c89 button.colab-df-convert');\n",
              "        buttonEl.style.display =\n",
              "          google.colab.kernel.accessAllowed ? 'block' : 'none';\n",
              "\n",
              "        async function convertToInteractive(key) {\n",
              "          const element = document.querySelector('#df-b6e17577-ecfa-49f8-b646-84f81b5a2c89');\n",
              "          const dataTable =\n",
              "            await google.colab.kernel.invokeFunction('convertToInteractive',\n",
              "                                                     [key], {});\n",
              "          if (!dataTable) return;\n",
              "\n",
              "          const docLinkHtml = 'Like what you see? Visit the ' +\n",
              "            '<a target=\"_blank\" href=https://colab.research.google.com/notebooks/data_table.ipynb>data table notebook</a>'\n",
              "            + ' to learn more about interactive tables.';\n",
              "          element.innerHTML = '';\n",
              "          dataTable['output_type'] = 'display_data';\n",
              "          await google.colab.output.renderOutput(dataTable, element);\n",
              "          const docLink = document.createElement('div');\n",
              "          docLink.innerHTML = docLinkHtml;\n",
              "          element.appendChild(docLink);\n",
              "        }\n",
              "      </script>\n",
              "    </div>\n",
              "  </div>\n",
              "  "
            ],
            "text/plain": [
              "   Present_Tmax  Present_Tmin  LDAPS_RHmin  ...   Slope  Solar radiation  Next_Tmax\n",
              "0          28.7          21.4    58.255688  ...  2.7850      5992.895996       29.1\n",
              "1          31.9          21.6    52.263397  ...  0.5141      5869.312500       30.5\n",
              "2          31.6          23.3    48.690479  ...  0.2661      5863.555664       31.1\n",
              "3          32.0          23.4    58.239788  ...  2.5348      5856.964844       31.7\n",
              "4          31.4          21.9    56.174095  ...  0.5055      5859.552246       31.2\n",
              "\n",
              "[5 rows x 22 columns]"
            ]
          },
          "metadata": {},
          "execution_count": 30
        }
      ]
    },
    {
      "cell_type": "code",
      "source": [
        "X = df_train.iloc[:, :17]\n",
        "t = df_train['Next_Tmax']"
      ],
      "metadata": {
        "id": "9y-jmrIADLXU"
      },
      "execution_count": null,
      "outputs": []
    },
    {
      "cell_type": "code",
      "source": [
        "X.head()"
      ],
      "metadata": {
        "colab": {
          "base_uri": "https://localhost:8080/",
          "height": 206
        },
        "id": "xL1doyDhDPfl",
        "outputId": "c5573cbc-4977-4dce-9913-8839fcd5a206"
      },
      "execution_count": null,
      "outputs": [
        {
          "output_type": "execute_result",
          "data": {
            "text/html": [
              "\n",
              "  <div id=\"df-65b6e3a7-0616-4c2b-bda0-2e1a8bc3407d\">\n",
              "    <div class=\"colab-df-container\">\n",
              "      <div>\n",
              "<style scoped>\n",
              "    .dataframe tbody tr th:only-of-type {\n",
              "        vertical-align: middle;\n",
              "    }\n",
              "\n",
              "    .dataframe tbody tr th {\n",
              "        vertical-align: top;\n",
              "    }\n",
              "\n",
              "    .dataframe thead th {\n",
              "        text-align: right;\n",
              "    }\n",
              "</style>\n",
              "<table border=\"1\" class=\"dataframe\">\n",
              "  <thead>\n",
              "    <tr style=\"text-align: right;\">\n",
              "      <th></th>\n",
              "      <th>Present_Tmax</th>\n",
              "      <th>Present_Tmin</th>\n",
              "      <th>LDAPS_RHmin</th>\n",
              "      <th>LDAPS_RHmax</th>\n",
              "      <th>LDAPS_Tmax_lapse</th>\n",
              "      <th>LDAPS_Tmin_lapse</th>\n",
              "      <th>LDAPS_WS</th>\n",
              "      <th>LDAPS_LH</th>\n",
              "      <th>LDAPS_CC1</th>\n",
              "      <th>LDAPS_CC2</th>\n",
              "      <th>LDAPS_CC3</th>\n",
              "      <th>LDAPS_CC4</th>\n",
              "      <th>LDAPS_PPT1</th>\n",
              "      <th>LDAPS_PPT2</th>\n",
              "      <th>LDAPS_PPT3</th>\n",
              "      <th>LDAPS_PPT4</th>\n",
              "      <th>lat</th>\n",
              "    </tr>\n",
              "  </thead>\n",
              "  <tbody>\n",
              "    <tr>\n",
              "      <th>0</th>\n",
              "      <td>28.7</td>\n",
              "      <td>21.4</td>\n",
              "      <td>58.255688</td>\n",
              "      <td>91.116364</td>\n",
              "      <td>28.074101</td>\n",
              "      <td>23.006936</td>\n",
              "      <td>6.818887</td>\n",
              "      <td>69.451805</td>\n",
              "      <td>0.233947</td>\n",
              "      <td>0.203896</td>\n",
              "      <td>0.161697</td>\n",
              "      <td>0.130928</td>\n",
              "      <td>0.0</td>\n",
              "      <td>0.0</td>\n",
              "      <td>0.0</td>\n",
              "      <td>0.0</td>\n",
              "      <td>37.6046</td>\n",
              "    </tr>\n",
              "    <tr>\n",
              "      <th>1</th>\n",
              "      <td>31.9</td>\n",
              "      <td>21.6</td>\n",
              "      <td>52.263397</td>\n",
              "      <td>90.604721</td>\n",
              "      <td>29.850689</td>\n",
              "      <td>24.035009</td>\n",
              "      <td>5.691890</td>\n",
              "      <td>51.937448</td>\n",
              "      <td>0.225508</td>\n",
              "      <td>0.251771</td>\n",
              "      <td>0.159444</td>\n",
              "      <td>0.127727</td>\n",
              "      <td>0.0</td>\n",
              "      <td>0.0</td>\n",
              "      <td>0.0</td>\n",
              "      <td>0.0</td>\n",
              "      <td>37.6046</td>\n",
              "    </tr>\n",
              "    <tr>\n",
              "      <th>2</th>\n",
              "      <td>31.6</td>\n",
              "      <td>23.3</td>\n",
              "      <td>48.690479</td>\n",
              "      <td>83.973587</td>\n",
              "      <td>30.091292</td>\n",
              "      <td>24.565633</td>\n",
              "      <td>6.138224</td>\n",
              "      <td>20.573050</td>\n",
              "      <td>0.209344</td>\n",
              "      <td>0.257469</td>\n",
              "      <td>0.204091</td>\n",
              "      <td>0.142125</td>\n",
              "      <td>0.0</td>\n",
              "      <td>0.0</td>\n",
              "      <td>0.0</td>\n",
              "      <td>0.0</td>\n",
              "      <td>37.5776</td>\n",
              "    </tr>\n",
              "    <tr>\n",
              "      <th>3</th>\n",
              "      <td>32.0</td>\n",
              "      <td>23.4</td>\n",
              "      <td>58.239788</td>\n",
              "      <td>96.483688</td>\n",
              "      <td>29.704629</td>\n",
              "      <td>23.326177</td>\n",
              "      <td>5.650050</td>\n",
              "      <td>65.727144</td>\n",
              "      <td>0.216372</td>\n",
              "      <td>0.226002</td>\n",
              "      <td>0.161157</td>\n",
              "      <td>0.134249</td>\n",
              "      <td>0.0</td>\n",
              "      <td>0.0</td>\n",
              "      <td>0.0</td>\n",
              "      <td>0.0</td>\n",
              "      <td>37.6450</td>\n",
              "    </tr>\n",
              "    <tr>\n",
              "      <th>4</th>\n",
              "      <td>31.4</td>\n",
              "      <td>21.9</td>\n",
              "      <td>56.174095</td>\n",
              "      <td>90.155128</td>\n",
              "      <td>29.113934</td>\n",
              "      <td>23.486480</td>\n",
              "      <td>5.735004</td>\n",
              "      <td>107.965535</td>\n",
              "      <td>0.151407</td>\n",
              "      <td>0.249995</td>\n",
              "      <td>0.178892</td>\n",
              "      <td>0.170021</td>\n",
              "      <td>0.0</td>\n",
              "      <td>0.0</td>\n",
              "      <td>0.0</td>\n",
              "      <td>0.0</td>\n",
              "      <td>37.5507</td>\n",
              "    </tr>\n",
              "  </tbody>\n",
              "</table>\n",
              "</div>\n",
              "      <button class=\"colab-df-convert\" onclick=\"convertToInteractive('df-65b6e3a7-0616-4c2b-bda0-2e1a8bc3407d')\"\n",
              "              title=\"Convert this dataframe to an interactive table.\"\n",
              "              style=\"display:none;\">\n",
              "        \n",
              "  <svg xmlns=\"http://www.w3.org/2000/svg\" height=\"24px\"viewBox=\"0 0 24 24\"\n",
              "       width=\"24px\">\n",
              "    <path d=\"M0 0h24v24H0V0z\" fill=\"none\"/>\n",
              "    <path d=\"M18.56 5.44l.94 2.06.94-2.06 2.06-.94-2.06-.94-.94-2.06-.94 2.06-2.06.94zm-11 1L8.5 8.5l.94-2.06 2.06-.94-2.06-.94L8.5 2.5l-.94 2.06-2.06.94zm10 10l.94 2.06.94-2.06 2.06-.94-2.06-.94-.94-2.06-.94 2.06-2.06.94z\"/><path d=\"M17.41 7.96l-1.37-1.37c-.4-.4-.92-.59-1.43-.59-.52 0-1.04.2-1.43.59L10.3 9.45l-7.72 7.72c-.78.78-.78 2.05 0 2.83L4 21.41c.39.39.9.59 1.41.59.51 0 1.02-.2 1.41-.59l7.78-7.78 2.81-2.81c.8-.78.8-2.07 0-2.86zM5.41 20L4 18.59l7.72-7.72 1.47 1.35L5.41 20z\"/>\n",
              "  </svg>\n",
              "      </button>\n",
              "      \n",
              "  <style>\n",
              "    .colab-df-container {\n",
              "      display:flex;\n",
              "      flex-wrap:wrap;\n",
              "      gap: 12px;\n",
              "    }\n",
              "\n",
              "    .colab-df-convert {\n",
              "      background-color: #E8F0FE;\n",
              "      border: none;\n",
              "      border-radius: 50%;\n",
              "      cursor: pointer;\n",
              "      display: none;\n",
              "      fill: #1967D2;\n",
              "      height: 32px;\n",
              "      padding: 0 0 0 0;\n",
              "      width: 32px;\n",
              "    }\n",
              "\n",
              "    .colab-df-convert:hover {\n",
              "      background-color: #E2EBFA;\n",
              "      box-shadow: 0px 1px 2px rgba(60, 64, 67, 0.3), 0px 1px 3px 1px rgba(60, 64, 67, 0.15);\n",
              "      fill: #174EA6;\n",
              "    }\n",
              "\n",
              "    [theme=dark] .colab-df-convert {\n",
              "      background-color: #3B4455;\n",
              "      fill: #D2E3FC;\n",
              "    }\n",
              "\n",
              "    [theme=dark] .colab-df-convert:hover {\n",
              "      background-color: #434B5C;\n",
              "      box-shadow: 0px 1px 3px 1px rgba(0, 0, 0, 0.15);\n",
              "      filter: drop-shadow(0px 1px 2px rgba(0, 0, 0, 0.3));\n",
              "      fill: #FFFFFF;\n",
              "    }\n",
              "  </style>\n",
              "\n",
              "      <script>\n",
              "        const buttonEl =\n",
              "          document.querySelector('#df-65b6e3a7-0616-4c2b-bda0-2e1a8bc3407d button.colab-df-convert');\n",
              "        buttonEl.style.display =\n",
              "          google.colab.kernel.accessAllowed ? 'block' : 'none';\n",
              "\n",
              "        async function convertToInteractive(key) {\n",
              "          const element = document.querySelector('#df-65b6e3a7-0616-4c2b-bda0-2e1a8bc3407d');\n",
              "          const dataTable =\n",
              "            await google.colab.kernel.invokeFunction('convertToInteractive',\n",
              "                                                     [key], {});\n",
              "          if (!dataTable) return;\n",
              "\n",
              "          const docLinkHtml = 'Like what you see? Visit the ' +\n",
              "            '<a target=\"_blank\" href=https://colab.research.google.com/notebooks/data_table.ipynb>data table notebook</a>'\n",
              "            + ' to learn more about interactive tables.';\n",
              "          element.innerHTML = '';\n",
              "          dataTable['output_type'] = 'display_data';\n",
              "          await google.colab.output.renderOutput(dataTable, element);\n",
              "          const docLink = document.createElement('div');\n",
              "          docLink.innerHTML = docLinkHtml;\n",
              "          element.appendChild(docLink);\n",
              "        }\n",
              "      </script>\n",
              "    </div>\n",
              "  </div>\n",
              "  "
            ],
            "text/plain": [
              "   Present_Tmax  Present_Tmin  LDAPS_RHmin  ...  LDAPS_PPT3  LDAPS_PPT4      lat\n",
              "0          28.7          21.4    58.255688  ...         0.0         0.0  37.6046\n",
              "1          31.9          21.6    52.263397  ...         0.0         0.0  37.6046\n",
              "2          31.6          23.3    48.690479  ...         0.0         0.0  37.5776\n",
              "3          32.0          23.4    58.239788  ...         0.0         0.0  37.6450\n",
              "4          31.4          21.9    56.174095  ...         0.0         0.0  37.5507\n",
              "\n",
              "[5 rows x 17 columns]"
            ]
          },
          "metadata": {},
          "execution_count": 32
        }
      ]
    },
    {
      "cell_type": "code",
      "source": [
        "t.head()"
      ],
      "metadata": {
        "colab": {
          "base_uri": "https://localhost:8080/"
        },
        "id": "AKWHMgkIDPbP",
        "outputId": "ea4715d1-a5c1-449f-b839-88afc821e275"
      },
      "execution_count": null,
      "outputs": [
        {
          "output_type": "execute_result",
          "data": {
            "text/plain": [
              "0    29.1\n",
              "1    30.5\n",
              "2    31.1\n",
              "3    31.7\n",
              "4    31.2\n",
              "Name: Next_Tmax, dtype: float64"
            ]
          },
          "metadata": {},
          "execution_count": 33
        }
      ]
    },
    {
      "cell_type": "code",
      "source": [
        "X_norm = Normalize(X) # Normalizing train data"
      ],
      "metadata": {
        "id": "ibqTWBWyDPWz"
      },
      "execution_count": null,
      "outputs": []
    },
    {
      "cell_type": "code",
      "source": [
        "# 80:20 split for training and validation\n",
        "\n",
        "train_samples = int(0.8*X_norm.shape[0])\n",
        "val_samples = X_norm.shape[0] - train_samples\n",
        "\n",
        "X_train = X_norm.iloc[:train_samples, :]\n",
        "t_train = t.iloc[:train_samples]\n",
        "\n",
        "X_val = X_norm.iloc[:val_samples, :]\n",
        "t_val = t.iloc[:val_samples]\n"
      ],
      "metadata": {
        "id": "Yszk6XmeDPR5"
      },
      "execution_count": null,
      "outputs": []
    },
    {
      "cell_type": "code",
      "source": [
        "print(X_train.shape)\n",
        "print(X_val.shape)"
      ],
      "metadata": {
        "colab": {
          "base_uri": "https://localhost:8080/"
        },
        "id": "6Bkb-icdDPM8",
        "outputId": "119478f3-66ef-4ac3-efdd-27e45df93580"
      },
      "execution_count": null,
      "outputs": [
        {
          "output_type": "stream",
          "name": "stdout",
          "text": [
            "(4865, 17)\n",
            "(1217, 17)\n"
          ]
        }
      ]
    },
    {
      "cell_type": "code",
      "source": [
        "inv_lamdas = np.linspace(0.01, 20, num = 100) # Range of lamde values\n",
        "metric_outputs = pd.DataFrame(np.zeros([inv_lamdas.size, 3]), index = 1/inv_lamdas, columns = ['train_loss', 'val_loss', 'val_NRMSE'])\n",
        "weights = pd.DataFrame(np.zeros([inv_lamdas.size, X_train.shape[1]+1]), index = 1/inv_lamdas)\n",
        "\n",
        "for lamda in 1/inv_lamdas:\n",
        "  w = np.random.randn(X_train.shape[1]+1)\n",
        "  weights.loc[lamda, :], metric_outputs.loc[lamda, 'train_loss'], metric_outputs.loc[lamda, 'val_loss'], metric_outputs.loc[lamda, 'val_NRMSE'] = Gradient_Descent(X_train, X_val, t_train, t_val, w, lamda, 1000, 1e-10, 1e-5, L2_Loss, L2_Gradient)"
      ],
      "metadata": {
        "id": "0-GUx2_aDPF-"
      },
      "execution_count": null,
      "outputs": []
    },
    {
      "cell_type": "code",
      "source": [
        "metric_outputs.loc[:, 'val_NRMSE']"
      ],
      "metadata": {
        "colab": {
          "base_uri": "https://localhost:8080/",
          "height": 423
        },
        "id": "f5dx5gg7DO6n",
        "outputId": "8c2025e1-fe08-4aee-c71a-0aa4747db2d9"
      },
      "execution_count": null,
      "outputs": [
        {
          "output_type": "execute_result",
          "data": {
            "text/html": [
              "\n",
              "  <div id=\"df-99bdf154-099d-46c7-84ac-eab2bf9ebf3d\">\n",
              "    <div class=\"colab-df-container\">\n",
              "      <div>\n",
              "<style scoped>\n",
              "    .dataframe tbody tr th:only-of-type {\n",
              "        vertical-align: middle;\n",
              "    }\n",
              "\n",
              "    .dataframe tbody tr th {\n",
              "        vertical-align: top;\n",
              "    }\n",
              "\n",
              "    .dataframe thead th {\n",
              "        text-align: right;\n",
              "    }\n",
              "</style>\n",
              "<table border=\"1\" class=\"dataframe\">\n",
              "  <thead>\n",
              "    <tr style=\"text-align: right;\">\n",
              "      <th></th>\n",
              "      <th>train_loss</th>\n",
              "      <th>val_loss</th>\n",
              "      <th>val_NRMSE</th>\n",
              "    </tr>\n",
              "  </thead>\n",
              "  <tbody>\n",
              "    <tr>\n",
              "      <th>100.000000</th>\n",
              "      <td>1324.644342</td>\n",
              "      <td>1225.626859</td>\n",
              "      <td>10.445306</td>\n",
              "    </tr>\n",
              "    <tr>\n",
              "      <th>4.718780</th>\n",
              "      <td>867.714624</td>\n",
              "      <td>939.571175</td>\n",
              "      <td>11.187462</td>\n",
              "    </tr>\n",
              "    <tr>\n",
              "      <th>2.416402</th>\n",
              "      <td>933.181692</td>\n",
              "      <td>950.333054</td>\n",
              "      <td>11.317876</td>\n",
              "    </tr>\n",
              "    <tr>\n",
              "      <th>1.624016</th>\n",
              "      <td>894.533978</td>\n",
              "      <td>884.757777</td>\n",
              "      <td>10.943867</td>\n",
              "    </tr>\n",
              "    <tr>\n",
              "      <th>1.222977</th>\n",
              "      <td>887.658376</td>\n",
              "      <td>971.725805</td>\n",
              "      <td>11.480289</td>\n",
              "    </tr>\n",
              "    <tr>\n",
              "      <th>...</th>\n",
              "      <td>...</td>\n",
              "      <td>...</td>\n",
              "      <td>...</td>\n",
              "    </tr>\n",
              "    <tr>\n",
              "      <th>0.052104</th>\n",
              "      <td>926.945807</td>\n",
              "      <td>940.225460</td>\n",
              "      <td>11.316830</td>\n",
              "    </tr>\n",
              "    <tr>\n",
              "      <th>0.051562</th>\n",
              "      <td>957.484975</td>\n",
              "      <td>880.393935</td>\n",
              "      <td>10.950841</td>\n",
              "    </tr>\n",
              "    <tr>\n",
              "      <th>0.051030</th>\n",
              "      <td>1001.884066</td>\n",
              "      <td>980.141438</td>\n",
              "      <td>11.554552</td>\n",
              "    </tr>\n",
              "    <tr>\n",
              "      <th>0.050510</th>\n",
              "      <td>851.007575</td>\n",
              "      <td>972.954463</td>\n",
              "      <td>11.512236</td>\n",
              "    </tr>\n",
              "    <tr>\n",
              "      <th>0.050000</th>\n",
              "      <td>830.146684</td>\n",
              "      <td>873.961380</td>\n",
              "      <td>10.910438</td>\n",
              "    </tr>\n",
              "  </tbody>\n",
              "</table>\n",
              "<p>100 rows × 3 columns</p>\n",
              "</div>\n",
              "      <button class=\"colab-df-convert\" onclick=\"convertToInteractive('df-99bdf154-099d-46c7-84ac-eab2bf9ebf3d')\"\n",
              "              title=\"Convert this dataframe to an interactive table.\"\n",
              "              style=\"display:none;\">\n",
              "        \n",
              "  <svg xmlns=\"http://www.w3.org/2000/svg\" height=\"24px\"viewBox=\"0 0 24 24\"\n",
              "       width=\"24px\">\n",
              "    <path d=\"M0 0h24v24H0V0z\" fill=\"none\"/>\n",
              "    <path d=\"M18.56 5.44l.94 2.06.94-2.06 2.06-.94-2.06-.94-.94-2.06-.94 2.06-2.06.94zm-11 1L8.5 8.5l.94-2.06 2.06-.94-2.06-.94L8.5 2.5l-.94 2.06-2.06.94zm10 10l.94 2.06.94-2.06 2.06-.94-2.06-.94-.94-2.06-.94 2.06-2.06.94z\"/><path d=\"M17.41 7.96l-1.37-1.37c-.4-.4-.92-.59-1.43-.59-.52 0-1.04.2-1.43.59L10.3 9.45l-7.72 7.72c-.78.78-.78 2.05 0 2.83L4 21.41c.39.39.9.59 1.41.59.51 0 1.02-.2 1.41-.59l7.78-7.78 2.81-2.81c.8-.78.8-2.07 0-2.86zM5.41 20L4 18.59l7.72-7.72 1.47 1.35L5.41 20z\"/>\n",
              "  </svg>\n",
              "      </button>\n",
              "      \n",
              "  <style>\n",
              "    .colab-df-container {\n",
              "      display:flex;\n",
              "      flex-wrap:wrap;\n",
              "      gap: 12px;\n",
              "    }\n",
              "\n",
              "    .colab-df-convert {\n",
              "      background-color: #E8F0FE;\n",
              "      border: none;\n",
              "      border-radius: 50%;\n",
              "      cursor: pointer;\n",
              "      display: none;\n",
              "      fill: #1967D2;\n",
              "      height: 32px;\n",
              "      padding: 0 0 0 0;\n",
              "      width: 32px;\n",
              "    }\n",
              "\n",
              "    .colab-df-convert:hover {\n",
              "      background-color: #E2EBFA;\n",
              "      box-shadow: 0px 1px 2px rgba(60, 64, 67, 0.3), 0px 1px 3px 1px rgba(60, 64, 67, 0.15);\n",
              "      fill: #174EA6;\n",
              "    }\n",
              "\n",
              "    [theme=dark] .colab-df-convert {\n",
              "      background-color: #3B4455;\n",
              "      fill: #D2E3FC;\n",
              "    }\n",
              "\n",
              "    [theme=dark] .colab-df-convert:hover {\n",
              "      background-color: #434B5C;\n",
              "      box-shadow: 0px 1px 3px 1px rgba(0, 0, 0, 0.15);\n",
              "      filter: drop-shadow(0px 1px 2px rgba(0, 0, 0, 0.3));\n",
              "      fill: #FFFFFF;\n",
              "    }\n",
              "  </style>\n",
              "\n",
              "      <script>\n",
              "        const buttonEl =\n",
              "          document.querySelector('#df-99bdf154-099d-46c7-84ac-eab2bf9ebf3d button.colab-df-convert');\n",
              "        buttonEl.style.display =\n",
              "          google.colab.kernel.accessAllowed ? 'block' : 'none';\n",
              "\n",
              "        async function convertToInteractive(key) {\n",
              "          const element = document.querySelector('#df-99bdf154-099d-46c7-84ac-eab2bf9ebf3d');\n",
              "          const dataTable =\n",
              "            await google.colab.kernel.invokeFunction('convertToInteractive',\n",
              "                                                     [key], {});\n",
              "          if (!dataTable) return;\n",
              "\n",
              "          const docLinkHtml = 'Like what you see? Visit the ' +\n",
              "            '<a target=\"_blank\" href=https://colab.research.google.com/notebooks/data_table.ipynb>data table notebook</a>'\n",
              "            + ' to learn more about interactive tables.';\n",
              "          element.innerHTML = '';\n",
              "          dataTable['output_type'] = 'display_data';\n",
              "          await google.colab.output.renderOutput(dataTable, element);\n",
              "          const docLink = document.createElement('div');\n",
              "          docLink.innerHTML = docLinkHtml;\n",
              "          element.appendChild(docLink);\n",
              "        }\n",
              "      </script>\n",
              "    </div>\n",
              "  </div>\n",
              "  "
            ],
            "text/plain": [
              "             train_loss     val_loss  val_NRMSE\n",
              "100.000000  1324.644342  1225.626859  10.445306\n",
              "4.718780     867.714624   939.571175  11.187462\n",
              "2.416402     933.181692   950.333054  11.317876\n",
              "1.624016     894.533978   884.757777  10.943867\n",
              "1.222977     887.658376   971.725805  11.480289\n",
              "...                 ...          ...        ...\n",
              "0.052104     926.945807   940.225460  11.316830\n",
              "0.051562     957.484975   880.393935  10.950841\n",
              "0.051030    1001.884066   980.141438  11.554552\n",
              "0.050510     851.007575   972.954463  11.512236\n",
              "0.050000     830.146684   873.961380  10.910438\n",
              "\n",
              "[100 rows x 3 columns]"
            ]
          },
          "metadata": {},
          "execution_count": 38
        }
      ]
    },
    {
      "cell_type": "code",
      "source": [
        "weights.head()"
      ],
      "metadata": {
        "colab": {
          "base_uri": "https://localhost:8080/",
          "height": 206
        },
        "id": "jCfJy6PEDOwl",
        "outputId": "f694ce7b-08ba-4568-9950-260d0974f144"
      },
      "execution_count": null,
      "outputs": [
        {
          "output_type": "execute_result",
          "data": {
            "text/html": [
              "\n",
              "  <div id=\"df-68239fd5-d2e4-45c4-a5e6-931caa77a605\">\n",
              "    <div class=\"colab-df-container\">\n",
              "      <div>\n",
              "<style scoped>\n",
              "    .dataframe tbody tr th:only-of-type {\n",
              "        vertical-align: middle;\n",
              "    }\n",
              "\n",
              "    .dataframe tbody tr th {\n",
              "        vertical-align: top;\n",
              "    }\n",
              "\n",
              "    .dataframe thead th {\n",
              "        text-align: right;\n",
              "    }\n",
              "</style>\n",
              "<table border=\"1\" class=\"dataframe\">\n",
              "  <thead>\n",
              "    <tr style=\"text-align: right;\">\n",
              "      <th></th>\n",
              "      <th>0</th>\n",
              "      <th>1</th>\n",
              "      <th>2</th>\n",
              "      <th>3</th>\n",
              "      <th>4</th>\n",
              "      <th>5</th>\n",
              "      <th>6</th>\n",
              "      <th>7</th>\n",
              "      <th>8</th>\n",
              "      <th>9</th>\n",
              "      <th>10</th>\n",
              "      <th>11</th>\n",
              "      <th>12</th>\n",
              "      <th>13</th>\n",
              "      <th>14</th>\n",
              "      <th>15</th>\n",
              "      <th>16</th>\n",
              "      <th>17</th>\n",
              "    </tr>\n",
              "  </thead>\n",
              "  <tbody>\n",
              "    <tr>\n",
              "      <th>100.000000</th>\n",
              "      <td>-0.905993</td>\n",
              "      <td>0.338227</td>\n",
              "      <td>2.162746</td>\n",
              "      <td>-1.076763</td>\n",
              "      <td>0.812936</td>\n",
              "      <td>0.333275</td>\n",
              "      <td>0.277707</td>\n",
              "      <td>-0.030607</td>\n",
              "      <td>-0.503959</td>\n",
              "      <td>-0.443834</td>\n",
              "      <td>-0.414552</td>\n",
              "      <td>0.848268</td>\n",
              "      <td>1.266977</td>\n",
              "      <td>0.002496</td>\n",
              "      <td>-0.571451</td>\n",
              "      <td>2.167428</td>\n",
              "      <td>-1.566303</td>\n",
              "      <td>0.418762</td>\n",
              "    </tr>\n",
              "    <tr>\n",
              "      <th>4.718780</th>\n",
              "      <td>-1.315608</td>\n",
              "      <td>0.316189</td>\n",
              "      <td>-0.639349</td>\n",
              "      <td>0.218192</td>\n",
              "      <td>0.775548</td>\n",
              "      <td>-0.602904</td>\n",
              "      <td>-2.037079</td>\n",
              "      <td>0.084872</td>\n",
              "      <td>0.607575</td>\n",
              "      <td>-0.408755</td>\n",
              "      <td>-2.129764</td>\n",
              "      <td>-0.472939</td>\n",
              "      <td>0.752736</td>\n",
              "      <td>-1.603754</td>\n",
              "      <td>-1.725414</td>\n",
              "      <td>0.243950</td>\n",
              "      <td>-0.886266</td>\n",
              "      <td>1.180423</td>\n",
              "    </tr>\n",
              "    <tr>\n",
              "      <th>2.416402</th>\n",
              "      <td>2.201308</td>\n",
              "      <td>-0.166328</td>\n",
              "      <td>-0.245057</td>\n",
              "      <td>-0.558872</td>\n",
              "      <td>0.614571</td>\n",
              "      <td>-0.778526</td>\n",
              "      <td>1.090037</td>\n",
              "      <td>-0.561041</td>\n",
              "      <td>0.804644</td>\n",
              "      <td>1.390020</td>\n",
              "      <td>0.718116</td>\n",
              "      <td>0.998195</td>\n",
              "      <td>-1.524562</td>\n",
              "      <td>-1.018596</td>\n",
              "      <td>-1.534589</td>\n",
              "      <td>-0.137154</td>\n",
              "      <td>0.260696</td>\n",
              "      <td>0.132375</td>\n",
              "    </tr>\n",
              "    <tr>\n",
              "      <th>1.624016</th>\n",
              "      <td>1.033754</td>\n",
              "      <td>-0.321182</td>\n",
              "      <td>0.116309</td>\n",
              "      <td>-0.316493</td>\n",
              "      <td>0.828210</td>\n",
              "      <td>-0.316061</td>\n",
              "      <td>0.432855</td>\n",
              "      <td>0.099538</td>\n",
              "      <td>1.303887</td>\n",
              "      <td>-1.156323</td>\n",
              "      <td>-2.404143</td>\n",
              "      <td>0.128420</td>\n",
              "      <td>0.138900</td>\n",
              "      <td>0.760084</td>\n",
              "      <td>0.681483</td>\n",
              "      <td>-0.117086</td>\n",
              "      <td>-0.252166</td>\n",
              "      <td>0.433184</td>\n",
              "    </tr>\n",
              "    <tr>\n",
              "      <th>1.222977</th>\n",
              "      <td>0.047276</td>\n",
              "      <td>-1.144002</td>\n",
              "      <td>-0.684167</td>\n",
              "      <td>-0.157343</td>\n",
              "      <td>-0.241633</td>\n",
              "      <td>-1.145293</td>\n",
              "      <td>0.150112</td>\n",
              "      <td>-0.557903</td>\n",
              "      <td>-1.762898</td>\n",
              "      <td>2.049206</td>\n",
              "      <td>-0.595869</td>\n",
              "      <td>0.964707</td>\n",
              "      <td>0.317704</td>\n",
              "      <td>0.223638</td>\n",
              "      <td>-0.283797</td>\n",
              "      <td>-0.616388</td>\n",
              "      <td>-0.052100</td>\n",
              "      <td>0.269619</td>\n",
              "    </tr>\n",
              "  </tbody>\n",
              "</table>\n",
              "</div>\n",
              "      <button class=\"colab-df-convert\" onclick=\"convertToInteractive('df-68239fd5-d2e4-45c4-a5e6-931caa77a605')\"\n",
              "              title=\"Convert this dataframe to an interactive table.\"\n",
              "              style=\"display:none;\">\n",
              "        \n",
              "  <svg xmlns=\"http://www.w3.org/2000/svg\" height=\"24px\"viewBox=\"0 0 24 24\"\n",
              "       width=\"24px\">\n",
              "    <path d=\"M0 0h24v24H0V0z\" fill=\"none\"/>\n",
              "    <path d=\"M18.56 5.44l.94 2.06.94-2.06 2.06-.94-2.06-.94-.94-2.06-.94 2.06-2.06.94zm-11 1L8.5 8.5l.94-2.06 2.06-.94-2.06-.94L8.5 2.5l-.94 2.06-2.06.94zm10 10l.94 2.06.94-2.06 2.06-.94-2.06-.94-.94-2.06-.94 2.06-2.06.94z\"/><path d=\"M17.41 7.96l-1.37-1.37c-.4-.4-.92-.59-1.43-.59-.52 0-1.04.2-1.43.59L10.3 9.45l-7.72 7.72c-.78.78-.78 2.05 0 2.83L4 21.41c.39.39.9.59 1.41.59.51 0 1.02-.2 1.41-.59l7.78-7.78 2.81-2.81c.8-.78.8-2.07 0-2.86zM5.41 20L4 18.59l7.72-7.72 1.47 1.35L5.41 20z\"/>\n",
              "  </svg>\n",
              "      </button>\n",
              "      \n",
              "  <style>\n",
              "    .colab-df-container {\n",
              "      display:flex;\n",
              "      flex-wrap:wrap;\n",
              "      gap: 12px;\n",
              "    }\n",
              "\n",
              "    .colab-df-convert {\n",
              "      background-color: #E8F0FE;\n",
              "      border: none;\n",
              "      border-radius: 50%;\n",
              "      cursor: pointer;\n",
              "      display: none;\n",
              "      fill: #1967D2;\n",
              "      height: 32px;\n",
              "      padding: 0 0 0 0;\n",
              "      width: 32px;\n",
              "    }\n",
              "\n",
              "    .colab-df-convert:hover {\n",
              "      background-color: #E2EBFA;\n",
              "      box-shadow: 0px 1px 2px rgba(60, 64, 67, 0.3), 0px 1px 3px 1px rgba(60, 64, 67, 0.15);\n",
              "      fill: #174EA6;\n",
              "    }\n",
              "\n",
              "    [theme=dark] .colab-df-convert {\n",
              "      background-color: #3B4455;\n",
              "      fill: #D2E3FC;\n",
              "    }\n",
              "\n",
              "    [theme=dark] .colab-df-convert:hover {\n",
              "      background-color: #434B5C;\n",
              "      box-shadow: 0px 1px 3px 1px rgba(0, 0, 0, 0.15);\n",
              "      filter: drop-shadow(0px 1px 2px rgba(0, 0, 0, 0.3));\n",
              "      fill: #FFFFFF;\n",
              "    }\n",
              "  </style>\n",
              "\n",
              "      <script>\n",
              "        const buttonEl =\n",
              "          document.querySelector('#df-68239fd5-d2e4-45c4-a5e6-931caa77a605 button.colab-df-convert');\n",
              "        buttonEl.style.display =\n",
              "          google.colab.kernel.accessAllowed ? 'block' : 'none';\n",
              "\n",
              "        async function convertToInteractive(key) {\n",
              "          const element = document.querySelector('#df-68239fd5-d2e4-45c4-a5e6-931caa77a605');\n",
              "          const dataTable =\n",
              "            await google.colab.kernel.invokeFunction('convertToInteractive',\n",
              "                                                     [key], {});\n",
              "          if (!dataTable) return;\n",
              "\n",
              "          const docLinkHtml = 'Like what you see? Visit the ' +\n",
              "            '<a target=\"_blank\" href=https://colab.research.google.com/notebooks/data_table.ipynb>data table notebook</a>'\n",
              "            + ' to learn more about interactive tables.';\n",
              "          element.innerHTML = '';\n",
              "          dataTable['output_type'] = 'display_data';\n",
              "          await google.colab.output.renderOutput(dataTable, element);\n",
              "          const docLink = document.createElement('div');\n",
              "          docLink.innerHTML = docLinkHtml;\n",
              "          element.appendChild(docLink);\n",
              "        }\n",
              "      </script>\n",
              "    </div>\n",
              "  </div>\n",
              "  "
            ],
            "text/plain": [
              "                  0         1         2   ...        15        16        17\n",
              "100.000000 -0.905993  0.338227  2.162746  ...  2.167428 -1.566303  0.418762\n",
              "4.718780   -1.315608  0.316189 -0.639349  ...  0.243950 -0.886266  1.180423\n",
              "2.416402    2.201308 -0.166328 -0.245057  ... -0.137154  0.260696  0.132375\n",
              "1.624016    1.033754 -0.321182  0.116309  ... -0.117086 -0.252166  0.433184\n",
              "1.222977    0.047276 -1.144002 -0.684167  ... -0.616388 -0.052100  0.269619\n",
              "\n",
              "[5 rows x 18 columns]"
            ]
          },
          "metadata": {},
          "execution_count": 39
        }
      ]
    },
    {
      "cell_type": "code",
      "source": [
        "plt.plot(inv_lamdas, metric_outputs.loc[:, 'val_NRMSE'])"
      ],
      "metadata": {
        "colab": {
          "base_uri": "https://localhost:8080/",
          "height": 282
        },
        "id": "ffbilWm3VWtp",
        "outputId": "ee93e18e-781f-483d-97f3-78718439bee2"
      },
      "execution_count": null,
      "outputs": [
        {
          "output_type": "execute_result",
          "data": {
            "text/plain": [
              "[<matplotlib.lines.Line2D at 0x7f9deb07cc50>]"
            ]
          },
          "metadata": {},
          "execution_count": 40
        },
        {
          "output_type": "display_data",
          "data": {
            "image/png": "[encoded data removed]",
            "text/plain": [
              "<Figure size 432x288 with 1 Axes>"
            ]
          },
          "metadata": {
            "needs_background": "light"
          }
        }
      ]
    },
    {
      "cell_type": "code",
      "source": [
        "lamda_min = metric_outputs.loc[:, 'val_NRMSE'].idxmin()\n",
        "weights.loc[lamda_min, :]"
      ],
      "metadata": {
        "id": "TavEVpgaDOiP",
        "colab": {
          "base_uri": "https://localhost:8080/"
        },
        "outputId": "6baf58d3-b87d-4274-88bc-fb86afc417dd"
      },
      "execution_count": 43,
      "outputs": [
        {
          "output_type": "execute_result",
          "data": {
            "text/plain": [
              "0     0.104821\n",
              "1     0.408500\n",
              "2     0.257630\n",
              "3     0.447388\n",
              "4     0.140100\n",
              "5    -1.014221\n",
              "6     0.969719\n",
              "7    -1.961773\n",
              "8    -1.159286\n",
              "9     1.653331\n",
              "10    0.793001\n",
              "11   -2.016711\n",
              "12    0.927363\n",
              "13    0.945268\n",
              "14   -0.713329\n",
              "15    0.836430\n",
              "16    0.943137\n",
              "17    2.936861\n",
              "Name: 0.11242973141786385, dtype: float64"
            ]
          },
          "metadata": {},
          "execution_count": 43
        }
      ]
    },
    {
      "cell_type": "markdown",
      "metadata": {
        "deletable": false,
        "editable": false,
        "nbgrader": {
          "cell_type": "markdown",
          "checksum": "de7f27538e4ad9db84b046b2752843f1",
          "grade": false,
          "grade_id": "cell-8a98f665f9567cec",
          "locked": true,
          "schema_version": 3,
          "solution": false,
          "task": false
        },
        "id": "O-I-RvdsAKgJ"
      },
      "source": [
        "#**... Part 2 ends.**\n",
        "\n",
        "1. Write the name or roll no.s of friends from outside your group with whom you discussed the assignment here (no penalty for mere discussion without copying code): \n",
        "2. Write the links of sources on the internet referred here (no penalty for mere consultation without copying code): "
      ]
    }
  ],
  "metadata": {
    "kernelspec": {
      "display_name": "Python 3",
      "language": "python",
      "name": "python3"
    },
    "language_info": {
      "codemirror_mode": {
        "name": "ipython",
        "version": 3
      },
      "file_extension": ".py",
      "mimetype": "text/x-python",
      "name": "python",
      "nbconvert_exporter": "python",
      "pygments_lexer": "ipython3",
      "version": "3.8.3"
    },
    "colab": {
      "name": "Assignment_1_Instructions_Template_v3.ipynb",
      "provenance": [],
      "collapsed_sections": [],
      "include_colab_link": true
    }
  },
  "nbformat": 4,
  "nbformat_minor": 0
}