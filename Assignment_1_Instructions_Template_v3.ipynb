{
  "cells": [
    {
      "cell_type": "markdown",
      "metadata": {
        "colab_type": "text",
        "id": "view-in-github"
      },
      "source": [
        "<a href=\"https://colab.research.google.com/github/KartikIITB/EE769-Assignments/blob/main/Assignment_1_Instructions_Template_v3.ipynb\" target=\"_parent\"><img src=\"https://colab.research.google.com/assets/colab-badge.svg\" alt=\"Open In Colab\"/></a>"
      ]
    },
    {
      "cell_type": "markdown",
      "metadata": {
        "deletable": false,
        "editable": false,
        "id": "-at2ZiscAKfy",
        "nbgrader": {
          "cell_type": "markdown",
          "checksum": "2a747369b91572b4ada4e32643e31bca",
          "grade": false,
          "grade_id": "Title",
          "locked": true,
          "schema_version": 3,
          "solution": false,
          "task": false
        }
      },
      "source": [
        "#**EE769 Introduction to Machine Learning**\n",
        "\n",
        "#Assignment 1: Gradient Descent, Linear Regression, and Regularization\n",
        "\n",
        "\n",
        "**Template and Instructions**\n",
        "\n",
        "\n",
        "\n",
        "1. Up to two people can team up, but only one should submit, and both should understand the entire code.\n",
        "2. Every line of code should end in a comment explaining the line\n",
        "3. It is recommended to solve the assignment in Google Colab.\n",
        "Write your roll no.s separated by commas here: \n",
        "4. Write your names here: \n",
        "5. There are two parts to the assignment. In the Part 1, the code format has to be strictly followed to enable auto-grading. In the second part, you can be creative.\n",
        "6. **You can discuss with other groups or refer to the internet without being penalized, but you cannot copy their code and modify it. Write every line of code and comment on your own.**"
      ]
    },
    {
      "cell_type": "markdown",
      "metadata": {
        "deletable": false,
        "editable": false,
        "id": "Znjd8_dtAKf2",
        "nbgrader": {
          "cell_type": "markdown",
          "checksum": "cae69541658b406d495bcffe0b7c0932",
          "grade": false,
          "grade_id": "cell-aa1aa8c8181f8810",
          "locked": true,
          "schema_version": 3,
          "solution": false,
          "task": false
        }
      },
      "source": [
        "#**Part 1 begins ...**\n",
        "**Instructions to be strictly followed:**\n",
        "\n",
        "1. Do not add any code cells or markdown cells until the end of this part. Especially, do not change the blocks that say \"TEST CASES, DO NOT CHANGE\"\n",
        "2. In all other cells only add code where it says \"CODE HERE\".\n",
        "3. If you encounter any raise NotImplementedError() calls you may comment them out.\n",
        "\n",
        "We cannot ensure correct grading if you change anything else, and you may be penalised for not following these instructions."
      ]
    },
    {
      "cell_type": "markdown",
      "metadata": {
        "deletable": false,
        "editable": false,
        "id": "7ISpvHBVAKf3",
        "nbgrader": {
          "cell_type": "markdown",
          "checksum": "0ecbf8e96219ab11b7716eaae61cb7f9",
          "grade": false,
          "grade_id": "cell-1e940101f37c7af2",
          "locked": true,
          "schema_version": 3,
          "solution": false,
          "task": false
        }
      },
      "source": [
        "## Import Statements"
      ]
    },
    {
      "cell_type": "code",
      "execution_count": 44,
      "metadata": {
        "deletable": false,
        "editable": false,
        "id": "AMDlhCWFAKf4",
        "nbgrader": {
          "cell_type": "code",
          "checksum": "fe70877a859ee0a10e9d591778022f8a",
          "grade": false,
          "grade_id": "Import_Statements",
          "locked": true,
          "schema_version": 3,
          "solution": false,
          "task": false
        }
      },
      "outputs": [],
      "source": [
        "import numpy as np\n",
        "import pandas as pd\n",
        "from matplotlib import pyplot as plt\n"
      ]
    },
    {
      "cell_type": "markdown",
      "metadata": {
        "deletable": false,
        "editable": false,
        "id": "FKMFxJPdAKf5",
        "nbgrader": {
          "cell_type": "markdown",
          "checksum": "e36a214573fc40f26b45e72215d61375",
          "grade": false,
          "grade_id": "Normalize_Title",
          "locked": true,
          "schema_version": 3,
          "solution": false,
          "task": false
        }
      },
      "source": [
        "## Normalize function \n",
        "\n"
      ]
    },
    {
      "cell_type": "code",
      "execution_count": 45,
      "metadata": {
        "deletable": false,
        "id": "vbUsVtqjAKf6",
        "nbgrader": {
          "cell_type": "code",
          "checksum": "42293dda356d746ac19e9b6d81106261",
          "grade": false,
          "grade_id": "Normalize_Function",
          "locked": false,
          "schema_version": 3,
          "solution": true,
          "task": false
        }
      },
      "outputs": [],
      "source": [
        "def Normalize(X): # Output should be a normalized data matrix of the same dimension\n",
        "    '''\n",
        "    Normalize all columns of X using mean and standard deviation\n",
        "    '''\n",
        "    # YOUR CODE HERE\n",
        "    X_norm = (X - X.mean(axis = 0))/X.std(axis = 0)\n",
        "\n",
        "    return X_norm\n",
        "    \n",
        "    raise NotImplementedError()"
      ]
    },
    {
      "cell_type": "code",
      "execution_count": 46,
      "metadata": {
        "deletable": false,
        "editable": false,
        "id": "inYJP73BAKf6",
        "nbgrader": {
          "cell_type": "code",
          "checksum": "7797dd606a68f028c945acd08850d108",
          "grade": true,
          "grade_id": "Normalize_Test",
          "locked": true,
          "points": 5,
          "schema_version": 3,
          "solution": false,
          "task": false
        }
      },
      "outputs": [],
      "source": [
        "'''\n",
        "TEST CASES, DO NOT CHANGE\n",
        "'''\n",
        "''' case 1 - 1 dimensional array'''\n",
        "#X=np.array([[1,2,3],[3,4,5],[7,8,9]])\n",
        "X1=np.array([1,2,3])\n",
        "np.testing.assert_array_almost_equal(Normalize(X1),np.array([-1.224,  0.      ,  1.224]),decimal=3)\n",
        "''' case 2 - 2 dimensional array'''\n",
        "X2=np.array([[4,7,6],[3,8,9],[5,11,10]])\n",
        "np.testing.assert_array_almost_equal(Normalize(X2),np.array([[ 0.  , -0.980581, -1.372813],[-1.224745, -0.392232,  0.392232],[ 1.224745,  1.372813,  0.980581]]))\n",
        "''' case 3 - 1 dimensional array with float'''\n",
        "X3=np.array([5.5,6.7,3.2,6.7])\n",
        "np.testing.assert_array_almost_equal(Normalize(X3),np.array([-0.017,  0.822, -1.627,  0.822]),decimal=3)"
      ]
    },
    {
      "cell_type": "markdown",
      "metadata": {
        "deletable": false,
        "editable": false,
        "id": "au9IUJRVAKf7",
        "nbgrader": {
          "cell_type": "markdown",
          "checksum": "63ee774a26a0438a0b2f5ec298eac80e",
          "grade": false,
          "grade_id": "cell-66ab98f84d3c58fa",
          "locked": true,
          "schema_version": 3,
          "solution": false,
          "task": false
        }
      },
      "source": [
        "## Prediction Function\n",
        "\n",
        "Given X and w, compute the predicted output. Do not forget to add 1's in X"
      ]
    },
    {
      "cell_type": "code",
      "execution_count": 47,
      "metadata": {
        "deletable": false,
        "id": "rRXtbybzAKf8",
        "nbgrader": {
          "cell_type": "code",
          "checksum": "5976e32bd96bc4bdc2b2efd61e98441c",
          "grade": false,
          "grade_id": "Prediction",
          "locked": false,
          "schema_version": 3,
          "solution": true,
          "task": false
        }
      },
      "outputs": [],
      "source": [
        "def Prediction (X, w): # Output should be a prediction vector y\n",
        "    '''\n",
        "    Compute Prediction given an input datamatrix X and weight vecor w. Output y = [X 1]w where 1 is a vector of all 1s \n",
        "    '''\n",
        "    # YOUR CODE HERE\n",
        "    X_aug = np.c_[X, np.ones(X.shape[0])] # X augumented to [X 1]\n",
        "    y = X_aug.dot(w) # y = [X 1]w (Matrix multiplication) is the prdicted output\n",
        "\n",
        "    return y\n",
        "    raise NotImplementedError()\n"
      ]
    },
    {
      "cell_type": "code",
      "execution_count": 48,
      "metadata": {
        "deletable": false,
        "editable": false,
        "id": "KR0cz5GnAKf9",
        "nbgrader": {
          "cell_type": "code",
          "checksum": "741f088432fb2ac3c49d3c9711d5c9c5",
          "grade": true,
          "grade_id": "PredictionTest",
          "locked": true,
          "points": 5,
          "schema_version": 3,
          "solution": false,
          "task": false
        }
      },
      "outputs": [],
      "source": [
        "'''\n",
        "TEST CASES, DO NOT CHANGE\n",
        "'''\n",
        "''' case 1 - Known input output matrix and weights 1'''\n",
        "X1 = np.array([[3,2],[1,1]])\n",
        "w1 = np.array([2,1,1]) \n",
        "np.testing.assert_array_equal(Prediction(X1,w1),np.array([9,4]))\n"
      ]
    },
    {
      "cell_type": "markdown",
      "metadata": {
        "deletable": false,
        "editable": false,
        "id": "5N2YHNoMAKf9",
        "nbgrader": {
          "cell_type": "markdown",
          "checksum": "227f6e0da2f8c6d631599c44041e3b65",
          "grade": false,
          "grade_id": "cell-6fda2832d5967072",
          "locked": true,
          "schema_version": 3,
          "solution": false,
          "task": false
        }
      },
      "source": [
        "## Loss Functions\n",
        "\n",
        "Code the four  loss functions:\n",
        "\n",
        "1. MSE loss is only for the error\n",
        "2. MAE loss is only for the error\n",
        "3. L2 loss is for MSE and L2 regularization, and can call MSE loss\n",
        "4. L1 loss is for MSE and L1 regularization, and can call MSE loss"
      ]
    },
    {
      "cell_type": "code",
      "execution_count": 49,
      "metadata": {
        "deletable": false,
        "id": "jG3-i1PbAKf-",
        "nbgrader": {
          "cell_type": "code",
          "checksum": "2c3e17b8559f0dfdfecdc8d242aba152",
          "grade": false,
          "grade_id": "MSE_Loss",
          "locked": false,
          "schema_version": 3,
          "solution": true,
          "task": false
        }
      },
      "outputs": [],
      "source": [
        "def MSE_Loss (X, t, w, lamda =0): # Ouput should be a single number\n",
        "    '''\n",
        "    lamda=0 is a default argument to prevent errors if you pass lamda to a function that doesn't need it by mistake. \n",
        "    This allows us to call all loss functions with the same input format.\n",
        "    \n",
        "    You are encouraged read about default arguments by yourself online if you're not familiar.\n",
        "    '''\n",
        "    # YOUR CODE HERE\n",
        "    y = Prediction(X, w) \n",
        "    MSE = (t-y).dot(t-y)/(t.size) # Mean Square Error/Loss\n",
        "\n",
        "    return MSE\n",
        "    \n",
        "    raise NotImplementedError()"
      ]
    },
    {
      "cell_type": "code",
      "execution_count": 50,
      "metadata": {
        "deletable": false,
        "editable": false,
        "id": "t4qKzfzyAKf_",
        "nbgrader": {
          "cell_type": "code",
          "checksum": "923a1372a401b41d6ef6b0749a49ff66",
          "grade": true,
          "grade_id": "MSE_Loss_Test",
          "locked": true,
          "points": 2,
          "schema_version": 3,
          "solution": false,
          "task": false
        }
      },
      "outputs": [],
      "source": [
        "'''\n",
        "TEST CASES, DO NOT CHANGE\n",
        "'''\n",
        "''' case 1 '''\n",
        "X=np.array([[3,6,5],[4.5,6.6,6]])\n",
        "t=np.array([4,5.5])\n",
        "w=np.array([2,-1,0.5,1])\n",
        "np.testing.assert_almost_equal(MSE_Loss(X,t,w),0.53,decimal=3)\n"
      ]
    },
    {
      "cell_type": "code",
      "execution_count": 51,
      "metadata": {
        "deletable": false,
        "id": "nkp5jqo_AKgA",
        "nbgrader": {
          "cell_type": "code",
          "checksum": "b0b3b381c7a3ac5d7dfbb5df647c0d85",
          "grade": false,
          "grade_id": "MAE_Loss",
          "locked": false,
          "schema_version": 3,
          "solution": true,
          "task": false
        }
      },
      "outputs": [],
      "source": [
        "def MAE_Loss (X, t, w, lamda = 0): # Output should be a single number\n",
        "    # YOUR CODE HERE\n",
        "    y = Prediction(X, w)\n",
        "    MAE = np.sum(np.abs(t-y))/(t.size) # Mean Absolute Error/Loss\n",
        "\n",
        "    return MAE\n",
        "    \n",
        "    raise NotImplementedError()"
      ]
    },
    {
      "cell_type": "code",
      "execution_count": 52,
      "metadata": {
        "deletable": false,
        "editable": false,
        "id": "rlN0xvduAKgA",
        "nbgrader": {
          "cell_type": "code",
          "checksum": "f11d5fde7220893a9809f2954d18c5e5",
          "grade": true,
          "grade_id": "MAE_Loss_Test",
          "locked": true,
          "points": 2,
          "schema_version": 3,
          "solution": false,
          "task": false
        }
      },
      "outputs": [],
      "source": [
        "'''\n",
        "TEST CASES, DO NOT CHANGE\n",
        "'''\n",
        "''' case 1 '''\n",
        "X=np.array([[3,6,5],[4.5,6.6,6]])\n",
        "t=np.array([4,5.5])\n",
        "w=np.array([2,-1,0.5,1])\n",
        "np.testing.assert_almost_equal(MAE_Loss(X,t,w),0.700,decimal=3)\n"
      ]
    },
    {
      "cell_type": "code",
      "execution_count": 53,
      "metadata": {
        "deletable": false,
        "id": "D810GpzAAKgA",
        "nbgrader": {
          "cell_type": "code",
          "checksum": "a8309762ea56bb6b24bbbf4a19cb16bc",
          "grade": false,
          "grade_id": "L2_Loss",
          "locked": false,
          "schema_version": 3,
          "solution": true,
          "task": false
        }
      },
      "outputs": [],
      "source": [
        "def L2_Loss (X, t, w, lamda): # Output should be a single number based on L2-norm (with sqrt)\n",
        "    ''' Need to specify what inputs are'''\n",
        "    # YOUR CODE HERE\n",
        "    L2_norm_w = np.linalg.norm(w[:len(w)-1], ord = 2) # L2(w) = sqrt(<w,w>) (excluding the bias term)\n",
        "    MSE = MSE_Loss(X, t, w)\n",
        "\n",
        "    return MSE + lamda*L2_norm_w\n",
        "\n",
        "    raise NotImplementedError()"
      ]
    },
    {
      "cell_type": "code",
      "execution_count": 54,
      "metadata": {
        "deletable": false,
        "editable": false,
        "id": "tLH25nDUAKgB",
        "nbgrader": {
          "cell_type": "code",
          "checksum": "a5a409056f6797cdf8cbfab61b138c37",
          "grade": true,
          "grade_id": "L2_Loss_Test",
          "locked": true,
          "points": 2,
          "schema_version": 3,
          "solution": false,
          "task": false
        }
      },
      "outputs": [],
      "source": [
        "'''\n",
        "TEST CASES, DO NOT CHANGE\n",
        "'''\n",
        "''' case 1 '''\n",
        "X=np.array([[3,6,5],[4.5,6.6,6]])\n",
        "t=np.array([4,5.5])\n",
        "w=np.array([2,-1,0.5,1])\n",
        "np.testing.assert_almost_equal(L2_Loss(X,t,w,0.5),1.675,decimal=3)\n"
      ]
    },
    {
      "cell_type": "code",
      "execution_count": 55,
      "metadata": {
        "deletable": false,
        "id": "0n_9lXF3AKgC",
        "nbgrader": {
          "cell_type": "code",
          "checksum": "1af69c123815524cdc71c72e09ece638",
          "grade": false,
          "grade_id": "L1_Loss",
          "locked": false,
          "schema_version": 3,
          "solution": true,
          "task": false
        }
      },
      "outputs": [],
      "source": [
        "def L1_Loss (X, t, w, lamda): # Output should be a single number\n",
        "    # YOUR CODE HERE\n",
        "    L1_norm_w = np.linalg.norm(w[:len(w)-1], ord = 1) # L1(w) = <|w|,1> (excluding the bias term), where 1 is the vector of all one's \n",
        "    MSE = MSE_Loss(X, t, w)\n",
        "\n",
        "    return MSE + lamda*L1_norm_w\n",
        "    \n",
        "    raise NotImplementedError()"
      ]
    },
    {
      "cell_type": "code",
      "execution_count": 56,
      "metadata": {
        "deletable": false,
        "editable": false,
        "id": "wa71EoAgAKgC",
        "nbgrader": {
          "cell_type": "code",
          "checksum": "40224dd69dd8e6499a67271c33701bf4",
          "grade": true,
          "grade_id": "L1_Loss_Test",
          "locked": true,
          "points": 2,
          "schema_version": 3,
          "solution": false,
          "task": false
        }
      },
      "outputs": [],
      "source": [
        "'''\n",
        "TEST CASES, DO NOT CHANGE\n",
        "'''\n",
        "''' case 1 '''\n",
        "X=np.array([[3,6,5],[4.5,6.6,6]])\n",
        "t=np.array([4,5.5])\n",
        "w=np.array([2,-1,0.5,1])\n",
        "np.testing.assert_almost_equal(L1_Loss(X,t,w,0.5),2.280,decimal=3)\n"
      ]
    },
    {
      "cell_type": "code",
      "execution_count": 57,
      "metadata": {
        "deletable": false,
        "id": "kC4QR7o8AKgC",
        "nbgrader": {
          "cell_type": "code",
          "checksum": "855bd2ded492e567b20f1d9705d9a97a",
          "grade": false,
          "grade_id": "NRMSE_Metric",
          "locked": false,
          "schema_version": 3,
          "solution": true,
          "task": false
        }
      },
      "outputs": [],
      "source": [
        "def NRMSE_Metric (X, t, w, lamda=0): # Output should be a single number. RMSE/std_dev(t)\n",
        "    # YOUR CODE HERE\n",
        "    RMSE = np.sqrt(MSE_Loss(X, t, w)) # RMSE = sqrt(MSE)\n",
        "    NRMSE = RMSE/(t.std()) # NRMSE (Normalized by variance of target t) = RMSE/(std dev of t)\n",
        "\n",
        "    return NRMSE\n",
        "    \n",
        "    raise NotImplementedError()"
      ]
    },
    {
      "cell_type": "code",
      "execution_count": 58,
      "metadata": {
        "deletable": false,
        "editable": false,
        "id": "ZivNnAyLAKgD",
        "nbgrader": {
          "cell_type": "code",
          "checksum": "256795799ceb6dfa0b32ab75e8ef30c4",
          "grade": true,
          "grade_id": "NRMSE_Metric_Test",
          "locked": true,
          "points": 2,
          "schema_version": 3,
          "solution": false,
          "task": false
        }
      },
      "outputs": [],
      "source": [
        "'''\n",
        "TEST CASES, DO NOT CHANGE\n",
        "'''\n",
        "''' Test case 1 '''\n",
        "X=np.array([[3,6,5],[4.5,6.6,6]])\n",
        "t=np.array([4,5.5])\n",
        "w=np.array([2,-1,0.5,1])\n",
        "np.testing.assert_almost_equal(NRMSE_Metric(X,t,w,0.5),0.970,decimal=3)\n"
      ]
    },
    {
      "cell_type": "markdown",
      "metadata": {
        "deletable": false,
        "editable": false,
        "id": "duwhTlazAKgD",
        "nbgrader": {
          "cell_type": "markdown",
          "checksum": "cc5df30e29bbe17d4bc7aa89210eb5cf",
          "grade": false,
          "grade_id": "Gradient_Title",
          "locked": true,
          "schema_version": 3,
          "solution": false,
          "task": false
        }
      },
      "source": [
        "## Gradient function\n",
        "Each Loss function will have its own gradient function:\n",
        "\n",
        "1. MSE gradient is only for the error\n",
        "2. MAE gradient is only for the error\n",
        "3. L2 gradient is for MSE and L2 regularization, and can call MSE gradient\n",
        "4. L1 gradient is for MSE and L1 regularization, and can call MSE gradient"
      ]
    },
    {
      "cell_type": "code",
      "execution_count": 59,
      "metadata": {
        "deletable": false,
        "id": "0mtAeGZDAKgD",
        "nbgrader": {
          "cell_type": "code",
          "checksum": "0190492ee216edce701f93e697572fc1",
          "grade": false,
          "grade_id": "MSE_Gradient",
          "locked": false,
          "schema_version": 3,
          "solution": true,
          "task": false
        }
      },
      "outputs": [],
      "source": [
        "def MSE_Gradient (X, t, w, lamda=0): # Output should have the same size as w\n",
        "    # YOUR CODE HERE\n",
        "    # MSE = sqrt(<t-y,t-y>)/N => d(MSE)/dw = -2/N*<t-y,dy/dw> = -2/N*<t-y,X>\n",
        "\n",
        "    X_aug = np.c_[X, np.ones(X.shape[0])] # As prediction is carried out using [X 1] and not X\n",
        "    y = Prediction(X, w)\n",
        "    MSE_grad = -2*(t-y).dot(X_aug)/t.size # MSE_grad = -2/N*<t-y,X_aug>\n",
        "\n",
        "    return MSE_grad\n",
        "    \n",
        "    raise NotImplementedError()"
      ]
    },
    {
      "cell_type": "code",
      "execution_count": 60,
      "metadata": {
        "deletable": false,
        "editable": false,
        "id": "d6K4w14rAKgE",
        "nbgrader": {
          "cell_type": "code",
          "checksum": "d61466927592a8776a8bfa688472bad4",
          "grade": true,
          "grade_id": "MSE_Gradient_Test",
          "locked": true,
          "points": 3,
          "schema_version": 3,
          "solution": false,
          "task": false
        }
      },
      "outputs": [],
      "source": [
        "'''\n",
        "TEST CASES, DO NOT CHANGE\n",
        "'''\n",
        "''' case 1 '''\n",
        "X=np.array([[3,6,5],[4.5,6.6,6]])\n",
        "t=np.array([4,5.5])\n",
        "w=np.array([2,-1,0.5,1])\n",
        "np.testing.assert_array_almost_equal(MSE_Gradient(X,t,w),np.array([2.55, 2.94, 2.9 , 0.4 ]),decimal=3)\n"
      ]
    },
    {
      "cell_type": "code",
      "execution_count": 61,
      "metadata": {
        "deletable": false,
        "id": "tlT_bSsDAKgE",
        "nbgrader": {
          "cell_type": "code",
          "checksum": "49cc4e37cafad52f41853b4b0e71f89f",
          "grade": false,
          "grade_id": "MAE_Gradient",
          "locked": false,
          "schema_version": 3,
          "solution": true,
          "task": false
        }
      },
      "outputs": [],
      "source": [
        "def MAE_Gradient (X, t, w, lamda=0): # Output should have the same size as w\n",
        "    # YOUR CODE HERE\n",
        "    X_aug = np.c_[X, np.ones(X.shape[0])] # As prediction is carried out using [X 1] and not X\n",
        "    y = Prediction(X, w) # Predicted y\n",
        "\n",
        "    # MAE = sum(|t-y|)/N => d(MAE)/dw = -1/N*<(|t-y|./(t-y)),dy/dw> = -1/N*<(|t-y|./(t-y)),X>\n",
        "    MAE_grad = -(np.abs(t-y)/(t-y)).dot(X_aug)/t.size # MAE_grad = -1/N*<(|t-y|./(t-y)),X>\n",
        "\n",
        "    return MAE_grad\n",
        "    \n",
        "    raise NotImplementedError()"
      ]
    },
    {
      "cell_type": "code",
      "execution_count": 62,
      "metadata": {
        "deletable": false,
        "editable": false,
        "id": "6GZ0WUPeAKgF",
        "nbgrader": {
          "cell_type": "code",
          "checksum": "e1d418bf5351112ae8716877f8bb6359",
          "grade": true,
          "grade_id": "MAE_Gradient_Test",
          "locked": true,
          "points": 3,
          "schema_version": 3,
          "solution": false,
          "task": false
        }
      },
      "outputs": [],
      "source": [
        "'''\n",
        "TEST CASES, DO NOT CHANGE\n",
        "'''\n",
        "''' case 1 '''\n",
        "X=np.array([[3,6,5],[4.5,6.6,6]])\n",
        "t=np.array([4,5.5])\n",
        "w=np.array([2,-1,0.5,1])\n",
        "np.testing.assert_array_almost_equal(MAE_Gradient(X,t,w),np.array([0.75,  0.3 , 0.5 , 0.]),decimal=3)\n"
      ]
    },
    {
      "cell_type": "code",
      "execution_count": 63,
      "metadata": {
        "deletable": false,
        "id": "ZfckrP06AKgF",
        "nbgrader": {
          "cell_type": "code",
          "checksum": "595829c0dd17df55a03d346fac507b4a",
          "grade": false,
          "grade_id": "L2_Gradient",
          "locked": false,
          "schema_version": 3,
          "solution": true,
          "task": false
        }
      },
      "outputs": [],
      "source": [
        "def L2_Gradient (X, t, w, lamda): # Output should have the same size as w\n",
        "    # YOUR CODE HERE\n",
        "    MSE_grad = MSE_Gradient(X, t, w) # Initialize MSE gradient\n",
        "    L2_grad = np.zeros(MSE_grad.shape[0]) # Initialize L2 gradient\n",
        "\n",
        "    # L2 = MSE + lamda*sqrt(<w,w>) => d(L2)/dw = d(MSE)/dw + lamda*w/sqrt(<w,w>)\n",
        "    L2_grad[:len(w)-1] = MSE_grad[:len(w)-1] + lamda*(w[:len(w)-1]/np.linalg.norm(w[:len(w)-1], ord = 2))\n",
        "    L2_grad[-1] = MSE_grad[-1]\n",
        "\n",
        "    return L2_grad\n",
        "    \n",
        "    raise NotImplementedError()"
      ]
    },
    {
      "cell_type": "code",
      "execution_count": 64,
      "metadata": {
        "deletable": false,
        "editable": false,
        "id": "iYYtH_LvAKgF",
        "nbgrader": {
          "cell_type": "code",
          "checksum": "f292b42c3389b24e369234a7210b87bb",
          "grade": true,
          "grade_id": "L2_Gradient_Test",
          "locked": true,
          "points": 3,
          "schema_version": 3,
          "solution": false,
          "task": false
        }
      },
      "outputs": [],
      "source": [
        "'''\n",
        "TEST CASES, DO NOT CHANGE\n",
        "'''\n",
        "''' case 1 '''\n",
        "X=np.array([[3,6,5],[4.5,6.6,6]])\n",
        "t=np.array([4,5.5])\n",
        "w=np.array([2,-1,0.5,1])\n",
        "np.testing.assert_array_almost_equal(L2_Gradient(X,t,w,0.5),np.array([2.986, 2.721, 3.009 , 0.4 ]),decimal=3)\n"
      ]
    },
    {
      "cell_type": "code",
      "execution_count": 65,
      "metadata": {
        "deletable": false,
        "id": "ez0HVGDLAKgF",
        "nbgrader": {
          "cell_type": "code",
          "checksum": "141736f1feda5aa225e008d749f0015c",
          "grade": false,
          "grade_id": "L1_Gradient",
          "locked": false,
          "schema_version": 3,
          "solution": true,
          "task": false
        }
      },
      "outputs": [],
      "source": [
        "def L1_Gradient (X, t, w, lamda): # Output should have the same size as w\n",
        "    # YOUR CODE HERE\n",
        "    MSE_grad = MSE_Gradient(X, t, w) # Initialize MSE gradient\n",
        "    L1_grad = np.zeros(MSE_grad.shape[0]) # Initialize L1 gradient\n",
        "\n",
        "    # L1 = MSE + lamda*sum(|w|) => d(L2)/dw = d(MSE)/dw + lamda*w./|w|\n",
        "    L1_grad[:len(w)-1] = MSE_grad[:len(w)-1] + lamda*(w[:len(w)-1]/np.abs(w[:len(w)-1]))\n",
        "    L1_grad[-1] = MSE_grad[-1]\n",
        "\n",
        "    return L1_grad\n",
        "    \n",
        "    raise NotImplementedError()"
      ]
    },
    {
      "cell_type": "code",
      "execution_count": 66,
      "metadata": {
        "deletable": false,
        "editable": false,
        "id": "tiB1qXzCAKgG",
        "nbgrader": {
          "cell_type": "code",
          "checksum": "9097b61320e470f429a9f46c7da0b219",
          "grade": true,
          "grade_id": "L1_Gradient_Test",
          "locked": true,
          "points": 3,
          "schema_version": 3,
          "solution": false,
          "task": false
        }
      },
      "outputs": [],
      "source": [
        "'''\n",
        "TEST CASES, DO NOT CHANGE\n",
        "'''\n",
        "''' case 1 '''\n",
        "X=np.array([[3,6,5],[4.5,6.6,6]])\n",
        "t=np.array([4,5.5])\n",
        "w=np.array([2,-1,0.5,1])\n",
        "np.testing.assert_array_almost_equal(L1_Gradient(X,t,w,0.5),np.array([3.05, 2.44, 3.4 , 0.4 ]),decimal=3)\n"
      ]
    },
    {
      "cell_type": "markdown",
      "metadata": {
        "deletable": false,
        "editable": false,
        "id": "d44nTPJmAKgG",
        "nbgrader": {
          "cell_type": "markdown",
          "checksum": "1980a2f831b5e1ddc9b510c22ef502c7",
          "grade": false,
          "grade_id": "Gradient_Desc_Title",
          "locked": true,
          "schema_version": 3,
          "solution": false,
          "task": false
        }
      },
      "source": [
        "## Gradient Descent Function\n"
      ]
    },
    {
      "cell_type": "code",
      "execution_count": 67,
      "metadata": {
        "deletable": false,
        "id": "bzrxowdGAKgG",
        "nbgrader": {
          "cell_type": "code",
          "checksum": "78cdd5ffa4590c10e19281722ccd537f",
          "grade": false,
          "grade_id": "Gradient_Descent",
          "locked": false,
          "schema_version": 3,
          "solution": true,
          "task": false
        }
      },
      "outputs": [],
      "source": [
        "def Gradient_Descent (X, X_val, t, t_val, w, lamda, max_iter, epsilon, lr, lossfunc, gradfunc): # See output format in 'return' statement\n",
        "    # YOUR CODE HERE\n",
        "\n",
        "    # Initilization\n",
        "    i = 0 # Iteration\n",
        "    w_final = w # Weights\n",
        "\n",
        "    NRMSE_prev = 0 # Previous NRMSE\n",
        "    NRMSE_curr = NRMSE_Metric(X, t, w_final) # Current NRMSE on training data\n",
        "\n",
        "    for i in range(max_iter): # i < max_iter\n",
        "      NRMSE_prev = NRMSE_curr # w_prev = w_curr => NRMSE(w_prev) = NRMSE(w_curr) \n",
        "      w_final = w_final - lr*(gradfunc(X, t, w_final, lamda)) # w_curr = w_prev - eta*NRMSE(w_prev)\n",
        "      NRMSE_curr = NRMSE_Metric(X, t, w_final) # NRMSE(w_curr)\n",
        "      if abs(NRMSE_prev - NRMSE_curr) < epsilon: # |NRMSE(w_curr) - NRMSE(w_prev)| < epsilon\n",
        "        break\n",
        "      \n",
        "    train_loss_final = lossfunc(X, t, w_final, lamda) # Final loss on training data (X, t)\n",
        "    validation_loss_final = lossfunc(X_val, t_val, w_final, lamda) # Final loss on validation data (X_val, t_val)\n",
        "    validation_NRMSE =  NRMSE_Metric(X_val, t_val, w_final) # Normalized RMSE on validation data\n",
        "\n",
        "    return w_final, train_loss_final, validation_loss_final, validation_NRMSE #You should return variables structured like this\n",
        "\n",
        "    raise NotImplementedError()"
      ]
    },
    {
      "cell_type": "code",
      "execution_count": 68,
      "metadata": {
        "deletable": false,
        "editable": false,
        "id": "M8kQE82iAKgH",
        "nbgrader": {
          "cell_type": "code",
          "checksum": "15a67336bed20a51f33820bf615186e8",
          "grade": true,
          "grade_id": "Gradient_Check",
          "locked": true,
          "points": 20,
          "schema_version": 3,
          "solution": false,
          "task": false
        }
      },
      "outputs": [],
      "source": [
        "'''\n",
        "TEST CASES, DO NOT CHANGE\n",
        "'''\n",
        "X=np.array([[23,24],[1,2]])\n",
        "t=np.array([4,5])\n",
        "X_val=np.array([[3,4],[5,6]])\n",
        "t_val=np.array([3,4])\n",
        "w=np.array([3,2,1])\n",
        "results =Gradient_Descent (X, X_val, t, t_val, w, 0.1, 100, 1e-10, 1e-5, L2_Loss,L2_Gradient) \n",
        "np.testing.assert_allclose([results[1]],[697.919],rtol =0.05)\n",
        "np.testing.assert_allclose([results[2]],[20],atol=5) # we expect around 17.5  but some students got 24 which we will also accept\n",
        "#Instructor Values of results[1] and results [2] are 697.919 and 17.512 respectively"
      ]
    },
    {
      "cell_type": "markdown",
      "metadata": {
        "deletable": false,
        "editable": false,
        "id": "YZCAI2ziAKgH",
        "nbgrader": {
          "cell_type": "markdown",
          "checksum": "24f327aa6a14590077f907ee8323724c",
          "grade": false,
          "grade_id": "PseudoInvTitle",
          "locked": true,
          "schema_version": 3,
          "solution": false,
          "task": false
        }
      },
      "source": [
        "## Pseudo Inverse Method\n",
        "\n",
        "You have to implement a slightly more advanced version, with L2 penalty:\n",
        "\n",
        "w = (X' X + lambda I)^(-1) X' t.\n",
        "\n",
        "See, for example: Section 2 of https://web.mit.edu/zoya/www/linearRegression.pdf\n",
        "\n",
        "Here, the column of 1's in assumed to be included in X"
      ]
    },
    {
      "cell_type": "code",
      "execution_count": 69,
      "metadata": {
        "deletable": false,
        "id": "LdXItn9QAKgH",
        "nbgrader": {
          "cell_type": "code",
          "checksum": "928c9b105c4bcf3c132c7520a140d509",
          "grade": false,
          "grade_id": "PseudoInv",
          "locked": false,
          "schema_version": 3,
          "solution": true,
          "task": false
        }
      },
      "outputs": [],
      "source": [
        "def Pseudo_Inverse (X, t, lamda): # Output should be weight vector\n",
        "    # YOUR CODE HERE\n",
        "    X_aug = np.c_[X, np.ones(X.shape[0])] # X_aug = [X 1]\n",
        "    pseudo_inv_X = (X_aug.T).dot(X_aug) # pseudo_inv(X_aug) = (X_aug'X_aug)^(-1)*X_aug'\n",
        "    pseudo_inv_X = np.linalg.inv(pseudo_inv_X + lamda*np.eye(pseudo_inv_X.shape[0])).dot(X_aug.T) # Regularized pseudo inverse\n",
        "    w = pseudo_inv_X.dot(t) # w = pseudo_inv(X_aug)*t\n",
        "\n",
        "    return w\n",
        "\n",
        "    raise NotImplementedError()"
      ]
    },
    {
      "cell_type": "code",
      "execution_count": 70,
      "metadata": {
        "deletable": false,
        "editable": false,
        "id": "NOpxdIcFAKgI",
        "nbgrader": {
          "cell_type": "code",
          "checksum": "a5178b8280650ed5d1d55dc6bbb38a29",
          "grade": true,
          "grade_id": "PseudoInvTest",
          "locked": true,
          "points": 10,
          "schema_version": 3,
          "solution": false,
          "task": false
        }
      },
      "outputs": [],
      "source": [
        "'''\n",
        "TEST CASES, DO NOT CHANGE\n",
        "'''\n",
        "''' case 1 - other data'''\n",
        "X=np.array([[3,6,5],[4.5,6.6,6]])\n",
        "t=np.array([4,5.5])\n",
        "np.testing.assert_array_almost_equal(Pseudo_Inverse(X,t,0.5),np.array([ 0.491,  0.183,  0.319, -0.002]),decimal=3)"
      ]
    },
    {
      "cell_type": "markdown",
      "metadata": {
        "deletable": false,
        "editable": false,
        "id": "J8lEJiQeAKgI",
        "nbgrader": {
          "cell_type": "markdown",
          "checksum": "8748fcc0dc96df6e7bb48a4e315927d3",
          "grade": false,
          "grade_id": "cell-e0fa02d7eecfb851",
          "locked": true,
          "schema_version": 3,
          "solution": false,
          "task": false
        }
      },
      "source": [
        "#... Part 1 ends Below this you be more creative. Just comment out the lines where you save files (e.g. test predictions)."
      ]
    },
    {
      "cell_type": "markdown",
      "metadata": {
        "deletable": false,
        "editable": false,
        "id": "zMO3c6suAKgI",
        "nbgrader": {
          "cell_type": "markdown",
          "checksum": "c9047f75587bfee6b7b0a4b244efc7fa",
          "grade": false,
          "grade_id": "cell-10f0d275f5cd36f6",
          "locked": true,
          "schema_version": 3,
          "solution": false,
          "task": false
        }
      },
      "source": [
        "#**Part 2 begins ...**\n",
        "\n",
        "**Instructions to be loosely followed (except number 8):**\n",
        "\n",
        "1. Add more code and text cells between this and the last cell.\n",
        "2. Read training data from: https://www.ee.iitb.ac.in/~asethi/Dump/TempTrain.csv only. Do not use a local copy of the dataset.\n",
        "3. Find the best lamda for **MSE+lamda*L2(w)** loss function. Plot training and validation RMSE vs. 1/lamda (1/lamda represents model complexity). Print weights, validation RMSE, validation NRMSE for the best lamda.\n",
        "4. Find the best lamda for **MSE+lamda*L1(w)** loss function. Plot training and validation RMSE vs. 1/lamda (1/lamda represents model complexity). Print weights, validation RMSE, validation NRMSE for the best lamda.\n",
        "5. Find the best lamda for the **pseudo-inv method**. Plot training and validation RMSE vs. 1/lamda (1/lamda represents model complexity). Print weights, validation RMSE, validation NRMSE for the best lamda.\n",
        "6. Write your observations and conclusions.\n",
        "7. Read test data from: https://www.ee.iitb.ac.in/~asethi/Dump/TempTest.csv only. Do not use a local copy of the dataset. Predict its dependent (missing last column) using the model with the lowest MSE, RMSE, or NRMSE. Save it as a file RollNo1_RollNo2_1.csv.\n",
        "8. **Disable the prediction csv file saving statement and submit this entire .ipynb file, .py file, and .csv file as a single RollNo1_RollNo2_1.zip file.**\n"
      ]
    },
    {
      "cell_type": "markdown",
      "metadata": {},
      "source": [
        "# Data Preparation"
      ]
    },
    {
      "cell_type": "code",
      "execution_count": 71,
      "metadata": {},
      "outputs": [],
      "source": [
        "# Plot sizes.\n",
        "plt.rcParams[\"figure.figsize\"] = (20,8)"
      ]
    },
    {
      "cell_type": "code",
      "execution_count": 72,
      "metadata": {
        "id": "VG4f3LabB23r"
      },
      "outputs": [],
      "source": [
        "# Training data -> Divided into train and validation data sets\n",
        "df_train = pd.read_csv('https://www.ee.iitb.ac.in/~asethi/Dump/TempTrain.csv')\n",
        "# Test data -> Data set used for training\n",
        "df_test = pd.read_csv('https://www.ee.iitb.ac.in/~asethi/Dump/TempTest.csv')"
      ]
    },
    {
      "cell_type": "code",
      "execution_count": 73,
      "metadata": {
        "colab": {
          "base_uri": "https://localhost:8080/",
          "height": 287
        },
        "id": "tpyWN8qhCJYd",
        "outputId": "2054c6af-adf4-4fa3-ae33-e969ff842ce6"
      },
      "outputs": [
        {
          "data": {
            "text/html": [
              "<div>\n",
              "<style scoped>\n",
              "    .dataframe tbody tr th:only-of-type {\n",
              "        vertical-align: middle;\n",
              "    }\n",
              "\n",
              "    .dataframe tbody tr th {\n",
              "        vertical-align: top;\n",
              "    }\n",
              "\n",
              "    .dataframe thead th {\n",
              "        text-align: right;\n",
              "    }\n",
              "</style>\n",
              "<table border=\"1\" class=\"dataframe\">\n",
              "  <thead>\n",
              "    <tr style=\"text-align: right;\">\n",
              "      <th></th>\n",
              "      <th>Present_Tmax</th>\n",
              "      <th>Present_Tmin</th>\n",
              "      <th>LDAPS_RHmin</th>\n",
              "      <th>LDAPS_RHmax</th>\n",
              "      <th>LDAPS_Tmax_lapse</th>\n",
              "      <th>LDAPS_Tmin_lapse</th>\n",
              "      <th>LDAPS_WS</th>\n",
              "      <th>LDAPS_LH</th>\n",
              "      <th>LDAPS_CC1</th>\n",
              "      <th>LDAPS_CC2</th>\n",
              "      <th>...</th>\n",
              "      <th>LDAPS_PPT1</th>\n",
              "      <th>LDAPS_PPT2</th>\n",
              "      <th>LDAPS_PPT3</th>\n",
              "      <th>LDAPS_PPT4</th>\n",
              "      <th>lat</th>\n",
              "      <th>lon</th>\n",
              "      <th>DEM</th>\n",
              "      <th>Slope</th>\n",
              "      <th>Solar radiation</th>\n",
              "      <th>Next_Tmax</th>\n",
              "    </tr>\n",
              "  </thead>\n",
              "  <tbody>\n",
              "    <tr>\n",
              "      <th>0</th>\n",
              "      <td>28.7</td>\n",
              "      <td>21.4</td>\n",
              "      <td>58.255688</td>\n",
              "      <td>91.116364</td>\n",
              "      <td>28.074101</td>\n",
              "      <td>23.006936</td>\n",
              "      <td>6.818887</td>\n",
              "      <td>69.451805</td>\n",
              "      <td>0.233947</td>\n",
              "      <td>0.203896</td>\n",
              "      <td>...</td>\n",
              "      <td>0.0</td>\n",
              "      <td>0.0</td>\n",
              "      <td>0.0</td>\n",
              "      <td>0.0</td>\n",
              "      <td>37.6046</td>\n",
              "      <td>126.991</td>\n",
              "      <td>212.3350</td>\n",
              "      <td>2.7850</td>\n",
              "      <td>5992.895996</td>\n",
              "      <td>29.1</td>\n",
              "    </tr>\n",
              "    <tr>\n",
              "      <th>1</th>\n",
              "      <td>31.9</td>\n",
              "      <td>21.6</td>\n",
              "      <td>52.263397</td>\n",
              "      <td>90.604721</td>\n",
              "      <td>29.850689</td>\n",
              "      <td>24.035009</td>\n",
              "      <td>5.691890</td>\n",
              "      <td>51.937448</td>\n",
              "      <td>0.225508</td>\n",
              "      <td>0.251771</td>\n",
              "      <td>...</td>\n",
              "      <td>0.0</td>\n",
              "      <td>0.0</td>\n",
              "      <td>0.0</td>\n",
              "      <td>0.0</td>\n",
              "      <td>37.6046</td>\n",
              "      <td>127.032</td>\n",
              "      <td>44.7624</td>\n",
              "      <td>0.5141</td>\n",
              "      <td>5869.312500</td>\n",
              "      <td>30.5</td>\n",
              "    </tr>\n",
              "    <tr>\n",
              "      <th>2</th>\n",
              "      <td>31.6</td>\n",
              "      <td>23.3</td>\n",
              "      <td>48.690479</td>\n",
              "      <td>83.973587</td>\n",
              "      <td>30.091292</td>\n",
              "      <td>24.565633</td>\n",
              "      <td>6.138224</td>\n",
              "      <td>20.573050</td>\n",
              "      <td>0.209344</td>\n",
              "      <td>0.257469</td>\n",
              "      <td>...</td>\n",
              "      <td>0.0</td>\n",
              "      <td>0.0</td>\n",
              "      <td>0.0</td>\n",
              "      <td>0.0</td>\n",
              "      <td>37.5776</td>\n",
              "      <td>127.058</td>\n",
              "      <td>33.3068</td>\n",
              "      <td>0.2661</td>\n",
              "      <td>5863.555664</td>\n",
              "      <td>31.1</td>\n",
              "    </tr>\n",
              "    <tr>\n",
              "      <th>3</th>\n",
              "      <td>32.0</td>\n",
              "      <td>23.4</td>\n",
              "      <td>58.239788</td>\n",
              "      <td>96.483688</td>\n",
              "      <td>29.704629</td>\n",
              "      <td>23.326177</td>\n",
              "      <td>5.650050</td>\n",
              "      <td>65.727144</td>\n",
              "      <td>0.216372</td>\n",
              "      <td>0.226002</td>\n",
              "      <td>...</td>\n",
              "      <td>0.0</td>\n",
              "      <td>0.0</td>\n",
              "      <td>0.0</td>\n",
              "      <td>0.0</td>\n",
              "      <td>37.6450</td>\n",
              "      <td>127.022</td>\n",
              "      <td>45.7160</td>\n",
              "      <td>2.5348</td>\n",
              "      <td>5856.964844</td>\n",
              "      <td>31.7</td>\n",
              "    </tr>\n",
              "    <tr>\n",
              "      <th>4</th>\n",
              "      <td>31.4</td>\n",
              "      <td>21.9</td>\n",
              "      <td>56.174095</td>\n",
              "      <td>90.155128</td>\n",
              "      <td>29.113934</td>\n",
              "      <td>23.486480</td>\n",
              "      <td>5.735004</td>\n",
              "      <td>107.965535</td>\n",
              "      <td>0.151407</td>\n",
              "      <td>0.249995</td>\n",
              "      <td>...</td>\n",
              "      <td>0.0</td>\n",
              "      <td>0.0</td>\n",
              "      <td>0.0</td>\n",
              "      <td>0.0</td>\n",
              "      <td>37.5507</td>\n",
              "      <td>127.135</td>\n",
              "      <td>35.0380</td>\n",
              "      <td>0.5055</td>\n",
              "      <td>5859.552246</td>\n",
              "      <td>31.2</td>\n",
              "    </tr>\n",
              "  </tbody>\n",
              "</table>\n",
              "<p>5 rows × 22 columns</p>\n",
              "</div>"
            ],
            "text/plain": [
              "   Present_Tmax  Present_Tmin  LDAPS_RHmin  LDAPS_RHmax  LDAPS_Tmax_lapse  \\\n",
              "0          28.7          21.4    58.255688    91.116364         28.074101   \n",
              "1          31.9          21.6    52.263397    90.604721         29.850689   \n",
              "2          31.6          23.3    48.690479    83.973587         30.091292   \n",
              "3          32.0          23.4    58.239788    96.483688         29.704629   \n",
              "4          31.4          21.9    56.174095    90.155128         29.113934   \n",
              "\n",
              "   LDAPS_Tmin_lapse  LDAPS_WS    LDAPS_LH  LDAPS_CC1  LDAPS_CC2  ...  \\\n",
              "0         23.006936  6.818887   69.451805   0.233947   0.203896  ...   \n",
              "1         24.035009  5.691890   51.937448   0.225508   0.251771  ...   \n",
              "2         24.565633  6.138224   20.573050   0.209344   0.257469  ...   \n",
              "3         23.326177  5.650050   65.727144   0.216372   0.226002  ...   \n",
              "4         23.486480  5.735004  107.965535   0.151407   0.249995  ...   \n",
              "\n",
              "   LDAPS_PPT1  LDAPS_PPT2  LDAPS_PPT3  LDAPS_PPT4      lat      lon       DEM  \\\n",
              "0         0.0         0.0         0.0         0.0  37.6046  126.991  212.3350   \n",
              "1         0.0         0.0         0.0         0.0  37.6046  127.032   44.7624   \n",
              "2         0.0         0.0         0.0         0.0  37.5776  127.058   33.3068   \n",
              "3         0.0         0.0         0.0         0.0  37.6450  127.022   45.7160   \n",
              "4         0.0         0.0         0.0         0.0  37.5507  127.135   35.0380   \n",
              "\n",
              "    Slope  Solar radiation  Next_Tmax  \n",
              "0  2.7850      5992.895996       29.1  \n",
              "1  0.5141      5869.312500       30.5  \n",
              "2  0.2661      5863.555664       31.1  \n",
              "3  2.5348      5856.964844       31.7  \n",
              "4  0.5055      5859.552246       31.2  \n",
              "\n",
              "[5 rows x 22 columns]"
            ]
          },
          "execution_count": 73,
          "metadata": {},
          "output_type": "execute_result"
        }
      ],
      "source": [
        "# Observing the structure of the training data along with the variables\n",
        "df_train.head()"
      ]
    },
    {
      "cell_type": "code",
      "execution_count": 74,
      "metadata": {
        "id": "Yszk6XmeDPR5"
      },
      "outputs": [],
      "source": [
        "# 80:20 split for training and validation (Random Shuffle)\n",
        "\n",
        "train_shuffle = df_train.sample(frac = 1) # Random shuffle\n",
        "\n",
        "# 80:20 split (Number of samples)\n",
        "train_samples = int(0.8*train_shuffle.shape[0])\n",
        "\n",
        "# Last column of the training data corresponds to the target variable\n",
        "X_train = Normalize(train_shuffle.iloc[:train_samples, :-1])\n",
        "t_train = train_shuffle.iloc[:train_samples, -1]\n",
        "\n",
        "X_val = Normalize(train_shuffle.iloc[train_samples:, :-1])\n",
        "t_val = train_shuffle.iloc[train_samples:, -1]\n"
      ]
    },
    {
      "cell_type": "code",
      "execution_count": 75,
      "metadata": {
        "colab": {
          "base_uri": "https://localhost:8080/"
        },
        "id": "6Bkb-icdDPM8",
        "outputId": "119478f3-66ef-4ac3-efdd-27e45df93580"
      },
      "outputs": [
        {
          "name": "stdout",
          "output_type": "stream",
          "text": [
            "(4865, 21)\n",
            "(1217, 21)\n"
          ]
        }
      ],
      "source": [
        "print(X_train.shape)\n",
        "print(X_val.shape)"
      ]
    },
    {
      "cell_type": "code",
      "execution_count": 76,
      "metadata": {},
      "outputs": [
        {
          "data": {
            "image/png": "[encoded data removed]",
            "text/plain": [
              "<Figure size 1440x576 with 2 Axes>"
            ]
          },
          "metadata": {
            "needs_background": "light"
          },
          "output_type": "display_data"
        }
      ],
      "source": [
        "# Looking for correlations in data \n",
        "plt.imshow(((train_shuffle-train_shuffle.mean())/train_shuffle.std()).corr(), cmap='magma')\n",
        "plt.colorbar()\n",
        "plt.show()"
      ]
    },
    {
      "cell_type": "markdown",
      "metadata": {},
      "source": [
        "On observation of the off diagonal terms the data appears to be relatively uncorrelated."
      ]
    },
    {
      "cell_type": "markdown",
      "metadata": {},
      "source": [
        "# Linear Regression Model"
      ]
    },
    {
      "cell_type": "code",
      "execution_count": 77,
      "metadata": {
        "colab": {
          "base_uri": "https://localhost:8080/",
          "height": 423
        },
        "id": "f5dx5gg7DO6n",
        "outputId": "8c2025e1-fe08-4aee-c71a-0aa4747db2d9"
      },
      "outputs": [],
      "source": [
        "# General linear regression model to be used for both L2 and L1 loss. Outputs are \n",
        "# weights, training RMSE and validation RMSE.\n",
        "\n",
        "def regression_model(max_iter, lamda, epsilon, lr, lossfunc, gradfunc):\n",
        "    # w has the same number of columns as [X 1]. We shall randomize w.\n",
        "    w = np.random.randn(X_train.shape[1]+1) + t.mean()\n",
        "    # Gradient descent\n",
        "    w, _, _, _ = Gradient_Descent(\n",
        "        X_train, X_val, t_train, t_val, w, lamda, max_iter, epsilon, lr, lossfunc, gradfunc)\n",
        "    \n",
        "    return w, np.sqrt(MSE_Loss(X_train, t_train, w)), np.sqrt(MSE_Loss(X_val, t_val, w))"
      ]
    },
    {
      "cell_type": "code",
      "execution_count": 78,
      "metadata": {},
      "outputs": [],
      "source": [
        "# Main function\n",
        "def main(lamdas, lossfunc, gradfunc):\n",
        "\n",
        "    # Find weights and RMSEs\n",
        "    train_RMSEs = []\n",
        "    val_RMSEs = []\n",
        "    for lamda in lamdas:\n",
        "        _, train_RMSE, val_RMSE = regression_model(10000, lamda, 1e-6, 1e-2, lossfunc, gradfunc) \n",
        "        train_RMSEs.append(train_RMSE)\n",
        "        val_RMSEs.append(val_RMSE)\n",
        "\n",
        "    # Plot 1/lamda vs RMSE in log scale \n",
        "    plt.plot(1/lamdas, train_RMSEs, label = 'Training RMSE', marker = 'o')\n",
        "    plt.plot(1/lamdas, val_RMSEs, label = 'Validation RMSE', marker = 'x')\n",
        "    plt.xlabel('1/lambda')\n",
        "    plt.ylabel('RMSE')\n",
        "    plt.title('1/lambda vs RMSE (Regularized Linear Regression Model)')\n",
        "    plt.xscale('log')\n",
        "    plt.legend()\n",
        "    plt.grid()\n",
        "    plt.show()"
      ]
    },
    {
      "cell_type": "markdown",
      "metadata": {},
      "source": [
        "\n",
        "## L2 Regularization\n",
        "\n",
        "In this part, we shall observe the training and validation loss (RMSE) upon performing linear regression on L2 loss for a range of $\\frac{1}{\\lambda}$ (complexity of the model). "
      ]
    },
    {
      "cell_type": "code",
      "execution_count": 79,
      "metadata": {},
      "outputs": [
        {
          "data": {
            "image/png": "[encoded data removed]",
            "text/plain": [
              "<Figure size 1440x576 with 1 Axes>"
            ]
          },
          "metadata": {
            "needs_background": "light"
          },
          "output_type": "display_data"
        }
      ],
      "source": [
        "# L2 linear regression\n",
        "\n",
        "lamdas = np.logspace(-5,1,20) # lambda values in log scale\n",
        "main(lamdas, L2_Loss, L2_Gradient) # Run main program"
      ]
    },
    {
      "cell_type": "markdown",
      "metadata": {},
      "source": [
        "From the graph, we can observe that the loss saturates for $\\frac{1}{\\lambda} \\geq 10$. Taking complexity into consideration, $\\frac{1}{\\lambda} = 10$ is an optimal value of lambda. We shall now find the weights and NRMSEs of the training and validation data sets the above value."
      ]
    },
    {
      "cell_type": "code",
      "execution_count": 80,
      "metadata": {},
      "outputs": [
        {
          "name": "stdout",
          "output_type": "stream",
          "text": [
            "Optimum weights for L2: \n",
            "[ 5.37530522e-01  1.94428978e-01  4.53349678e-01 -1.33255236e-01\n",
            "  1.85945543e+00  7.58072425e-02 -4.12144259e-01  2.31052505e-01\n",
            " -2.95777726e-01 -1.88668249e-01 -1.93431630e-01 -2.31332046e-01\n",
            " -6.48578620e-02  1.49561065e-01 -2.19265995e-02 -1.26365385e-02\n",
            " -6.10837997e-02 -1.19439630e-01 -1.59239228e-01  2.13571636e-01\n",
            "  5.54527475e-02  3.02780472e+01]\n",
            "The validation RMSE for L2 is 1.4318317389989585\n",
            "The validation NRMSE for L2 is 0.4763150825879492\n"
          ]
        }
      ],
      "source": [
        "w_opt ,_ , validation_RMSE = regression_model(10000, 0.1, 1e-6, 1e-2, L2_Loss, L2_Gradient)\n",
        "validation_NRMSE = NRMSE_Metric(X_val, t_val, w_opt)\n",
        "print('Optimum weights for L2: ')\n",
        "print(w_opt)\n",
        "print(f'The validation RMSE for L2 is {validation_RMSE}')\n",
        "print(f'The validation NRMSE for L2 is {validation_NRMSE}')"
      ]
    },
    {
      "cell_type": "markdown",
      "metadata": {},
      "source": [
        "## L1 Regularization\n",
        "\n",
        "In this part, we shall observe the training and validation loss (RMSE) upon performing linear regression on L1 loss for a range of $\\frac{1}{\\lambda}$ (complexity of the model). "
      ]
    },
    {
      "cell_type": "code",
      "execution_count": 81,
      "metadata": {},
      "outputs": [
        {
          "data": {
            "image/png": "[encoded data removed]",
            "text/plain": [
              "<Figure size 1440x576 with 1 Axes>"
            ]
          },
          "metadata": {
            "needs_background": "light"
          },
          "output_type": "display_data"
        }
      ],
      "source": [
        "# L1 linear regression\n",
        "\n",
        "lamdas = np.logspace(-5,1,20) # lambda values in log scale\n",
        "main(lamdas, L1_Loss, L1_Gradient) # Run main program"
      ]
    },
    {
      "cell_type": "markdown",
      "metadata": {},
      "source": [
        "From the graph, we can observe that the loss saturates for $\\frac{1}{\\lambda} \\geq 100$. Taking complexity into consideration, $\\frac{1}{\\lambda} = 100$ is an optimal value of lambda. We shall now find the weights and NRMSEs of the training and validation data sets the above value."
      ]
    },
    {
      "cell_type": "code",
      "execution_count": 82,
      "metadata": {},
      "outputs": [
        {
          "name": "stdout",
          "output_type": "stream",
          "text": [
            "Optimum weights for L1: \n",
            "[ 5.11665065e-01  9.88135416e-02  3.36109148e-01 -1.94668256e-02\n",
            "  2.14618308e+00  1.15741775e-03 -3.31786447e-01  2.00321440e-01\n",
            " -2.85736839e-01 -3.66870270e-02 -1.84029797e-02 -2.57257207e-01\n",
            " -1.42258070e-02  4.10119918e-02 -4.01577096e-03 -1.03972521e-03\n",
            " -1.74303564e-02 -1.23401878e-01 -9.15048504e-04  4.97076120e-02\n",
            " -9.42625852e-05  3.02778262e+01]\n",
            "The validation RMSE for L1 is 1.4576257550451905\n",
            "The validation NRMSE for L1 is 0.48489575484761394\n"
          ]
        }
      ],
      "source": [
        "w_opt ,_ , validation_RMSE = regression_model(10000, 0.1, 1e-6, 1e-2, L1_Loss, L1_Gradient)\n",
        "validation_NRMSE = NRMSE_Metric(X_val, t_val, w_opt)\n",
        "print('Optimum weights for L1: ')\n",
        "print(w_opt)\n",
        "print(f'The validation RMSE for L1 is {validation_RMSE}')\n",
        "print(f'The validation NRMSE for L1 is {validation_NRMSE}')"
      ]
    },
    {
      "cell_type": "markdown",
      "metadata": {},
      "source": [
        "## Pseudo-inverse Method on L2 Loss"
      ]
    },
    {
      "cell_type": "code",
      "execution_count": 83,
      "metadata": {},
      "outputs": [],
      "source": [
        "# Linear regression using pseudo-inverse\n",
        "\n",
        "def pinv_model(lamda):\n",
        "    w = Pseudo_Inverse(X_train, t_train, lamda)\n",
        "    return w, np.sqrt(MSE_Loss(X_train, t_train, w)), np.sqrt(MSE_Loss(X_val, t_val, w))"
      ]
    },
    {
      "cell_type": "code",
      "execution_count": 84,
      "metadata": {},
      "outputs": [],
      "source": [
        "# Main function\n",
        "def pinv_main(lamdas):\n",
        "\n",
        "    # Find weights and RMSEs\n",
        "    train_RMSEs = []\n",
        "    val_RMSEs = []\n",
        "    for lamda in lamdas:\n",
        "        _, train_RMSE, val_RMSE = pinv_model(lamda) \n",
        "        train_RMSEs.append(train_RMSE)\n",
        "        val_RMSEs.append(val_RMSE)\n",
        "\n",
        "    # Plot 1/lamda vs RMSE in log scale \n",
        "    plt.plot(1/lamdas, train_RMSEs, label = 'Training RMSE', marker = 'o')\n",
        "    plt.plot(1/lamdas, val_RMSEs, label = 'Validation RMSE', marker = 'x')\n",
        "    plt.xlabel('1/lambda')\n",
        "    plt.ylabel('RMSE')\n",
        "    plt.title('1/lambda vs RMSE (Regularized Linear Regression Model)')\n",
        "    plt.xscale('log')\n",
        "    plt.legend()\n",
        "    plt.grid()\n",
        "    plt.show()"
      ]
    },
    {
      "cell_type": "code",
      "execution_count": 85,
      "metadata": {},
      "outputs": [
        {
          "data": {
            "image/png": "[encoded data removed]",
            "text/plain": [
              "<Figure size 1440x576 with 1 Axes>"
            ]
          },
          "metadata": {
            "needs_background": "light"
          },
          "output_type": "display_data"
        }
      ],
      "source": [
        "# linear regression using pseudo-invers\n",
        "\n",
        "lamdas = np.logspace(-5,2,20) # lambda values in log scale\n",
        "pinv_main(lamdas) # Run main program"
      ]
    },
    {
      "cell_type": "markdown",
      "metadata": {},
      "source": [
        "We observe that on using the pseudo inverse method, the RMSE saturates for $\\frac{1}{\\lambda} \\geq 0.1$. Taking complexity into consideration, $\\frac{1}{\\lambda} = 1$ is an optimal value of lambda. We shall now find the weights and NRMSEs of the training and validation data sets the above value."
      ]
    },
    {
      "cell_type": "code",
      "execution_count": 86,
      "metadata": {},
      "outputs": [
        {
          "name": "stdout",
          "output_type": "stream",
          "text": [
            "Optimum weights for pseudo inverse method: \n",
            "[ 5.12072085e-01  1.44398389e-01  4.27298298e-01 -1.25335401e-01\n",
            "  1.87473151e+00  1.49362293e-01 -4.10246907e-01  2.53869649e-01\n",
            " -3.08671815e-01 -1.83725192e-01 -1.58570100e-01 -2.41220172e-01\n",
            " -6.34892535e-02  1.64088578e-01 -2.50187332e-02 -1.23628516e-02\n",
            " -6.19758895e-02 -1.28724428e-01 -2.18215655e-01  2.76485747e-01\n",
            "  5.32706122e-02  3.02718249e+01]\n",
            "The validation RMSE for pseudo inverse method is 1.4296542151790246\n",
            "The validation NRMSE for pseudo inverse method is 0.47559070456930425\n"
          ]
        }
      ],
      "source": [
        "w_opt ,_ , validation_RMSE = pinv_model(1)\n",
        "validation_NRMSE = NRMSE_Metric(X_val, t_val, w_opt)\n",
        "print('Optimum weights for pseudo inverse method: ')\n",
        "print(w_opt)\n",
        "print(f'The validation RMSE for pseudo inverse method is {validation_RMSE}')\n",
        "print(f'The validation NRMSE for pseudo inverse method is {validation_NRMSE}')"
      ]
    },
    {
      "cell_type": "markdown",
      "metadata": {},
      "source": [
        "# Observations and Conclusions"
      ]
    },
    {
      "cell_type": "markdown",
      "metadata": {
        "deletable": false,
        "editable": false,
        "id": "O-I-RvdsAKgJ",
        "nbgrader": {
          "cell_type": "markdown",
          "checksum": "de7f27538e4ad9db84b046b2752843f1",
          "grade": false,
          "grade_id": "cell-8a98f665f9567cec",
          "locked": true,
          "schema_version": 3,
          "solution": false,
          "task": false
        }
      },
      "source": [
        "#**... Part 2 ends.**\n",
        "\n",
        "1. Write the name or roll no.s of friends from outside your group with whom you discussed the assignment here (no penalty for mere discussion without copying code): \n",
        "2. Write the links of sources on the internet referred here (no penalty for mere consultation without copying code): "
      ]
    }
  ],
  "metadata": {
    "colab": {
      "collapsed_sections": [],
      "include_colab_link": true,
      "name": "Assignment_1_Instructions_Template_v3.ipynb",
      "provenance": []
    },
    "kernelspec": {
      "display_name": "Python 3",
      "language": "python",
      "name": "python3"
    },
    "language_info": {
      "codemirror_mode": {
        "name": "ipython",
        "version": 3
      },
      "file_extension": ".py",
      "mimetype": "text/x-python",
      "name": "python",
      "nbconvert_exporter": "python",
      "pygments_lexer": "ipython3",
      "version": "3.9.7"
    }
  },
  "nbformat": 4,
  "nbformat_minor": 0
}
